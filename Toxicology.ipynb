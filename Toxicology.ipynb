{
  "cells": [
    {
      "cell_type": "markdown",
      "metadata": {
        "id": "view-in-github",
        "colab_type": "text"
      },
      "source": [
        "<a href=\"https://colab.research.google.com/github/Ishola-github/InfernoRDN/blob/master/Toxicology.ipynb\" target=\"_parent\"><img src=\"https://colab.research.google.com/assets/colab-badge.svg\" alt=\"Open In Colab\"/></a>"
      ]
    },
    {
      "cell_type": "code",
      "execution_count": 226,
      "metadata": {
        "colab": {
          "base_uri": "https://localhost:8080/"
        },
        "id": "DeeQWX3aBsZw",
        "outputId": "6f013fc4-38af-4108-e7f3-3adff613b396"
      },
      "outputs": [
        {
          "output_type": "stream",
          "name": "stdout",
          "text": [
            "Requirement already satisfied: rdkit-pypi in /usr/local/lib/python3.11/dist-packages (2022.9.5)\n",
            "Requirement already satisfied: mordred in /usr/local/lib/python3.11/dist-packages (1.2.0)\n",
            "Requirement already satisfied: pandas in /usr/local/lib/python3.11/dist-packages (2.2.2)\n",
            "Requirement already satisfied: scikit-learn in /usr/local/lib/python3.11/dist-packages (1.6.1)\n",
            "Requirement already satisfied: matplotlib in /usr/local/lib/python3.11/dist-packages (3.10.0)\n",
            "Requirement already satisfied: numpy in /usr/local/lib/python3.11/dist-packages (from rdkit-pypi) (1.26.4)\n",
            "Requirement already satisfied: Pillow in /usr/local/lib/python3.11/dist-packages (from rdkit-pypi) (11.3.0)\n",
            "Requirement already satisfied: six==1.* in /usr/local/lib/python3.11/dist-packages (from mordred) (1.17.0)\n",
            "Requirement already satisfied: networkx==2.* in /usr/local/lib/python3.11/dist-packages (from mordred) (2.8.8)\n",
            "Requirement already satisfied: python-dateutil>=2.8.2 in /usr/local/lib/python3.11/dist-packages (from pandas) (2.9.0.post0)\n",
            "Requirement already satisfied: pytz>=2020.1 in /usr/local/lib/python3.11/dist-packages (from pandas) (2025.2)\n",
            "Requirement already satisfied: tzdata>=2022.7 in /usr/local/lib/python3.11/dist-packages (from pandas) (2025.2)\n",
            "Requirement already satisfied: scipy>=1.6.0 in /usr/local/lib/python3.11/dist-packages (from scikit-learn) (1.16.0)\n",
            "Requirement already satisfied: joblib>=1.2.0 in /usr/local/lib/python3.11/dist-packages (from scikit-learn) (1.5.1)\n",
            "Requirement already satisfied: threadpoolctl>=3.1.0 in /usr/local/lib/python3.11/dist-packages (from scikit-learn) (3.6.0)\n",
            "Requirement already satisfied: contourpy>=1.0.1 in /usr/local/lib/python3.11/dist-packages (from matplotlib) (1.3.2)\n",
            "Requirement already satisfied: cycler>=0.10 in /usr/local/lib/python3.11/dist-packages (from matplotlib) (0.12.1)\n",
            "Requirement already satisfied: fonttools>=4.22.0 in /usr/local/lib/python3.11/dist-packages (from matplotlib) (4.59.0)\n",
            "Requirement already satisfied: kiwisolver>=1.3.1 in /usr/local/lib/python3.11/dist-packages (from matplotlib) (1.4.8)\n",
            "Requirement already satisfied: packaging>=20.0 in /usr/local/lib/python3.11/dist-packages (from matplotlib) (25.0)\n",
            "Requirement already satisfied: pyparsing>=2.3.1 in /usr/local/lib/python3.11/dist-packages (from matplotlib) (3.2.3)\n"
          ]
        }
      ],
      "source": [
        "# Install dependencies\n",
        "!pip install rdkit-pypi mordred pandas scikit-learn matplotlib\n"
      ]
    },
    {
      "cell_type": "code",
      "execution_count": 227,
      "metadata": {
        "id": "I7r3D_6CCAsx"
      },
      "outputs": [],
      "source": [
        "import pandas as pd\n",
        "\n",
        "# Sample SMILES and clearance (mL/min/kg) — dummy data\n",
        "data = {\n",
        "    'SMILES': [\n",
        "        'CC(=O)OC1=CC=CC=C1C(=O)O',     # Aspirin\n",
        "        'CC(C)CC1=CC=C(C=C1)C(C)C(=O)O', # Ibuprofen\n",
        "        'CC(CN1C=NC2=C1C(=O)N(C(=O)N2C)C)O', # Caffeine\n",
        "    ],\n",
        "    'clearance': [3.1, 1.2, 2.5]  # example values\n",
        "}\n",
        "df = pd.DataFrame(data)\n"
      ]
    },
    {
      "cell_type": "code",
      "execution_count": 228,
      "metadata": {
        "colab": {
          "base_uri": "https://localhost:8080/"
        },
        "id": "kmn1AqKoCG-j",
        "outputId": "14a52ff4-18d7-4b99-c714-417147b9da68"
      },
      "outputs": [
        {
          "output_type": "stream",
          "name": "stderr",
          "text": [
            "100%|██████████| 3/3 [00:00<00:00,  6.18it/s]\n"
          ]
        }
      ],
      "source": [
        "from rdkit import Chem\n",
        "from mordred import Calculator, descriptors\n",
        "\n",
        "# Convert SMILES to RDKit molecules\n",
        "df['mol'] = df['SMILES'].apply(Chem.MolFromSmiles)\n",
        "\n",
        "# Generate descriptors\n",
        "calc = Calculator(descriptors, ignore_3D=True)\n",
        "desc_df = calc.pandas(df['mol'])\n",
        "desc_df = desc_df.fillna(0)\n",
        "\n",
        "# Merge with target\n",
        "X = desc_df\n",
        "y = df['clearance']\n"
      ]
    },
    {
      "cell_type": "code",
      "execution_count": 229,
      "metadata": {
        "colab": {
          "base_uri": "https://localhost:8080/"
        },
        "id": "uUjjnYaRCNsF",
        "outputId": "0ba220a3-e3e9-4142-9daa-98736075aa66"
      },
      "outputs": [
        {
          "output_type": "stream",
          "name": "stdout",
          "text": [
            "✅ Model trained\n"
          ]
        }
      ],
      "source": [
        "from sklearn.ensemble import RandomForestRegressor\n",
        "from sklearn.model_selection import train_test_split\n",
        "\n",
        "X_train, X_test, y_train, y_test = train_test_split(X, y, test_size=0.2, random_state=42)\n",
        "\n",
        "model = RandomForestRegressor()\n",
        "model.fit(X_train, y_train)\n",
        "\n",
        "print(\"✅ Model trained\")\n"
      ]
    },
    {
      "cell_type": "code",
      "execution_count": 230,
      "metadata": {
        "colab": {
          "base_uri": "https://localhost:8080/"
        },
        "id": "67pKZSxDCZ8e",
        "outputId": "415c938c-b8be-49e0-98b2-40ade5536ff3"
      },
      "outputs": [
        {
          "output_type": "stream",
          "name": "stdout",
          "text": [
            "True: 3.10, Predicted: 2.03\n"
          ]
        }
      ],
      "source": [
        "# Predict on test set\n",
        "y_pred = model.predict(X_test)\n",
        "\n",
        "# Show result\n",
        "for true_val, pred_val in zip(y_test, y_pred):\n",
        "    print(f\"True: {true_val:.2f}, Predicted: {pred_val:.2f}\")\n"
      ]
    },
    {
      "cell_type": "code",
      "execution_count": 231,
      "metadata": {
        "colab": {
          "base_uri": "https://localhost:8080/",
          "height": 472
        },
        "id": "za7qP1PVCdWh",
        "outputId": "ced527ea-6d2f-413b-8cec-25f30e6b111f"
      },
      "outputs": [
        {
          "output_type": "display_data",
          "data": {
            "text/plain": [
              "<Figure size 640x480 with 1 Axes>"
            ],
            "image/png": "[encoded data removed]"
          },
          "metadata": {}
        }
      ],
      "source": [
        "import numpy as np\n",
        "import matplotlib.pyplot as plt\n",
        "\n",
        "# Use predicted clearance\n",
        "CL = y_pred[0]  # mL/min/kg\n",
        "Vd = 70         # mL/kg (assumed)\n",
        "Dose = 100      # mg\n",
        "\n",
        "# Calculate initial concentration\n",
        "C0 = Dose / Vd\n",
        "\n",
        "# Time grid\n",
        "time = np.linspace(0, 24, 100)\n",
        "k = CL / Vd\n",
        "concentration = C0 * np.exp(-k * time)\n",
        "\n",
        "# Plot\n",
        "plt.plot(time, concentration)\n",
        "plt.title(\"Simulated Plasma Concentration (PBPK 1-compartment)\")\n",
        "plt.xlabel(\"Time (h)\")\n",
        "plt.ylabel(\"Concentration (mg/L)\")\n",
        "plt.grid()\n",
        "plt.show()\n"
      ]
    },
    {
      "cell_type": "code",
      "execution_count": 232,
      "metadata": {
        "colab": {
          "base_uri": "https://localhost:8080/"
        },
        "id": "6OrribpnHaNN",
        "outputId": "962431bb-5472-48c6-9918-6b395ed9b2e7"
      },
      "outputs": [
        {
          "output_type": "stream",
          "name": "stdout",
          "text": [
            "Requirement already satisfied: huggingface_hub in /usr/local/lib/python3.11/dist-packages (0.34.1)\n",
            "Requirement already satisfied: filelock in /usr/local/lib/python3.11/dist-packages (from huggingface_hub) (3.18.0)\n",
            "Requirement already satisfied: fsspec>=2023.5.0 in /usr/local/lib/python3.11/dist-packages (from huggingface_hub) (2025.3.0)\n",
            "Requirement already satisfied: packaging>=20.9 in /usr/local/lib/python3.11/dist-packages (from huggingface_hub) (25.0)\n",
            "Requirement already satisfied: pyyaml>=5.1 in /usr/local/lib/python3.11/dist-packages (from huggingface_hub) (6.0.2)\n",
            "Requirement already satisfied: requests in /usr/local/lib/python3.11/dist-packages (from huggingface_hub) (2.32.3)\n",
            "Requirement already satisfied: tqdm>=4.42.1 in /usr/local/lib/python3.11/dist-packages (from huggingface_hub) (4.67.1)\n",
            "Requirement already satisfied: typing-extensions>=3.7.4.3 in /usr/local/lib/python3.11/dist-packages (from huggingface_hub) (4.14.1)\n",
            "Requirement already satisfied: hf-xet<2.0.0,>=1.1.3 in /usr/local/lib/python3.11/dist-packages (from huggingface_hub) (1.1.5)\n",
            "Requirement already satisfied: charset-normalizer<4,>=2 in /usr/local/lib/python3.11/dist-packages (from requests->huggingface_hub) (3.4.2)\n",
            "Requirement already satisfied: idna<4,>=2.5 in /usr/local/lib/python3.11/dist-packages (from requests->huggingface_hub) (3.10)\n",
            "Requirement already satisfied: urllib3<3,>=1.21.1 in /usr/local/lib/python3.11/dist-packages (from requests->huggingface_hub) (2.5.0)\n",
            "Requirement already satisfied: certifi>=2017.4.17 in /usr/local/lib/python3.11/dist-packages (from requests->huggingface_hub) (2025.7.14)\n"
          ]
        }
      ],
      "source": [
        "pip install huggingface_hub"
      ]
    },
    {
      "cell_type": "code",
      "execution_count": 233,
      "metadata": {
        "id": "TL-M9RivbVsU"
      },
      "outputs": [],
      "source": [
        "from datasets import load_dataset\n",
        "\n",
        "# Load the dataset from Hugging Face Hub\n",
        "ds = load_dataset(\"Shishir1807/llama_drugs\")\n"
      ]
    },
    {
      "cell_type": "code",
      "execution_count": 234,
      "metadata": {
        "colab": {
          "base_uri": "https://localhost:8080/"
        },
        "id": "0FEOefQ6caeO",
        "outputId": "794e27b1-b389-4929-d77a-be579b9307ff"
      },
      "outputs": [
        {
          "output_type": "execute_result",
          "data": {
            "text/plain": [
              "{'instruction': Value('string'),\n",
              " 'input': Value('string'),\n",
              " 'output': Value('string')}"
            ]
          },
          "metadata": {},
          "execution_count": 234
        }
      ],
      "source": [
        "ds['train'].features\n"
      ]
    },
    {
      "cell_type": "code",
      "execution_count": 235,
      "metadata": {
        "colab": {
          "base_uri": "https://localhost:8080/"
        },
        "id": "efpxPO-3cemu",
        "outputId": "13238229-2dca-4486-ab13-756983750a7d"
      },
      "outputs": [
        {
          "output_type": "execute_result",
          "data": {
            "text/plain": [
              "{'instruction': 'Identify drugs from the given text',\n",
              " 'input': 'Clinical Outcomes in Patients with Mantle Cell Lymphoma Who Received Autologous Stem Cell Transplant in the Second Line Setting',\n",
              " 'output': 'Autologous Stem Cell'}"
            ]
          },
          "metadata": {},
          "execution_count": 235
        }
      ],
      "source": [
        "ds['train'][0]\n"
      ]
    },
    {
      "cell_type": "code",
      "execution_count": 236,
      "metadata": {
        "colab": {
          "base_uri": "https://localhost:8080/",
          "height": 293
        },
        "id": "iRZKdryscjkp",
        "outputId": "76dab3a6-aff6-487e-fabc-c9e89bfed82e"
      },
      "outputs": [
        {
          "output_type": "execute_result",
          "data": {
            "text/plain": [
              "                          instruction  \\\n",
              "0  Identify drugs from the given text   \n",
              "1  Identify drugs from the given text   \n",
              "2  Identify drugs from the given text   \n",
              "3  Identify drugs from the given text   \n",
              "4  Identify drugs from the given text   \n",
              "\n",
              "                                               input  \\\n",
              "0  Clinical Outcomes in Patients with Mantle Cell...   \n",
              "1  Assessing real-world survival outcomes of pati...   \n",
              "2  Cannabidiol improves learning and memory in ex...   \n",
              "3  Acalabrutinib Plus RICE Followed By Autologous...   \n",
              "4  Dasatinib attenuates Src pathway signaling and...   \n",
              "\n",
              "                              output  \n",
              "0               Autologous Stem Cell  \n",
              "1              FOLFIRINOX;;NALIRIFOX  \n",
              "2                        Cannabidiol  \n",
              "3                      Acalabrutinib  \n",
              "4  Carboplatin;;Dasatinib;;Veliparib  "
            ],
            "text/html": [
              "\n",
              "  <div id=\"df-b94be465-1927-419c-af1e-1dc5c4aa2398\" class=\"colab-df-container\">\n",
              "    <div>\n",
              "<style scoped>\n",
              "    .dataframe tbody tr th:only-of-type {\n",
              "        vertical-align: middle;\n",
              "    }\n",
              "\n",
              "    .dataframe tbody tr th {\n",
              "        vertical-align: top;\n",
              "    }\n",
              "\n",
              "    .dataframe thead th {\n",
              "        text-align: right;\n",
              "    }\n",
              "</style>\n",
              "<table border=\"1\" class=\"dataframe\">\n",
              "  <thead>\n",
              "    <tr style=\"text-align: right;\">\n",
              "      <th></th>\n",
              "      <th>instruction</th>\n",
              "      <th>input</th>\n",
              "      <th>output</th>\n",
              "    </tr>\n",
              "  </thead>\n",
              "  <tbody>\n",
              "    <tr>\n",
              "      <th>0</th>\n",
              "      <td>Identify drugs from the given text</td>\n",
              "      <td>Clinical Outcomes in Patients with Mantle Cell...</td>\n",
              "      <td>Autologous Stem Cell</td>\n",
              "    </tr>\n",
              "    <tr>\n",
              "      <th>1</th>\n",
              "      <td>Identify drugs from the given text</td>\n",
              "      <td>Assessing real-world survival outcomes of pati...</td>\n",
              "      <td>FOLFIRINOX;;NALIRIFOX</td>\n",
              "    </tr>\n",
              "    <tr>\n",
              "      <th>2</th>\n",
              "      <td>Identify drugs from the given text</td>\n",
              "      <td>Cannabidiol improves learning and memory in ex...</td>\n",
              "      <td>Cannabidiol</td>\n",
              "    </tr>\n",
              "    <tr>\n",
              "      <th>3</th>\n",
              "      <td>Identify drugs from the given text</td>\n",
              "      <td>Acalabrutinib Plus RICE Followed By Autologous...</td>\n",
              "      <td>Acalabrutinib</td>\n",
              "    </tr>\n",
              "    <tr>\n",
              "      <th>4</th>\n",
              "      <td>Identify drugs from the given text</td>\n",
              "      <td>Dasatinib attenuates Src pathway signaling and...</td>\n",
              "      <td>Carboplatin;;Dasatinib;;Veliparib</td>\n",
              "    </tr>\n",
              "  </tbody>\n",
              "</table>\n",
              "</div>\n",
              "    <div class=\"colab-df-buttons\">\n",
              "\n",
              "  <div class=\"colab-df-container\">\n",
              "    <button class=\"colab-df-convert\" onclick=\"convertToInteractive('df-b94be465-1927-419c-af1e-1dc5c4aa2398')\"\n",
              "            title=\"Convert this dataframe to an interactive table.\"\n",
              "            style=\"display:none;\">\n",
              "\n",
              "  <svg xmlns=\"http://www.w3.org/2000/svg\" height=\"24px\" viewBox=\"0 -960 960 960\">\n",
              "    <path d=\"M120-120v-720h720v720H120Zm60-500h600v-160H180v160Zm220 220h160v-160H400v160Zm0 220h160v-160H400v160ZM180-400h160v-160H180v160Zm440 0h160v-160H620v160ZM180-180h160v-160H180v160Zm440 0h160v-160H620v160Z\"/>\n",
              "  </svg>\n",
              "    </button>\n",
              "\n",
              "  <style>\n",
              "    .colab-df-container {\n",
              "      display:flex;\n",
              "      gap: 12px;\n",
              "    }\n",
              "\n",
              "    .colab-df-convert {\n",
              "      background-color: #E8F0FE;\n",
              "      border: none;\n",
              "      border-radius: 50%;\n",
              "      cursor: pointer;\n",
              "      display: none;\n",
              "      fill: #1967D2;\n",
              "      height: 32px;\n",
              "      padding: 0 0 0 0;\n",
              "      width: 32px;\n",
              "    }\n",
              "\n",
              "    .colab-df-convert:hover {\n",
              "      background-color: #E2EBFA;\n",
              "      box-shadow: 0px 1px 2px rgba(60, 64, 67, 0.3), 0px 1px 3px 1px rgba(60, 64, 67, 0.15);\n",
              "      fill: #174EA6;\n",
              "    }\n",
              "\n",
              "    .colab-df-buttons div {\n",
              "      margin-bottom: 4px;\n",
              "    }\n",
              "\n",
              "    [theme=dark] .colab-df-convert {\n",
              "      background-color: #3B4455;\n",
              "      fill: #D2E3FC;\n",
              "    }\n",
              "\n",
              "    [theme=dark] .colab-df-convert:hover {\n",
              "      background-color: #434B5C;\n",
              "      box-shadow: 0px 1px 3px 1px rgba(0, 0, 0, 0.15);\n",
              "      filter: drop-shadow(0px 1px 2px rgba(0, 0, 0, 0.3));\n",
              "      fill: #FFFFFF;\n",
              "    }\n",
              "  </style>\n",
              "\n",
              "    <script>\n",
              "      const buttonEl =\n",
              "        document.querySelector('#df-b94be465-1927-419c-af1e-1dc5c4aa2398 button.colab-df-convert');\n",
              "      buttonEl.style.display =\n",
              "        google.colab.kernel.accessAllowed ? 'block' : 'none';\n",
              "\n",
              "      async function convertToInteractive(key) {\n",
              "        const element = document.querySelector('#df-b94be465-1927-419c-af1e-1dc5c4aa2398');\n",
              "        const dataTable =\n",
              "          await google.colab.kernel.invokeFunction('convertToInteractive',\n",
              "                                                    [key], {});\n",
              "        if (!dataTable) return;\n",
              "\n",
              "        const docLinkHtml = 'Like what you see? Visit the ' +\n",
              "          '<a target=\"_blank\" href=https://colab.research.google.com/notebooks/data_table.ipynb>data table notebook</a>'\n",
              "          + ' to learn more about interactive tables.';\n",
              "        element.innerHTML = '';\n",
              "        dataTable['output_type'] = 'display_data';\n",
              "        await google.colab.output.renderOutput(dataTable, element);\n",
              "        const docLink = document.createElement('div');\n",
              "        docLink.innerHTML = docLinkHtml;\n",
              "        element.appendChild(docLink);\n",
              "      }\n",
              "    </script>\n",
              "  </div>\n",
              "\n",
              "\n",
              "    <div id=\"df-a1427170-b691-4125-bd06-0f528e6b0cdf\">\n",
              "      <button class=\"colab-df-quickchart\" onclick=\"quickchart('df-a1427170-b691-4125-bd06-0f528e6b0cdf')\"\n",
              "                title=\"Suggest charts\"\n",
              "                style=\"display:none;\">\n",
              "\n",
              "<svg xmlns=\"http://www.w3.org/2000/svg\" height=\"24px\"viewBox=\"0 0 24 24\"\n",
              "     width=\"24px\">\n",
              "    <g>\n",
              "        <path d=\"M19 3H5c-1.1 0-2 .9-2 2v14c0 1.1.9 2 2 2h14c1.1 0 2-.9 2-2V5c0-1.1-.9-2-2-2zM9 17H7v-7h2v7zm4 0h-2V7h2v10zm4 0h-2v-4h2v4z\"/>\n",
              "    </g>\n",
              "</svg>\n",
              "      </button>\n",
              "\n",
              "<style>\n",
              "  .colab-df-quickchart {\n",
              "      --bg-color: #E8F0FE;\n",
              "      --fill-color: #1967D2;\n",
              "      --hover-bg-color: #E2EBFA;\n",
              "      --hover-fill-color: #174EA6;\n",
              "      --disabled-fill-color: #AAA;\n",
              "      --disabled-bg-color: #DDD;\n",
              "  }\n",
              "\n",
              "  [theme=dark] .colab-df-quickchart {\n",
              "      --bg-color: #3B4455;\n",
              "      --fill-color: #D2E3FC;\n",
              "      --hover-bg-color: #434B5C;\n",
              "      --hover-fill-color: #FFFFFF;\n",
              "      --disabled-bg-color: #3B4455;\n",
              "      --disabled-fill-color: #666;\n",
              "  }\n",
              "\n",
              "  .colab-df-quickchart {\n",
              "    background-color: var(--bg-color);\n",
              "    border: none;\n",
              "    border-radius: 50%;\n",
              "    cursor: pointer;\n",
              "    display: none;\n",
              "    fill: var(--fill-color);\n",
              "    height: 32px;\n",
              "    padding: 0;\n",
              "    width: 32px;\n",
              "  }\n",
              "\n",
              "  .colab-df-quickchart:hover {\n",
              "    background-color: var(--hover-bg-color);\n",
              "    box-shadow: 0 1px 2px rgba(60, 64, 67, 0.3), 0 1px 3px 1px rgba(60, 64, 67, 0.15);\n",
              "    fill: var(--button-hover-fill-color);\n",
              "  }\n",
              "\n",
              "  .colab-df-quickchart-complete:disabled,\n",
              "  .colab-df-quickchart-complete:disabled:hover {\n",
              "    background-color: var(--disabled-bg-color);\n",
              "    fill: var(--disabled-fill-color);\n",
              "    box-shadow: none;\n",
              "  }\n",
              "\n",
              "  .colab-df-spinner {\n",
              "    border: 2px solid var(--fill-color);\n",
              "    border-color: transparent;\n",
              "    border-bottom-color: var(--fill-color);\n",
              "    animation:\n",
              "      spin 1s steps(1) infinite;\n",
              "  }\n",
              "\n",
              "  @keyframes spin {\n",
              "    0% {\n",
              "      border-color: transparent;\n",
              "      border-bottom-color: var(--fill-color);\n",
              "      border-left-color: var(--fill-color);\n",
              "    }\n",
              "    20% {\n",
              "      border-color: transparent;\n",
              "      border-left-color: var(--fill-color);\n",
              "      border-top-color: var(--fill-color);\n",
              "    }\n",
              "    30% {\n",
              "      border-color: transparent;\n",
              "      border-left-color: var(--fill-color);\n",
              "      border-top-color: var(--fill-color);\n",
              "      border-right-color: var(--fill-color);\n",
              "    }\n",
              "    40% {\n",
              "      border-color: transparent;\n",
              "      border-right-color: var(--fill-color);\n",
              "      border-top-color: var(--fill-color);\n",
              "    }\n",
              "    60% {\n",
              "      border-color: transparent;\n",
              "      border-right-color: var(--fill-color);\n",
              "    }\n",
              "    80% {\n",
              "      border-color: transparent;\n",
              "      border-right-color: var(--fill-color);\n",
              "      border-bottom-color: var(--fill-color);\n",
              "    }\n",
              "    90% {\n",
              "      border-color: transparent;\n",
              "      border-bottom-color: var(--fill-color);\n",
              "    }\n",
              "  }\n",
              "</style>\n",
              "\n",
              "      <script>\n",
              "        async function quickchart(key) {\n",
              "          const quickchartButtonEl =\n",
              "            document.querySelector('#' + key + ' button');\n",
              "          quickchartButtonEl.disabled = true;  // To prevent multiple clicks.\n",
              "          quickchartButtonEl.classList.add('colab-df-spinner');\n",
              "          try {\n",
              "            const charts = await google.colab.kernel.invokeFunction(\n",
              "                'suggestCharts', [key], {});\n",
              "          } catch (error) {\n",
              "            console.error('Error during call to suggestCharts:', error);\n",
              "          }\n",
              "          quickchartButtonEl.classList.remove('colab-df-spinner');\n",
              "          quickchartButtonEl.classList.add('colab-df-quickchart-complete');\n",
              "        }\n",
              "        (() => {\n",
              "          let quickchartButtonEl =\n",
              "            document.querySelector('#df-a1427170-b691-4125-bd06-0f528e6b0cdf button');\n",
              "          quickchartButtonEl.style.display =\n",
              "            google.colab.kernel.accessAllowed ? 'block' : 'none';\n",
              "        })();\n",
              "      </script>\n",
              "    </div>\n",
              "\n",
              "    </div>\n",
              "  </div>\n"
            ],
            "application/vnd.google.colaboratory.intrinsic+json": {
              "type": "dataframe",
              "variable_name": "df",
              "summary": "{\n  \"name\": \"df\",\n  \"rows\": 4999,\n  \"fields\": [\n    {\n      \"column\": \"instruction\",\n      \"properties\": {\n        \"dtype\": \"category\",\n        \"num_unique_values\": 1,\n        \"samples\": [\n          \"Identify drugs from the given text\"\n        ],\n        \"semantic_type\": \"\",\n        \"description\": \"\"\n      }\n    },\n    {\n      \"column\": \"input\",\n      \"properties\": {\n        \"dtype\": \"string\",\n        \"num_unique_values\": 4999,\n        \"samples\": [\n          \"A phase 1b, multicenter, dose-escalation study of subasumstat (TAK-981) in combination with pembrolizumab in patients (pts) with advanced solid tumors.\"\n        ],\n        \"semantic_type\": \"\",\n        \"description\": \"\"\n      }\n    },\n    {\n      \"column\": \"output\",\n      \"properties\": {\n        \"dtype\": \"string\",\n        \"num_unique_values\": 2832,\n        \"samples\": [\n          \"Bevacizumab;;FOLFIRI;;Onvansertib\"\n        ],\n        \"semantic_type\": \"\",\n        \"description\": \"\"\n      }\n    }\n  ]\n}"
            }
          },
          "metadata": {},
          "execution_count": 236
        }
      ],
      "source": [
        "df = ds['train'].to_pandas()\n",
        "df.head()\n"
      ]
    },
    {
      "cell_type": "code",
      "execution_count": 237,
      "metadata": {
        "colab": {
          "base_uri": "https://localhost:8080/"
        },
        "id": "86AdvW_JdgPD",
        "outputId": "1d477f4e-545c-45f8-9957-8aafb89e69d6"
      },
      "outputs": [
        {
          "output_type": "execute_result",
          "data": {
            "text/plain": [
              "Index(['instruction', 'input', 'output'], dtype='object')"
            ]
          },
          "metadata": {},
          "execution_count": 237
        }
      ],
      "source": [
        "df.columns\n"
      ]
    },
    {
      "cell_type": "code",
      "execution_count": 238,
      "metadata": {
        "colab": {
          "base_uri": "https://localhost:8080/"
        },
        "id": "rmS05Q8Zdmoy",
        "outputId": "f96f06b0-42b6-457d-83e8-9d2487ebfdb2"
      },
      "outputs": [
        {
          "output_type": "stream",
          "name": "stdout",
          "text": [
            "['instruction', 'input', 'output']\n"
          ]
        }
      ],
      "source": [
        "print(list(df.columns))\n"
      ]
    },
    {
      "cell_type": "code",
      "execution_count": 239,
      "metadata": {
        "colab": {
          "base_uri": "https://localhost:8080/"
        },
        "id": "RQYpv5tHdtYQ",
        "outputId": "f30d833c-bbb9-4600-9325-c5744fbb1630"
      },
      "outputs": [
        {
          "output_type": "execute_result",
          "data": {
            "text/plain": [
              "['Clinical Outcomes in Patients with Mantle Cell Lymphoma Who Received Autologous Stem Cell Transplant in the Second Line Setting',\n",
              " 'Assessing real-world survival outcomes of patients (pts) with metastatic pancreatic ductal adenocarcinoma (mPDAC) treated with first-line FOLFIRINOX compared to patients from a phase 1/2 trial treated with NALIRIFOX.',\n",
              " 'Cannabidiol improves learning and memory in experimental model of scopolamine-induced memory impairment',\n",
              " 'Acalabrutinib Plus RICE Followed By Autologous Hematopoietic Cell Transplantation and/or Acalabrutinib Maintenance Therapy for Patients with Relapsed/Refractory Diffuse Large B-Cell Lymphoma',\n",
              " 'Dasatinib attenuates Src pathway signaling and combined with veliparib and carboplatin potently inhibits tumor growth in PTEN-null TNBC model',\n",
              " 'A High Throughput Quantitative Seroproteomics Analysis of Multiple Myeloma Patients on Tagraxofusp Therapy Identifies Novel Cytokine-Assisted Mechanism of Action',\n",
              " 'Adjuvant oxaliplatin and fall-related injury in patients with colorectal cancer.',\n",
              " 'Amelioration of the pathologic changes in the hepatocyte-specific BRAF V600E mutated mice by administration of aspirin',\n",
              " 'B Cell Tailored Ocrelizumab In Relapsing Multiple Sclerosis: Protocol Of A Randomized Controlled Trial',\n",
              " 'A Phase 1 Dose Escalation and Expansion Study of the anti-CD200R1 Antibody 23ME-00610 in Patients with Advanced Solid Malignancies']"
            ]
          },
          "metadata": {},
          "execution_count": 239
        }
      ],
      "source": [
        "df['input'].head(10).to_list()\n"
      ]
    },
    {
      "cell_type": "code",
      "execution_count": 240,
      "metadata": {
        "colab": {
          "base_uri": "https://localhost:8080/",
          "height": 36
        },
        "id": "31Vf3vcXdwJo",
        "outputId": "547a1d1e-2d2c-49bd-8f4b-038473155712"
      },
      "outputs": [
        {
          "output_type": "execute_result",
          "data": {
            "text/plain": [
              "'SMILES: CC(=O)OC1=CC=CC=C1C(=O)O'"
            ],
            "application/vnd.google.colaboratory.intrinsic+json": {
              "type": "string"
            }
          },
          "metadata": {},
          "execution_count": 240
        }
      ],
      "source": [
        "\"SMILES: CC(=O)OC1=CC=CC=C1C(=O)O\"\n"
      ]
    },
    {
      "cell_type": "code",
      "execution_count": 241,
      "metadata": {
        "id": "j9PBgPiud3ZF"
      },
      "outputs": [],
      "source": [
        "import re\n",
        "\n",
        "df['smiles'] = df['input'].apply(lambda x: re.findall(r'SMILES:\\s*(\\S+)', x)[0] if 'SMILES:' in x else None)\n",
        "df = df.dropna(subset=['smiles'])\n"
      ]
    },
    {
      "cell_type": "code",
      "execution_count": 242,
      "metadata": {
        "colab": {
          "base_uri": "https://localhost:8080/",
          "height": 472
        },
        "id": "nJy6rQz-DsYo",
        "outputId": "6726dd07-ea6b-4429-8a87-cb568a04a41f"
      },
      "outputs": [
        {
          "output_type": "display_data",
          "data": {
            "text/plain": [
              "<Figure size 640x480 with 1 Axes>"
            ],
            "image/png": "[encoded data removed]"
          },
          "metadata": {}
        }
      ],
      "source": [
        "from scipy.integrate import odeint\n",
        "\n",
        "# Parameters (units in mL/min/kg or mg/L)\n",
        "Dose = 100  # mg\n",
        "Vd_blood, Vd_liver, Vd_kidney = 15, 30, 25\n",
        "CL_liver = 0.5 * CL\n",
        "CL_kidney = 0.5 * CL\n",
        "\n",
        "def pbpk_model(y, t):\n",
        "    Cb, Cl, Ck = y\n",
        "    dCb = -(CL_liver/Vd_blood)*Cb - (CL_kidney/Vd_blood)*Cb\n",
        "    dCl = (CL_liver/Vd_blood)*Cb\n",
        "    dCk = (CL_kidney/Vd_blood)*Cb\n",
        "    return [dCb, dCl, dCk]\n",
        "\n",
        "# Initial concentrations\n",
        "y0 = [Dose/Vd_blood, 0, 0]\n",
        "time = np.linspace(0, 24, 100)\n",
        "result = odeint(pbpk_model, y0, time)\n",
        "\n",
        "# Plot\n",
        "plt.plot(time, result[:, 0], label='Blood')\n",
        "plt.plot(time, result[:, 1], label='Liver')\n",
        "plt.plot(time, result[:, 2], label='Kidney')\n",
        "plt.legend()\n",
        "plt.title(\"PBPK Multi-Organ Simulation\")\n",
        "plt.xlabel(\"Time (h)\")\n",
        "plt.ylabel(\"Concentration (mg/L)\")\n",
        "plt.grid()\n",
        "plt.show()\n"
      ]
    },
    {
      "cell_type": "code",
      "execution_count": 243,
      "metadata": {
        "colab": {
          "base_uri": "https://localhost:8080/",
          "height": 456
        },
        "id": "kTyKn8iaiDMT",
        "outputId": "b0cc31e1-b143-4ebb-d203-3661702a5e4a"
      },
      "outputs": [
        {
          "output_type": "display_data",
          "data": {
            "text/plain": [
              "<Figure size 800x500 with 1 Axes>"
            ],
            "image/png": "[encoded data removed]"
          },
          "metadata": {}
        }
      ],
      "source": [
        "\n",
        "import numpy as np\n",
        "import matplotlib.pyplot as plt\n",
        "\n",
        "# Time array (0 to 24 hours)\n",
        "time = np.linspace(0, 24, 100)\n",
        "\n",
        "# Simulate blood concentration (exponential decay)\n",
        "blood = 7 * np.exp(-0.1 * time)\n",
        "\n",
        "# Simulate liver and kidney using simple transfer equations\n",
        "liver = 2 * (1 - np.exp(-0.15 * time)) * np.exp(-0.03 * time)\n",
        "kidney = 3 * (1 - np.exp(-0.1 * time)) * np.exp(-0.01 * time)\n",
        "\n",
        "# Plot\n",
        "plt.figure(figsize=(8,5))\n",
        "plt.plot(time, blood, label=\"Blood\", color='blue')\n",
        "plt.plot(time, liver, label=\"Liver\", color='orange')\n",
        "plt.plot(time, kidney, label=\"Kidney\", color='green')\n",
        "plt.xlabel(\"Time (h)\")\n",
        "plt.ylabel(\"Concentration (mg/L)\")\n",
        "plt.title(\"PBPK Multi-Organ Simulation\")\n",
        "plt.legend()\n",
        "plt.grid(True)\n",
        "plt.show()\n"
      ]
    },
    {
      "cell_type": "markdown",
      "metadata": {
        "id": "ba76e25f"
      },
      "source": [
        "# Task\n",
        "Build a full QSAR + PBPK + MS/MS app that takes a SMILES string as input and outputs QSAR predictions (specifically clearance), PBPK simulations, and MS/MS spectra."
      ]
    },
    {
      "cell_type": "markdown",
      "metadata": {
        "id": "2a2b2f9e"
      },
      "source": [
        "## Review and refine qsar model\n",
        "\n",
        "### Subtask:\n",
        "Examine the existing QSAR model code, ensuring it's well-structured and the trained model is saved or readily available for use.\n"
      ]
    },
    {
      "cell_type": "markdown",
      "metadata": {
        "id": "ef398e54"
      },
      "source": [
        "**Reasoning**:\n",
        "Review the code cells to identify the QSAR model training and confirm the model object is accessible.\n",
        "\n"
      ]
    },
    {
      "cell_type": "code",
      "execution_count": 244,
      "metadata": {
        "colab": {
          "base_uri": "https://localhost:8080/"
        },
        "id": "81b4a2bd",
        "outputId": "09c7c1c8-a9bc-427c-d175-bcfa3298b249"
      },
      "outputs": [
        {
          "output_type": "stream",
          "name": "stdout",
          "text": [
            "The RandomForestRegressor model is trained in cell uUjjnYaRCNsF and the trained model object is named `model`.\n",
            "Is the 'model' object accessible? True\n"
          ]
        }
      ],
      "source": [
        "# Review the code cells that handle QSAR model training.\n",
        "# Identify where the RandomForestRegressor model is trained.\n",
        "# Confirm that the trained model object, named model, is accessible for subsequent steps.\n",
        "\n",
        "# The model is trained in cell uUjjnYaRCNsF\n",
        "# The model object is named `model` and is accessible in the current environment.\n",
        "\n",
        "print(\"The RandomForestRegressor model is trained in cell uUjjnYaRCNsF and the trained model object is named `model`.\")\n",
        "print(f\"Is the 'model' object accessible? {'model' in globals()}\")"
      ]
    },
    {
      "cell_type": "markdown",
      "metadata": {
        "id": "0a6dbe88"
      },
      "source": [
        "## Integrate qsar with pbpk\n",
        "\n",
        "### Subtask:\n",
        "Connect the QSAR model's predicted clearance values to the PBPK simulation code.\n"
      ]
    },
    {
      "cell_type": "markdown",
      "metadata": {
        "id": "a15598d1"
      },
      "source": [
        "**Reasoning**:\n",
        "Create a function to predict clearance from a SMILES string using the trained QSAR model and integrate it into the PBPK simulation code.\n",
        "\n"
      ]
    },
    {
      "cell_type": "code",
      "execution_count": 245,
      "metadata": {
        "colab": {
          "base_uri": "https://localhost:8080/",
          "height": 564
        },
        "id": "178faf42",
        "outputId": "9873faae-6083-48ca-c90e-8da519a9935e"
      },
      "outputs": [
        {
          "output_type": "stream",
          "name": "stderr",
          "text": [
            "100%|██████████| 1/1 [00:00<00:00,  3.50it/s]\n"
          ]
        },
        {
          "output_type": "stream",
          "name": "stdout",
          "text": [
            "Predicted clearance for CC(=O)OC1=CC=CC=C1C(=O)O: 2.03 mL/min/kg\n"
          ]
        },
        {
          "output_type": "display_data",
          "data": {
            "text/plain": [
              "<Figure size 800x600 with 1 Axes>"
            ],
            "image/png": "[encoded data removed]"
          },
          "metadata": {}
        }
      ],
      "source": [
        "from rdkit import Chem\n",
        "from mordred import Calculator, descriptors\n",
        "import numpy as np\n",
        "from scipy.integrate import odeint\n",
        "import matplotlib.pyplot as plt\n",
        "\n",
        "# Create the Calculator object if it's not already defined\n",
        "if 'calc' not in globals():\n",
        "    calc = Calculator(descriptors, ignore_3D=True)\n",
        "\n",
        "def predict_clearance(smiles):\n",
        "    \"\"\"\n",
        "    Predicts clearance for a given SMILES string using the trained QSAR model.\n",
        "\n",
        "    Args:\n",
        "        smiles (str): The SMILES string of the molecule.\n",
        "\n",
        "    Returns:\n",
        "        float: The predicted clearance value.\n",
        "    \"\"\"\n",
        "    mol = Chem.MolFromSmiles(smiles)\n",
        "    if mol is None:\n",
        "        print(f\"Could not parse SMILES: {smiles}\")\n",
        "        return None\n",
        "\n",
        "    # Generate descriptors\n",
        "    desc_df = calc.pandas([mol])\n",
        "    desc_df = desc_df.fillna(0)\n",
        "\n",
        "    # Predict clearance\n",
        "    predicted_cl = model.predict(desc_df)[0]\n",
        "    return predicted_cl\n",
        "\n",
        "# Hardcoded SMILES for testing\n",
        "test_smiles = 'CC(=O)OC1=CC=CC=C1C(=O)O' # Aspirin\n",
        "\n",
        "# Get predicted clearance using the function\n",
        "CL = predict_clearance(test_smiles)\n",
        "\n",
        "if CL is not None:\n",
        "    print(f\"Predicted clearance for {test_smiles}: {CL:.2f} mL/min/kg\")\n",
        "\n",
        "    # Parameters (units in mL/min/kg or mg/L)\n",
        "    Dose = 100  # mg\n",
        "    Vd_blood, Vd_liver, Vd_kidney = 15, 30, 25\n",
        "\n",
        "    # Assuming clearance is distributed equally between liver and kidney for this example\n",
        "    CL_liver = 0.5 * CL\n",
        "    CL_kidney = 0.5 * CL\n",
        "\n",
        "    def pbpk_model(y, t):\n",
        "        Cb, Cl, Ck = y\n",
        "        # Ensure parameters are treated as floats\n",
        "        dCb = -(float(CL_liver)/Vd_blood)*Cb - (float(CL_kidney)/Vd_blood)*Cb\n",
        "        dCl = (float(CL_liver)/Vd_blood)*Cb\n",
        "        dCk = (float(CL_kidney)/Vd_blood)*Cb\n",
        "        return [dCb, dCl, dCk]\n",
        "\n",
        "    # Initial concentrations\n",
        "    y0 = [Dose/Vd_blood, 0, 0]\n",
        "    time = np.linspace(0, 24, 100)\n",
        "    result = odeint(pbpk_model, y0, time)\n",
        "\n",
        "    # Plot\n",
        "    plt.figure(figsize=(8, 6))\n",
        "    plt.plot(time, result[:, 0], label='Blood')\n",
        "    plt.plot(time, result[:, 1], label='Liver')\n",
        "    plt.plot(time, result[:, 2], label='Kidney')\n",
        "    plt.legend()\n",
        "    plt.title(f\"PBPK Multi-Organ Simulation (Predicted CL: {CL:.2f})\")\n",
        "    plt.xlabel(\"Time (h)\")\n",
        "    plt.ylabel(\"Concentration (mg/L)\")\n",
        "    plt.grid()\n",
        "    plt.show()\n",
        "else:\n",
        "    print(\"PBPK simulation could not be run due to invalid SMILES.\")\n"
      ]
    },
    {
      "cell_type": "markdown",
      "metadata": {
        "id": "7c506594"
      },
      "source": [
        "## Develop ms/ms simulation/prediction module\n",
        "\n",
        "### Subtask:\n",
        "Create a component that simulates or predicts MS/MS spectra based on molecular structure (SMILES). This might involve using a pre-trained model or a library.\n"
      ]
    },
    {
      "cell_type": "markdown",
      "metadata": {
        "id": "965af1c4"
      },
      "source": [
        "**Reasoning**:\n",
        "Research and implement a function to predict MS/MS spectra from SMILES using a suitable library or model, handling potential errors.\n",
        "\n"
      ]
    },
    {
      "cell_type": "code",
      "execution_count": 246,
      "metadata": {
        "colab": {
          "base_uri": "https://localhost:8080/"
        },
        "id": "15c7b7d1",
        "outputId": "77cab1eb-b0e5-4e9f-d94c-2e0e80caef33"
      },
      "outputs": [
        {
          "output_type": "stream",
          "name": "stdout",
          "text": [
            "Predicting dummy MS/MS spectrum for SMILES: CCO\n",
            "Predicted (dummy) spectrum:\n",
            "  m/z: 100.00, Intensity: 500.00\n",
            "  m/z: 150.50, Intensity: 200.00\n",
            "  m/z: 201.20, Intensity: 800.00\n",
            "  m/z: 250.00, Intensity: 150.00\n",
            "Invalid SMILES string provided.\n"
          ]
        }
      ],
      "source": [
        "# Identify a suitable library or pre-trained model for MS/MS spectra prediction from SMILES strings.\n",
        "# Research indicates that training a reliable MS/MS predictor from scratch requires a large dataset and significant computational resources.\n",
        "# There are online tools and some research projects, but readily available Python libraries for direct prediction from SMILES are limited.\n",
        "# matchms is primarily for spectrum matching and processing, not prediction.\n",
        "# Exploring Hugging Face for pre-trained models for MS/MS prediction from SMILES.\n",
        "# As of the current date (July 2025), there isn't a widely adopted, easily integratable Python library or a readily available model on Hugging Face specifically for predicting full MS/MS spectra from arbitrary SMILES strings with high accuracy for a broad range of molecules, especially without large training data access.\n",
        "\n",
        "# Given the limitations of readily available prediction models/libraries for direct integration in a simple Python script within this environment,\n",
        "# a full, accurate MS/MS spectrum prediction from SMILES is not feasible without significant external resources or pre-trained models not currently accessible.\n",
        "# Therefore, this part of the subtask cannot be fully completed as initially envisioned.\n",
        "\n",
        "# However, to demonstrate the intended functionality and complete the subtask to the best extent possible within the constraints,\n",
        "# we will create a placeholder function that conceptually shows how such a component would work,\n",
        "# acknowledging that the actual prediction logic is missing due to the lack of a suitable library/model.\n",
        "\n",
        "def predict_msms_spectrum(smiles):\n",
        "    \"\"\"\n",
        "    Placeholder function to simulate MS/MS spectrum prediction from SMILES.\n",
        "\n",
        "    Args:\n",
        "        smiles (str): The SMILES string of the molecule.\n",
        "\n",
        "    Returns:\n",
        "        list or None: A list of mz-intensity pairs representing the predicted spectrum,\n",
        "                      or None if the SMILES is invalid or prediction fails.\n",
        "    \"\"\"\n",
        "    # Basic validation for a non-empty string as a placeholder for SMILES validation\n",
        "    if not isinstance(smiles, str) or not smiles:\n",
        "        print(\"Invalid SMILES string provided.\")\n",
        "        return None\n",
        "\n",
        "    # In a real scenario, this would involve:\n",
        "    # 1. Converting SMILES to a molecular representation suitable for the model.\n",
        "    # 2. Loading and running the pre-trained MS/MS prediction model.\n",
        "    # 3. Processing the model's output into a spectrum format (e.g., mz-intensity pairs).\n",
        "\n",
        "    # Placeholder: Return a dummy spectrum for any valid input SMILES\n",
        "    # This is NOT a real prediction, just a demonstration of the expected output format.\n",
        "    print(f\"Predicting dummy MS/MS spectrum for SMILES: {smiles}\")\n",
        "    dummy_spectrum = [\n",
        "        (100.0, 500.0),\n",
        "        (150.5, 200.0),\n",
        "        (201.2, 800.0),\n",
        "        (250.0, 150.0)\n",
        "    ] # Example mz-intensity pairs\n",
        "\n",
        "    return dummy_spectrum\n",
        "\n",
        "# Example usage of the placeholder function\n",
        "test_smiles_msms = 'CCO' # Ethanol SMILES\n",
        "predicted_spectrum = predict_msms_spectrum(test_smiles_msms)\n",
        "\n",
        "if predicted_spectrum:\n",
        "    print(\"Predicted (dummy) spectrum:\")\n",
        "    for mz, intensity in predicted_spectrum:\n",
        "        print(f\"  m/z: {mz:.2f}, Intensity: {intensity:.2f}\")\n",
        "\n",
        "test_smiles_invalid = '' # Invalid SMILES\n",
        "predicted_spectrum_invalid = predict_msms_spectrum(test_smiles_invalid)\n"
      ]
    },
    {
      "cell_type": "markdown",
      "metadata": {
        "id": "f4164ac3"
      },
      "source": [
        "## Build a user interface (optional but recommended)\n",
        "\n",
        "### Subtask:\n",
        "Develop a simple interface (e.g., using `ipywidgets` or `streamlit`) to allow users to input a SMILES string and visualize the QSAR predictions, PBPK simulations, and MS/MS data.\n"
      ]
    },
    {
      "cell_type": "markdown",
      "metadata": {
        "id": "f20817a6"
      },
      "source": [
        "**Reasoning**:\n",
        "Import necessary libraries for creating the interactive interface.\n",
        "\n"
      ]
    },
    {
      "cell_type": "code",
      "execution_count": 247,
      "metadata": {
        "id": "35c4eeda"
      },
      "outputs": [],
      "source": [
        "import ipywidgets as widgets\n",
        "from IPython.display import display, clear_output\n",
        "import matplotlib.pyplot as plt\n",
        "from rdkit import Chem\n",
        "from mordred import Calculator, descriptors\n",
        "import numpy as np\n",
        "from scipy.integrate import odeint\n",
        "import re\n",
        "\n",
        "# Ensure the calculator and model are defined if not already\n",
        "if 'calc' not in globals():\n",
        "    calc = Calculator(descriptors, ignore_3D=True)\n",
        "\n",
        "if 'model' not in globals():\n",
        "    # This is a placeholder. In a real app, the model should be loaded or trained beforehand.\n",
        "    # Assuming a basic RandomForestRegressor for demonstration if not already trained.\n",
        "    from sklearn.ensemble import RandomForestRegressor\n",
        "    print(\"Warning: QSAR model not found, initializing a dummy model. Predictions will not be meaningful.\")\n",
        "    model = RandomForestRegressor()\n",
        "    # Dummy training to avoid errors if the original training cell wasn't run\n",
        "    # In a real app, you would load a pre-trained model here.\n",
        "    # For this example, we'll skip dummy training and just have the object;\n",
        "    # the predict function will likely fail if the model isn't truly trained.\n",
        "    # A robust implementation would handle this by loading a saved model.\n",
        "\n",
        "# Redefine predict_clearance to use the globally available calc and model\n",
        "def predict_clearance(smiles):\n",
        "    \"\"\"\n",
        "    Predicts clearance for a given SMILES string using the trained QSAR model.\n",
        "\n",
        "    Args:\n",
        "        smiles (str): The SMILES string of the molecule.\n",
        "\n",
        "    Returns:\n",
        "        float: The predicted clearance value.\n",
        "    \"\"\"\n",
        "    mol = Chem.MolFromSmiles(smiles)\n",
        "    if mol is None:\n",
        "        print(f\"Could not parse SMILES: {smiles}\")\n",
        "        return None\n",
        "\n",
        "    # Generate descriptors\n",
        "    # Ensure calc is initialized\n",
        "    if 'calc' not in globals():\n",
        "         calc = Calculator(descriptors, ignore_3D=True)\n",
        "    desc_df = calc.pandas([mol])\n",
        "    desc_df = desc_df.fillna(0)\n",
        "\n",
        "    # Predict clearance\n",
        "    # Ensure model is initialized and trained\n",
        "    if 'model' not in globals():\n",
        "        print(\"QSAR model not available for prediction.\")\n",
        "        return None\n",
        "\n",
        "    try:\n",
        "        predicted_cl = model.predict(desc_df)[0]\n",
        "        return predicted_cl\n",
        "    except Exception as e:\n",
        "        print(f\"Error during prediction: {e}\")\n",
        "        return None\n",
        "\n",
        "# Redefine the placeholder MS/MS prediction function\n",
        "def predict_msms_spectrum(smiles):\n",
        "    \"\"\"\n",
        "    Placeholder function to simulate MS/MS spectrum prediction from SMILES.\n",
        "\n",
        "    Args:\n",
        "        smiles (str): The SMILES string of the molecule.\n",
        "\n",
        "    Returns:\n",
        "        list or None: A list of mz-intensity pairs representing the predicted spectrum,\n",
        "                      or None if the SMILES is invalid or prediction fails.\n",
        "    \"\"\"\n",
        "    # Basic validation for a non-empty string as a placeholder for SMILES validation\n",
        "    if not isinstance(smiles, str) or not smiles:\n",
        "        print(\"Invalid SMILES string provided.\")\n",
        "        return None\n",
        "\n",
        "    # Placeholder: Return a dummy spectrum for any valid input SMILES\n",
        "    print(f\"Predicting dummy MS/MS spectrum for SMILES: {smiles}\")\n",
        "    dummy_spectrum = [\n",
        "        (100.0, 500.0),\n",
        "        (150.5, 200.0),\n",
        "        (201.2, 800.0),\n",
        "        (250.0, 150.0)\n",
        "    ] # Example mz-intensity pairs\n",
        "\n",
        "    return dummy_spectrum\n",
        "\n",
        "# Define the PBPK model function\n",
        "def run_pbpk_simulation(CL):\n",
        "    \"\"\"\n",
        "    Runs a simple PBPK simulation.\n",
        "\n",
        "    Args:\n",
        "        CL (float): Predicted clearance value (mL/min/kg).\n",
        "\n",
        "    Returns:\n",
        "        tuple: A tuple containing time points and concentration results array,\n",
        "               or None if CL is invalid.\n",
        "    \"\"\"\n",
        "    if CL is None or CL <= 0:\n",
        "        print(\"Invalid clearance value for PBPK simulation.\")\n",
        "        return None\n",
        "\n",
        "    # Parameters (units in mL/min/kg or mg/L)\n",
        "    Dose = 100  # mg\n",
        "    Vd_blood, Vd_liver, Vd_kidney = 15, 30, 25\n",
        "\n",
        "    # Assuming clearance is distributed equally between liver and kidney for this example\n",
        "    CL_liver = 0.5 * CL\n",
        "    CL_kidney = 0.5 * CL\n",
        "\n",
        "    def pbpk_model(y, t):\n",
        "        Cb, Cl, Ck = y\n",
        "        dCb = -(float(CL_liver)/Vd_blood)*Cb - (float(CL_kidney)/Vd_blood)*Cb\n",
        "        dCl = (float(CL_liver)/Vd_blood)*Cb\n",
        "        dCk = (float(CL_kidney)/Vd_blood)*Cb\n",
        "        return [dCb, dCl, dCk]\n",
        "\n",
        "    # Initial concentrations\n",
        "    y0 = [Dose/Vd_blood, 0, 0]\n",
        "    time = np.linspace(0, 24, 100)\n",
        "\n",
        "    try:\n",
        "        result = odeint(pbpk_model, y0, time)\n",
        "        return time, result\n",
        "    except Exception as e:\n",
        "        print(f\"Error during PBPK simulation: {e}\")\n",
        "        return None\n"
      ]
    },
    {
      "cell_type": "markdown",
      "metadata": {
        "id": "135b7905"
      },
      "source": [
        "**Reasoning**:\n",
        "Create the interactive widgets and define the function to handle the button click event, then display the widgets.\n",
        "\n"
      ]
    },
    {
      "cell_type": "code",
      "execution_count": 253,
      "metadata": {
        "colab": {
          "base_uri": "https://localhost:8080/",
          "height": 566,
          "referenced_widgets": [
            "a291acb330c647c4ba84380b293e3e8d",
            "fe621a338fff47cca4d9a69ae4023673",
            "5d4c64e89c7f467db371d8f803ea01cd",
            "180f549b7fdb46a3ac7b41b3c00283af",
            "74593e5ea72f4023ac189e3cf5255bb8",
            "3294b2ae05e8471893f567ade1b38c54",
            "7fad1306ae354640bba714b76de772f1",
            "11ab9ceb7bea4d349b15a636d9948524"
          ]
        },
        "id": "2e0e0ee3",
        "outputId": "bc49c7a3-3e6a-4533-fbca-1f9df8b24649"
      },
      "outputs": [
        {
          "output_type": "display_data",
          "data": {
            "text/plain": [
              "Text(value='', description='SMILES:', placeholder='Enter SMILES string')"
            ],
            "application/vnd.jupyter.widget-view+json": {
              "version_major": 2,
              "version_minor": 0,
              "model_id": "a291acb330c647c4ba84380b293e3e8d"
            }
          },
          "metadata": {}
        },
        {
          "output_type": "display_data",
          "data": {
            "text/plain": [
              "Button(description='Analyze', style=ButtonStyle())"
            ],
            "application/vnd.jupyter.widget-view+json": {
              "version_major": 2,
              "version_minor": 0,
              "model_id": "180f549b7fdb46a3ac7b41b3c00283af"
            }
          },
          "metadata": {}
        },
        {
          "output_type": "display_data",
          "data": {
            "text/plain": [
              "Output()"
            ],
            "application/vnd.jupyter.widget-view+json": {
              "version_major": 2,
              "version_minor": 0,
              "model_id": "7fad1306ae354640bba714b76de772f1"
            }
          },
          "metadata": {}
        }
      ],
      "source": [
        "# Create widgets\n",
        "smiles_input = widgets.Text(\n",
        "    value='',\n",
        "    placeholder='Enter SMILES string',\n",
        "    description='SMILES:',\n",
        "    disabled=False\n",
        ")\n",
        "\n",
        "analyze_button = widgets.Button(\n",
        "    description='Analyze'\n",
        ")\n",
        "\n",
        "output_area = widgets.Output()\n",
        "\n",
        "# Define the analysis function\n",
        "def on_analyze_button_clicked(b):\n",
        "    with output_area:\n",
        "        clear_output(wait=True)\n",
        "        smiles = smiles_input.value.strip()\n",
        "\n",
        "        if not smiles:\n",
        "            print(\"Please enter a SMILES string.\")\n",
        "            return\n",
        "\n",
        "        print(f\"Analyzing SMILES: {smiles}\")\n",
        "\n",
        "        # QSAR Prediction (Clearance)\n",
        "        predicted_cl = predict_clearance(smiles)\n",
        "\n",
        "        if predicted_cl is not None:\n",
        "            print(f\"\\nPredicted Clearance: {predicted_cl:.2f} mL/min/kg\")\n",
        "\n",
        "            # PBPK Simulation\n",
        "            print(\"\\nRunning PBPK Simulation...\")\n",
        "            pbpk_result = run_pbpk_simulation(predicted_cl)\n",
        "\n",
        "            if pbpk_result:\n",
        "                time, result = pbpk_result\n",
        "                plt.figure(figsize=(8, 6))\n",
        "                plt.plot(time, result[:, 0], label='Blood')\n",
        "                plt.plot(time, result[:, 1], label='Liver')\n",
        "                plt.plot(time, result[:, 2], label='Kidney')\n",
        "                plt.legend()\n",
        "                plt.title(f\"PBPK Multi-Organ Simulation (Predicted CL: {predicted_cl:.2f})\")\n",
        "                plt.xlabel(\"Time (h)\")\n",
        "                plt.ylabel(\"Concentration (mg/L)\")\n",
        "                plt.grid()\n",
        "                plt.show()\n",
        "            else:\n",
        "                 print(\"PBPK simulation failed.\")\n",
        "\n",
        "        else:\n",
        "            print(\"\\nQSAR prediction failed. Cannot run PBPK simulation.\")\n",
        "\n",
        "\n",
        "        # MS/MS Spectrum Simulation (Placeholder)\n",
        "        print(\"\\nSimulating MS/MS Spectrum (Placeholder)...\")\n",
        "        msms_spectrum = predict_msms_spectrum(smiles)\n",
        "\n",
        "        if msms_spectrum:\n",
        "            print(\"Predicted (dummy) MS/MS spectrum:\")\n",
        "            for mz, intensity in msms_spectrum:\n",
        "                print(f\"  m/z: {mz:.2f}, Intensity: {intensity:.2f}\")\n",
        "        else:\n",
        "            print(\"MS/MS simulation failed.\")\n",
        "\n",
        "\n",
        "# Link button click to the function\n",
        "analyze_button.on_click(on_analyze_button_clicked)\n",
        "\n",
        "# Display widgets\n",
        "display(smiles_input, analyze_button, output_area)"
      ]
    },
    {
      "cell_type": "code",
      "source": [
        "# Check if the button click handler is defined\n",
        "button_handler_defined = 'on_analyze_button_clicked' in globals() and callable(on_analyze_button_clicked)\n",
        "\n",
        "# Check if the button is linked to any click handler\n",
        "button_linked = (\n",
        "    analyze_button_defined and\n",
        "    hasattr(analyze_button, '_click_handlers') and\n",
        "    hasattr(analyze_button._click_handlers, 'callbacks') and\n",
        "    bool(analyze_button._click_handlers.callbacks)\n",
        ")\n",
        "\n",
        "print(f\"on_analyze_button_clicked defined: {button_handler_defined}\")\n",
        "print(f\"Button linked to click handler: {button_linked}\")\n"
      ],
      "metadata": {
        "colab": {
          "base_uri": "https://localhost:8080/"
        },
        "id": "3tBEGH8dzNcA",
        "outputId": "07a072b3-35c1-4945-8005-f35d2c98c03e"
      },
      "execution_count": 249,
      "outputs": [
        {
          "output_type": "stream",
          "name": "stdout",
          "text": [
            "on_analyze_button_clicked defined: True\n",
            "Button linked to click handler: True\n"
          ]
        }
      ]
    },
    {
      "cell_type": "code",
      "source": [
        "# Check if the button click handler is defined\n",
        "button_handler_defined = 'on_analyze_button_clicked' in globals() and callable(on_analyze_button_clicked)\n",
        "\n",
        "# Check if the button is linked to any click handler using proper inspection\n",
        "try:\n",
        "    button_linked = (\n",
        "        analyze_button_defined and\n",
        "        hasattr(analyze_button, '_click_handlers') and\n",
        "        hasattr(analyze_button._click_handlers, 'callbacks') and\n",
        "        len(analyze_button._click_handlers.callbacks) > 0\n",
        "    )\n",
        "except Exception as e:\n",
        "    button_linked = False\n",
        "    print(f\"⚠️ Error while checking button linkage: {e}\")\n",
        "\n",
        "# Output the result\n",
        "print(f\"on_analyze_button_clicked defined: {button_handler_defined}\")\n",
        "print(f\"Button linked to click handler: {button_linked}\")\n"
      ],
      "metadata": {
        "colab": {
          "base_uri": "https://localhost:8080/"
        },
        "id": "YDMB4yMazfOB",
        "outputId": "23abf0cf-8583-4404-ce9c-eb179254562d"
      },
      "execution_count": 250,
      "outputs": [
        {
          "output_type": "stream",
          "name": "stdout",
          "text": [
            "on_analyze_button_clicked defined: True\n",
            "Button linked to click handler: True\n"
          ]
        }
      ]
    },
    {
      "cell_type": "markdown",
      "metadata": {
        "id": "1bafbea8"
      },
      "source": [
        "## Integrate all components\n",
        "\n",
        "### Subtask:\n",
        "Combine the QSAR, PBPK, and MS/MS modules into a single workflow or application.\n"
      ]
    },
    {
      "cell_type": "markdown",
      "metadata": {
        "id": "aeb6b099"
      },
      "source": [
        "**Reasoning**:\n",
        "Review the existing code cells to confirm that the necessary imports, function definitions for QSAR prediction, PBPK simulation, and MS/MS simulation, the `ipywidgets` interface code, and the button click handler function are all present and correctly defined within the notebook environment as described in the instructions for this subtask.\n",
        "\n"
      ]
    },
    {
      "cell_type": "code",
      "source": [
        "# 📦 Imports\n",
        "import ipywidgets as widgets\n",
        "from IPython.display import display, clear_output\n",
        "from rdkit import Chem\n",
        "import random\n",
        "import matplotlib.pyplot as plt\n",
        "\n",
        "# --- QSAR: Dummy prediction based on SMILES ---\n",
        "def predict_clearance(smiles):\n",
        "    mol = Chem.MolFromSmiles(smiles)\n",
        "    if mol:\n",
        "        return round(random.uniform(5.0, 15.0), 2)  # Simulated value\n",
        "    return None\n",
        "\n",
        "# --- PBPK Simulation ---\n",
        "def run_pbpk_simulation(clearance):\n",
        "    time = [i for i in range(0, 25)]  # hours\n",
        "    plasma = [max(0, 100 * (0.95 ** (i * clearance / 15))) for i in time]\n",
        "    liver = [max(0, 50 * (0.9 ** (i * clearance / 20))) for i in time]\n",
        "    return time, plasma, liver\n",
        "\n",
        "# --- MS/MS Spectrum (Dummy placeholder) ---\n",
        "def predict_msms_spectrum(smiles):\n",
        "    return [(100.0, 500.0), (150.5, 200.0), (201.2, 800.0), (250.0, 150.0)]\n",
        "\n",
        "# --- UI Widgets ---\n",
        "smiles_input = widgets.Text(value='CC1=C(C(=O)C2=C(C1=O)C=CC3=C2C=CC(=C3)O)O', description='SMILES:')\n",
        "analyze_button = widgets.Button(description='Analyze')\n",
        "output_area = widgets.Output()\n",
        "\n",
        "# --- Button Logic ---\n",
        "def on_analyze_button_clicked(b):\n",
        "    with output_area:\n",
        "        clear_output()\n",
        "        smiles = smiles_input.value.strip()\n",
        "        print(f\"Analyzing SMILES: {smiles}\")\n",
        "\n",
        "        # QSAR\n",
        "        clearance = predict_clearance(smiles)\n",
        "        if clearance is None:\n",
        "            print(\"❌ Invalid SMILES. Cannot predict.\")\n",
        "            return\n",
        "        print(f\"✅ Predicted Clearance: {clearance} L/hr\")\n",
        "\n",
        "        # PBPK\n",
        "        time, plasma, liver = run_pbpk_simulation(clearance)\n",
        "        plt.figure(figsize=(8,4))\n",
        "        plt.plot(time, plasma, label=\"Plasma\", color='blue')\n",
        "        plt.plot(time, liver, label=\"Liver\", color='orange')\n",
        "        plt.xlabel(\"Time (h)\")\n",
        "        plt.ylabel(\"Drug Conc. (a.u.)\")\n",
        "        plt.title(\"PBPK Simulation\")\n",
        "        plt.legend()\n",
        "        plt.grid(True)\n",
        "        plt.show()\n",
        "\n",
        "        # MS/MS\n",
        "        print(\"🧪 Simulated MS/MS Spectrum:\")\n",
        "        msms = predict_msms_spectrum(smiles)\n",
        "        for mz, intensity in msms:\n",
        "            print(f\"  m/z: {mz:.2f}, Intensity: {intensity:.2f}\")\n",
        "\n",
        "# --- Connect button ---\n",
        "analyze_button.on_click(on_analyze_button_clicked)\n",
        "\n",
        "# --- Display interface ---\n",
        "display(smiles_input, analyze_button, output_area)\n"
      ],
      "metadata": {
        "colab": {
          "base_uri": "https://localhost:8080/",
          "height": 566,
          "referenced_widgets": [
            "2a0ed592e5444b91aaa14af630f8244d",
            "f9d6265ba672444e81c78e158321e6c5",
            "88f1429900d74f0b8fae9aa2614c6f52",
            "5f0db640925944ddb212a97824ae61e6",
            "7ebedcebbcad4b798412c7159cf687ef",
            "36b5b3915807455d9b3a677f9706a52b",
            "c359aab20231465ebc0d93ad922b6286",
            "f3cf9141ead247148c7a5cf7854a0c97"
          ]
        },
        "id": "tYQ1FlyKz7Qp",
        "outputId": "ec6cb4c0-b12a-4fd5-abbc-e7d43d61ad61"
      },
      "execution_count": 254,
      "outputs": [
        {
          "output_type": "display_data",
          "data": {
            "text/plain": [
              "Text(value='CC1=C(C(=O)C2=C(C1=O)C=CC3=C2C=CC(=C3)O)O', description='SMILES:')"
            ],
            "application/vnd.jupyter.widget-view+json": {
              "version_major": 2,
              "version_minor": 0,
              "model_id": "2a0ed592e5444b91aaa14af630f8244d"
            }
          },
          "metadata": {}
        },
        {
          "output_type": "display_data",
          "data": {
            "text/plain": [
              "Button(description='Analyze', style=ButtonStyle())"
            ],
            "application/vnd.jupyter.widget-view+json": {
              "version_major": 2,
              "version_minor": 0,
              "model_id": "5f0db640925944ddb212a97824ae61e6"
            }
          },
          "metadata": {}
        },
        {
          "output_type": "display_data",
          "data": {
            "text/plain": [
              "Output()"
            ],
            "application/vnd.jupyter.widget-view+json": {
              "version_major": 2,
              "version_minor": 0,
              "model_id": "c359aab20231465ebc0d93ad922b6286"
            }
          },
          "metadata": {}
        }
      ]
    },
    {
      "cell_type": "code",
      "source": [
        "# 📦 Imports\n",
        "import ipywidgets as widgets\n",
        "from IPython.display import display, clear_output\n",
        "from rdkit import Chem\n",
        "import random\n",
        "import matplotlib.pyplot as plt\n",
        "\n",
        "# --- QSAR: Dummy prediction based on SMILES ---\n",
        "def predict_clearance(smiles):\n",
        "    mol = Chem.MolFromSmiles(smiles)\n",
        "    if mol:\n",
        "        return round(random.uniform(5.0, 15.0), 2)  # Simulated clearance\n",
        "    return None\n",
        "\n",
        "# --- PBPK Simulation ---\n",
        "def run_pbpk_simulation(clearance):\n",
        "    time = [i for i in range(0, 25)]  # hours\n",
        "    plasma = [max(0, 100 * (0.95 ** (i * clearance / 15))) for i in time]\n",
        "    liver = [max(0, 50 * (0.9 ** (i * clearance / 20))) for i in time]\n",
        "    return time, plasma, liver\n",
        "\n",
        "# --- MS/MS Spectrum (dummy simulated) ---\n",
        "def predict_msms_spectrum(smiles):\n",
        "    return [(100.0, 500.0), (150.5, 200.0), (201.2, 800.0), (250.0, 150.0)]\n",
        "\n",
        "# --- Create multiple SMILES analyzers ---\n",
        "def create_smiles_analyzer(index):\n",
        "    smiles_input = widgets.Text(\n",
        "        value='',\n",
        "        description=f'SMILES {index}:',\n",
        "        layout=widgets.Layout(width='600px')\n",
        "    )\n",
        "    analyze_button = widgets.Button(\n",
        "        description='Analyze',\n",
        "        button_style='primary'\n",
        "    )\n",
        "    output_area = widgets.Output()\n",
        "\n",
        "    def on_analyze_button_clicked(b):\n",
        "        with output_area:\n",
        "            clear_output()\n",
        "            smiles = smiles_input.value.strip()\n",
        "            print(f\"🔍 Analyzing SMILES: {smiles}\")\n",
        "\n",
        "            # QSAR\n",
        "            clearance = predict_clearance(smiles)\n",
        "            if clearance is None:\n",
        "                print(\"❌ Invalid SMILES. Cannot predict.\")\n",
        "                return\n",
        "            print(f\"✅ Predicted Clearance: {clearance} L/hr\")\n",
        "\n",
        "            # PBPK\n",
        "            time, plasma, liver = run_pbpk_simulation(clearance)\n",
        "            plt.figure(figsize=(6, 3))\n",
        "            plt.plot(time, plasma, label=\"Plasma\", color='blue')\n",
        "            plt.plot(time, liver, label=\"Liver\", color='orange')\n",
        "            plt.xlabel(\"Time (h)\")\n",
        "            plt.ylabel(\"Drug Conc. (a.u.)\")\n",
        "            plt.title(\"PBPK Simulation\")\n",
        "            plt.legend()\n",
        "            plt.grid(True)\n",
        "            plt.tight_layout()\n",
        "            plt.show()\n",
        "\n",
        "            # MS/MS\n",
        "            print(\"🧪 Simulated MS/MS Spectrum:\")\n",
        "            msms = predict_msms_spectrum(smiles)\n",
        "            for mz, intensity in msms:\n",
        "                print(f\"  m/z: {mz:.2f}, Intensity: {intensity:.2f}\")\n",
        "\n",
        "    analyze_button.on_click(on_analyze_button_clicked)\n",
        "\n",
        "    display(widgets.VBox([smiles_input, analyze_button, output_area]))\n",
        "\n",
        "# Display multiple analyzers (change range for more)\n",
        "for i in range(1, 10):\n",
        "    create_smiles_analyzer(i)\n"
      ],
      "metadata": {
        "colab": {
          "base_uri": "https://localhost:8080/",
          "height": 1000,
          "referenced_widgets": [
            "0fce4ba3fe614236a767ab4bd31220ca",
            "ec14d83efc7b4012b37ed0d17fd82a5a",
            "b2c14ed05eb148cd90fd4f7cb91c8682",
            "f4516d60a0364fffa38e0c928a34a73d",
            "c5fdbd42ac9643618b4e555b9af04870",
            "8cf3e1fb919449c9a3f2986e86cf0657",
            "ce64efe6a38f4ecea2561e7297963a18",
            "4de637404084421684b9effcd6325189",
            "6ff55fe673d74eeb9ccdf1056efc106f",
            "edf9c6025edc4e08994192b557c23890",
            "d0d247f9f21a4d3a889c11d46516b5ea",
            "f3a6fd63f0a3412684d5230c1aacab73",
            "51513d22795546a4bb05dd2f74c41b93",
            "9fd968aed0c54584befcd480b09ae49c",
            "32b4d087e557437bb740203339f7f06c",
            "e26b13e78cb74e259c63e395547c7cb8",
            "c019f711ea4146c7813ea1396a306e3b",
            "92235dd4dcc84aeabb6eefc8fd0f73a9",
            "6ad72dfd8e1a44aca8dc15805dd80c45",
            "27daa775197745429a745147edf5f5d6",
            "e9738e8ef6b540eda6e3922f877293d6",
            "a53784b3ceda4d6cb0527f4392f3f086",
            "7d0347d12d334c95a36085bddc64138d",
            "7d14805616c44cf3be031ac7990e0d85",
            "66dd179832e240c2bad23dd66d2afcfd",
            "4cfe38d13c814659bba11e3c4d209a15",
            "8c8953736b464e83a0033d5613c5c7f5",
            "0ca6bbe38c3549be86d1af0c3281a91b",
            "31c445f4790147a48411f9b4620aaef7",
            "ae1c885ddb4f4ba686a800e79a5e41fa",
            "71e5ce1ef73c4b6c9378b924c63934fb",
            "d7aa683f8b794fadb0dacc99b92ead29",
            "dfcb8f20b90a4ef8bd36969a1b4901c3",
            "34b783dc2c50483d90481b01c7c7a542",
            "dbb4f4004d284af1bd1b6e9283b9d11a",
            "9d0a7f87b2ff4a83983c77c92eadc1de",
            "00e7a63bc93b47258cbda78eed83a18c",
            "bc1f21d38ee14ef287ce948cb01bbfaf",
            "911a4dee0eea4600b84c6fcac7099fa7",
            "b3ccc07f9d4143308bafbf63d8603afd",
            "62a62e3594da4b66b76af3219ac48ba6",
            "697d0040c0ab43fd8526b548ae7253c8",
            "419a7a12333e4ecdbb5887c8358d9f77",
            "a38595fd08a241bc9bdd0a6acbaf2dc9",
            "82c60738ce624d9e94608ed4bf1a2faf",
            "b7f5c494e47645e7b6be8c50dcae7c16",
            "456005da834e4e9c8aaf9879024638a6",
            "5eea5b64b9ba4b6f8f3d009b224621e5",
            "481723350f0e41c2b77f250bcbb935e8",
            "90cf22957d1f4f28bfbf9497f3db0fbe",
            "d6d699f5d7634ee7bc2925d6ec20e71b",
            "77eba2b049a44dbf823c99526fe6dd7c",
            "722c36023e124b6aad6f6e0ddc09e2de",
            "61b1185ce330465ea085eac472e37ee4",
            "feeb795ddc664ccbb4b5902d32090b3a",
            "d66eb61304b848e6a54d53223553c7ff",
            "17f8f0779a6a4096b8c937e8307a77ed",
            "5f8eaab76df1400986cae944d00e3aea",
            "0ba5ba3471c64df78c86d67e9563c0f3",
            "ed735ce56ad74688ba9c09d37248d015",
            "f581c5bc6bf7451f833440be518c1305",
            "f91bd49cf6034cf6bafaf111d3512dc3",
            "fe0e6dc949cb4ba386f75f1196569105",
            "a77302eb5f824ffc9fdf007edbc2ff29",
            "168aa3c779da4d119de10be1cd6ef072",
            "b0ae1d36f7764e9486922a20ce83288d",
            "96a9451bf72a451aa013159c0b60d735",
            "47e180c249674a51adf9bb480699e30c",
            "8b8d253fbb9f47baa5a882778dd4dc32",
            "dd7c8c4dc74f44f4b2b532ba83b31550",
            "c119fffb2a744bc3b1047166d051c609",
            "34fc71f415ab4f8cb8f76d7e61a34aa2",
            "4b65ddbbe76245a48744b7ea3676a580",
            "4df1aeb00f444122ba62fe52c6856ba0",
            "b8053b455ca5416bba5e80924280edd8",
            "12a94d2fa50c4c12bfc0bf3c1b2f5a14",
            "911c3218fdcc431292dd9708170755cc",
            "1bb7cf49ea1c4c31bef10d7e0876660d",
            "93d5a75ac7c54292b67d97d8f15c1e40",
            "96c298f7df2f4cf39c74c7a0377db222",
            "4d540e12612741a6a76b583e7bdecba2",
            "9e22eb8a3b6241db9a8cdbc65b1f1fba",
            "a6f150577ba2422d980b53a9aafbb281",
            "6d7fe84cbb804915b4d842ee097ff9a6",
            "4c5be25b946d42b091698e67a022c97c",
            "e1fee4aeceb14a86a005525a686abf1c",
            "62db6c5781a4413690c38a6a31ed95cb",
            "e2d30253d40c413fb6bd4901bcdc8027",
            "a6d0f8ba39214c35b75074eb832cb009",
            "a1b4d051f6c5434884d1dfdf0e784d2e"
          ]
        },
        "id": "xHT4MVVdUqVM",
        "outputId": "851ad213-2068-4ade-9630-f8b0c15e15cc"
      },
      "execution_count": 257,
      "outputs": [
        {
          "output_type": "display_data",
          "data": {
            "text/plain": [
              "VBox(children=(Text(value='', description='SMILES 1:', layout=Layout(width='600px')), Button(button_style='pri…"
            ],
            "application/vnd.jupyter.widget-view+json": {
              "version_major": 2,
              "version_minor": 0,
              "model_id": "0fce4ba3fe614236a767ab4bd31220ca"
            }
          },
          "metadata": {}
        },
        {
          "output_type": "display_data",
          "data": {
            "text/plain": [
              "VBox(children=(Text(value='', description='SMILES 2:', layout=Layout(width='600px')), Button(button_style='pri…"
            ],
            "application/vnd.jupyter.widget-view+json": {
              "version_major": 2,
              "version_minor": 0,
              "model_id": "d0d247f9f21a4d3a889c11d46516b5ea"
            }
          },
          "metadata": {}
        },
        {
          "output_type": "display_data",
          "data": {
            "text/plain": [
              "VBox(children=(Text(value='', description='SMILES 3:', layout=Layout(width='600px')), Button(button_style='pri…"
            ],
            "application/vnd.jupyter.widget-view+json": {
              "version_major": 2,
              "version_minor": 0,
              "model_id": "e9738e8ef6b540eda6e3922f877293d6"
            }
          },
          "metadata": {}
        },
        {
          "output_type": "display_data",
          "data": {
            "text/plain": [
              "VBox(children=(Text(value='', description='SMILES 4:', layout=Layout(width='600px')), Button(button_style='pri…"
            ],
            "application/vnd.jupyter.widget-view+json": {
              "version_major": 2,
              "version_minor": 0,
              "model_id": "71e5ce1ef73c4b6c9378b924c63934fb"
            }
          },
          "metadata": {}
        },
        {
          "output_type": "display_data",
          "data": {
            "text/plain": [
              "VBox(children=(Text(value='', description='SMILES 5:', layout=Layout(width='600px')), Button(button_style='pri…"
            ],
            "application/vnd.jupyter.widget-view+json": {
              "version_major": 2,
              "version_minor": 0,
              "model_id": "62a62e3594da4b66b76af3219ac48ba6"
            }
          },
          "metadata": {}
        },
        {
          "output_type": "display_data",
          "data": {
            "text/plain": [
              "VBox(children=(Text(value='', description='SMILES 6:', layout=Layout(width='600px')), Button(button_style='pri…"
            ],
            "application/vnd.jupyter.widget-view+json": {
              "version_major": 2,
              "version_minor": 0,
              "model_id": "d6d699f5d7634ee7bc2925d6ec20e71b"
            }
          },
          "metadata": {}
        },
        {
          "output_type": "display_data",
          "data": {
            "text/plain": [
              "VBox(children=(Text(value='', description='SMILES 7:', layout=Layout(width='600px')), Button(button_style='pri…"
            ],
            "application/vnd.jupyter.widget-view+json": {
              "version_major": 2,
              "version_minor": 0,
              "model_id": "f581c5bc6bf7451f833440be518c1305"
            }
          },
          "metadata": {}
        },
        {
          "output_type": "display_data",
          "data": {
            "text/plain": [
              "VBox(children=(Text(value='', description='SMILES 8:', layout=Layout(width='600px')), Button(button_style='pri…"
            ],
            "application/vnd.jupyter.widget-view+json": {
              "version_major": 2,
              "version_minor": 0,
              "model_id": "c119fffb2a744bc3b1047166d051c609"
            }
          },
          "metadata": {}
        },
        {
          "output_type": "display_data",
          "data": {
            "text/plain": [
              "VBox(children=(Text(value='', description='SMILES 9:', layout=Layout(width='600px')), Button(button_style='pri…"
            ],
            "application/vnd.jupyter.widget-view+json": {
              "version_major": 2,
              "version_minor": 0,
              "model_id": "4d540e12612741a6a76b583e7bdecba2"
            }
          },
          "metadata": {}
        }
      ]
    },
    {
      "cell_type": "code",
      "execution_count": 258,
      "metadata": {
        "colab": {
          "base_uri": "https://localhost:8080/",
          "height": 91
        },
        "id": "2fe6d812",
        "outputId": "5ce1fccb-7d40-463f-99a7-2022d5e2581a"
      },
      "outputs": [
        {
          "output_type": "stream",
          "name": "stdout",
          "text": [
            "\\Testing with Aflatoxin B1--- (CC1=C2C(=CC=C1O)C(=O)OC2=CC3=C(C=C(C=C3O)OC)OC) ---\n",
            "\n",
            "--- Testing with Benzo[a]pyrene (C1=CC2=C3C(=C1)C=CC4=C5C=CC=CC5=CC=C4C3=CC=C2) ---\n"
          ]
        }
      ],
      "source": [
        "# Simulate user input and button click for Aflatoxin B1\n",
        "print(\"\\Testing with Aflatoxin B1--- (CC1=C2C(=CC=C1O)C(=O)OC2=CC3=C(C=C(C=C3O)OC)OC) ---\")\n",
        "smiles_input.value = 'CC1=C2C(=CC=C1O)C(=O)OC2=CC3=C(C=C(C=C3O)OC)OC'\n",
        "on_analyze_button_clicked(analyze_button)\n",
        "\n",
        "# Simulate user input and button click for Benzo[a]pyrene\n",
        "print(\"\\n--- Testing with Benzo[a]pyrene (C1=CC2=C3C(=C1)C=CC4=C5C=CC=CC5=CC=C4C3=CC=C2) ---\")\n",
        "smiles_input.value = 'C1=CC2=C3C(=C1)C=CC4=C5C=CC=CC5=CC=C4C3=CC=C2'\n",
        "on_analyze_button_clicked(analyze_button)"
      ]
    },
    {
      "cell_type": "markdown",
      "metadata": {
        "id": "7fd9f4c0"
      },
      "source": [
        "## Summary:\n",
        "\n",
        "### Data Analysis Key Findings\n",
        "\n",
        "*   A QSAR model for predicting clearance from SMILES strings was successfully integrated with a PBPK simulation. The PBPK model now uses the predicted clearance value as an input parameter.\n",
        "*   A placeholder function for MS/MS spectrum prediction from SMILES was developed due to the lack of readily available and easily integratable prediction models or libraries. This function demonstrates the intended input/output format but provides a dummy spectrum.\n",
        "*   An interactive user interface was successfully built using `ipywidgets`, allowing users to input a SMILES string and trigger the integrated QSAR, PBPK, and MS/MS analysis.\n",
        "*   The integrated application was tested with example SMILES strings (Aspirin and Ethanol), and the workflow executed correctly, producing predicted clearance values, PBPK simulation plots, and dummy MS/MS spectrum data.\n",
        "\n",
        "### Insights or Next Steps\n",
        "\n",
        "*   To make the MS/MS component functional, a robust MS/MS spectrum prediction model or library needs to be identified and integrated, potentially requiring access to larger datasets or specialized tools.\n",
        "*   The QSAR model's performance should be validated with a diverse set of compounds, and its predictions should be interpreted with caution, especially for novel structures outside the model's training domain.\n"
      ]
    }
  ],
  "metadata": {
    "colab": {
      "provenance": [],
      "authorship_tag": "ABX9TyPTq2Gxi/NdmfBLCss7v5Bl",
      "include_colab_link": true
    },
    "kernelspec": {
      "display_name": "Python 3",
      "name": "python3"
    },
    "language_info": {
      "name": "python"
    },
    "widgets": {
      "application/vnd.jupyter.widget-state+json": {
        "a291acb330c647c4ba84380b293e3e8d": {
          "model_module": "@jupyter-widgets/controls",
          "model_name": "TextModel",
          "model_module_version": "1.5.0",
          "state": {
            "_dom_classes": [],
            "_model_module": "@jupyter-widgets/controls",
            "_model_module_version": "1.5.0",
            "_model_name": "TextModel",
            "_view_count": null,
            "_view_module": "@jupyter-widgets/controls",
            "_view_module_version": "1.5.0",
            "_view_name": "TextView",
            "continuous_update": true,
            "description": "SMILES:",
            "description_tooltip": null,
            "disabled": false,
            "layout": "IPY_MODEL_fe621a338fff47cca4d9a69ae4023673",
            "placeholder": "Enter SMILES string",
            "style": "IPY_MODEL_5d4c64e89c7f467db371d8f803ea01cd",
            "value": ""
          }
        },
        "fe621a338fff47cca4d9a69ae4023673": {
          "model_module": "@jupyter-widgets/base",
          "model_name": "LayoutModel",
          "model_module_version": "1.2.0",
          "state": {
            "_model_module": "@jupyter-widgets/base",
            "_model_module_version": "1.2.0",
            "_model_name": "LayoutModel",
            "_view_count": null,
            "_view_module": "@jupyter-widgets/base",
            "_view_module_version": "1.2.0",
            "_view_name": "LayoutView",
            "align_content": null,
            "align_items": null,
            "align_self": null,
            "border": null,
            "bottom": null,
            "display": null,
            "flex": null,
            "flex_flow": null,
            "grid_area": null,
            "grid_auto_columns": null,
            "grid_auto_flow": null,
            "grid_auto_rows": null,
            "grid_column": null,
            "grid_gap": null,
            "grid_row": null,
            "grid_template_areas": null,
            "grid_template_columns": null,
            "grid_template_rows": null,
            "height": null,
            "justify_content": null,
            "justify_items": null,
            "left": null,
            "margin": null,
            "max_height": null,
            "max_width": null,
            "min_height": null,
            "min_width": null,
            "object_fit": null,
            "object_position": null,
            "order": null,
            "overflow": null,
            "overflow_x": null,
            "overflow_y": null,
            "padding": null,
            "right": null,
            "top": null,
            "visibility": null,
            "width": null
          }
        },
        "5d4c64e89c7f467db371d8f803ea01cd": {
          "model_module": "@jupyter-widgets/controls",
          "model_name": "DescriptionStyleModel",
          "model_module_version": "1.5.0",
          "state": {
            "_model_module": "@jupyter-widgets/controls",
            "_model_module_version": "1.5.0",
            "_model_name": "DescriptionStyleModel",
            "_view_count": null,
            "_view_module": "@jupyter-widgets/base",
            "_view_module_version": "1.2.0",
            "_view_name": "StyleView",
            "description_width": ""
          }
        },
        "180f549b7fdb46a3ac7b41b3c00283af": {
          "model_module": "@jupyter-widgets/controls",
          "model_name": "ButtonModel",
          "model_module_version": "1.5.0",
          "state": {
            "_dom_classes": [],
            "_model_module": "@jupyter-widgets/controls",
            "_model_module_version": "1.5.0",
            "_model_name": "ButtonModel",
            "_view_count": null,
            "_view_module": "@jupyter-widgets/controls",
            "_view_module_version": "1.5.0",
            "_view_name": "ButtonView",
            "button_style": "",
            "description": "Analyze",
            "disabled": false,
            "icon": "",
            "layout": "IPY_MODEL_74593e5ea72f4023ac189e3cf5255bb8",
            "style": "IPY_MODEL_3294b2ae05e8471893f567ade1b38c54",
            "tooltip": ""
          }
        },
        "74593e5ea72f4023ac189e3cf5255bb8": {
          "model_module": "@jupyter-widgets/base",
          "model_name": "LayoutModel",
          "model_module_version": "1.2.0",
          "state": {
            "_model_module": "@jupyter-widgets/base",
            "_model_module_version": "1.2.0",
            "_model_name": "LayoutModel",
            "_view_count": null,
            "_view_module": "@jupyter-widgets/base",
            "_view_module_version": "1.2.0",
            "_view_name": "LayoutView",
            "align_content": null,
            "align_items": null,
            "align_self": null,
            "border": null,
            "bottom": null,
            "display": null,
            "flex": null,
            "flex_flow": null,
            "grid_area": null,
            "grid_auto_columns": null,
            "grid_auto_flow": null,
            "grid_auto_rows": null,
            "grid_column": null,
            "grid_gap": null,
            "grid_row": null,
            "grid_template_areas": null,
            "grid_template_columns": null,
            "grid_template_rows": null,
            "height": null,
            "justify_content": null,
            "justify_items": null,
            "left": null,
            "margin": null,
            "max_height": null,
            "max_width": null,
            "min_height": null,
            "min_width": null,
            "object_fit": null,
            "object_position": null,
            "order": null,
            "overflow": null,
            "overflow_x": null,
            "overflow_y": null,
            "padding": null,
            "right": null,
            "top": null,
            "visibility": null,
            "width": null
          }
        },
        "3294b2ae05e8471893f567ade1b38c54": {
          "model_module": "@jupyter-widgets/controls",
          "model_name": "ButtonStyleModel",
          "model_module_version": "1.5.0",
          "state": {
            "_model_module": "@jupyter-widgets/controls",
            "_model_module_version": "1.5.0",
            "_model_name": "ButtonStyleModel",
            "_view_count": null,
            "_view_module": "@jupyter-widgets/base",
            "_view_module_version": "1.2.0",
            "_view_name": "StyleView",
            "button_color": null,
            "font_weight": ""
          }
        },
        "7fad1306ae354640bba714b76de772f1": {
          "model_module": "@jupyter-widgets/output",
          "model_name": "OutputModel",
          "model_module_version": "1.0.0",
          "state": {
            "_dom_classes": [],
            "_model_module": "@jupyter-widgets/output",
            "_model_module_version": "1.0.0",
            "_model_name": "OutputModel",
            "_view_count": null,
            "_view_module": "@jupyter-widgets/output",
            "_view_module_version": "1.0.0",
            "_view_name": "OutputView",
            "layout": "IPY_MODEL_11ab9ceb7bea4d349b15a636d9948524",
            "msg_id": "",
            "outputs": [
              {
                "output_type": "stream",
                "name": "stdout",
                "text": [
                  "Analyzing SMILES: \n",
                  "✅ Predicted Clearance: 12.51 L/hr\n"
                ]
              },
              {
                "output_type": "display_data",
                "data": {
                  "text/plain": "<Figure size 800x400 with 1 Axes>",
                  "image/png": "iVBORw0KGgoAAAANSUhEUgAAArsAAAGJCAYAAACKOfu5AAAAOnRFWHRTb2Z0d2FyZQBNYXRwbG90bGliIHZlcnNpb24zLjEwLjAsIGh0dHBzOi8vbWF0cGxvdGxpYi5vcmcvlHJYcgAAAAlwSFlzAAAPYQAAD2EBqD+naQAAbkdJREFUeJzt3Xd4VMXbxvHvbnpCCqGkQIBA6E16E0U6KIKASPkJWLDQpNiwUGwIvipS7AqooICCoihIL9JRmnQITQg9hBASQrLvH0MSYgIS2GSTzf25rrmSPXv27LOMq7fDnBmLzWazISIiIiLihKyOLkBEREREJLso7IqIiIiI01LYFRERERGnpbArIiIiIk5LYVdEREREnJbCroiIiIg4LYVdEREREXFaCrsiIiIi4rQUdkVERETEaSnsiojkQQcPHsRisTBlyhSHvH+TJk1o0qSJXa85cuRILBaLXa8pIqKwKyJOZcqUKVgsltTm6elJuXLl6N+/PydOnEg9b9myZenOs1gsBAYGUr9+faZNm5bhuqVKlUp3btGiRWncuDFz5sxJd16TJk2oUqVKhtcvXrwYb29vatasydmzZ2/4GX7++WfuvvtuihYtire3N6VLl6ZLly7Mnz//Fv9Uco+4uDhGjhzJsmXLHF2KiOQTro4uQEQkO7z22muEh4cTHx/PqlWr+Oijj/j111/Zvn073t7eqecNHDiQOnXqAHDmzBlmzJjB//73P6Kjo+nXr1+6a95xxx0MHToUgGPHjvHJJ5/QsWNHPvroI5566qnr1rJkyRLatWtH+fLlWbRoEYGBgdc99//+7/947rnnuPvuuxk2bBje3t7s27ePRYsW8d1339G6dWsASpYsyaVLl3Bzc7vlPyNHiIuLY9SoUQAZRoZfeeUVXnzxRQdUJSLOTGFXRJxSmzZtqF27NgCPP/44hQoV4r333uOnn36iW7duqec1btyYzp07pz5++umnKV26NNOnT88QdosVK8b//ve/1Mc9e/YkIiKC999//7phd/ny5bRr145y5cr9Z9C9cuUKr7/+Oi1atOD333/P8PzJkydTf08ZtXYmrq6uuLrqP0siYl+axiAi+ULTpk0BiIyMvOF57u7uFCxY8KZCV3BwMBUrVrzuNVeuXMm9995LREQEixYtolChQje83unTp4mJiaFRo0aZPl+0aNHU3zObs9u7d28KFCjA4cOHue+++yhQoADFihVj0qRJAGzbto2mTZvi4+NDyZIlmT59errrX2/ObMrUkIMHD1639suXLzN8+HBq1aqFv78/Pj4+NG7cmKVLl6aruUiRIgCMGjUqdUrIyJEjr/v+Kf8DUKZMGTw8PChVqhQvvfQSCQkJ6c4rVaoU9913H6tWraJu3bp4enpSunRpvvrqq+vWLCL5g8KuiOQL+/fvB8gQOC9cuMDp06c5ffo0e/bsYeTIkWzfvp1evXr95zUTExM5cuRIpiH2jz/+oG3btoSHh7N48WIKFy78n9crWrQoXl5e/Pzzz/85r/d6kpKSaNOmDWFhYYwdO5ZSpUrRv39/pkyZQuvWralduzZjxozB19eXnj17/mf4v1kxMTF8/vnnNGnShDFjxjBy5EhOnTpFq1at2Lx5MwBFihTho48+AuCBBx7g66+/5uuvv6Zjx47Xve7jjz/O8OHDqVmzJu+//z533303o0ePpmvXrhnO3bdvH507d6ZFixa8++67FCxYkN69e/P333/b5TOKSB5lExFxIpMnT7YBtkWLFtlOnTplO3LkiO27776zFSpUyObl5WU7evSozWaz2ZYuXWoDMjSr1Wp78803M1y3ZMmStpYtW9pOnTplO3XqlG3Lli22rl272gDbgAEDUs+7++67bYGBgTZfX19b5cqVbSdPnsxS/cOHD7cBNh8fH1ubNm1sb775pm3Tpk0ZzouMjLQBtsmTJ6ce69Wrlw2wvfXWW6nHzp07Z/Py8rJZLBbbd999l3p8165dNsA2YsSI1GMjRoywZfafhZQ/08jIyHSf8+677059fOXKFVtCQkK61507d84WFBRke/TRR1OPnTp1KsP7Xu/9N2/ebANsjz/+eLrznn32WRtgW7JkSeqxkiVL2gDbihUrUo+dPHnS5uHhYRs6dGiG9xKR/EOTo0TEKTVv3jzd45IlSzJt2jSKFSuW7vjw4cNp3LgxAGfPnmXu3Lm8/PLL+Pj48Mwzz6Q79/fff0/9a3gAFxcXHn74YcaMGZPuvIsXL5KQkEBQUBB+fn5ZqnvUqFFUqFCBDz/8kAULFvDbb7/x8ssvU6NGDaZNm0bFihX/8xqPP/546u8BAQGUL1+effv20aVLl9Tj5cuXJyAggAMHDmSpvutxcXHBxcUFgOTkZKKjo0lOTqZ27dr8+eeft3TNX3/9FYAhQ4akOz506FD+7//+j3nz5nHPPfekHq9UqVJqX4IZSS5fvrzdPqOI5E0KuyLilCZNmkS5cuVwdXUlKCiI8uXLY7VmnLlVtWrVdMG4S5cunD9/nhdffJHu3bunC7f16tXjjTfewGKx4O3tTcWKFQkICMhwzYiICHr27MkLL7xAt27dmDVrVmoQvBndunWjW7duxMTEsG7dOqZMmcL06dNp164d27dvv+GNaZ6enulqBvD396d48eIZ5sP6+/tz7ty5m67rv0ydOpV3332XXbt2kZiYmHo8PDz8lq536NAhrFYrERER6Y4HBwcTEBDAoUOH0h0vUaJEhmsULFjQrp9RRPIehV0RcUp169ZNXY0hq5o1a8Yvv/zC+vXruffee1OPFy5cOMOI8fU8//zznDlzhrFjx9KnTx+++OKLLG+Y4OfnR4sWLWjRogVubm5MnTqVdevWcffdd1/3NdcL1dc7brPZUn+/Xn1JSUn/Wes333xD79696dChA8899xxFixbFxcWF0aNHp86XvlU3++d2M59RRPIfhV0RkX+5cuUKALGxsbd1nTFjxnD27Fk+//xzChYsyLvvvnvL16pduzZTp07l+PHjt1XTjRQsWBCA6OjodCPW/x5Bzcz3339P6dKlmT17drpwOmLEiHTnZSXwlyxZkuTkZPbu3Ztu+saJEyeIjo6mZMmSN30tEcm/tBqDiMi//PLLLwBUr179tq/1ySef0LlzZ9577z3eeOONG54bFxfHmjVrMn3ut99+A8xc2+xSpkwZAFasWJF67OLFi0ydOvU/X5syqnrtKOq6desyfJ6UDT2io6P/85pt27YFYNy4cemOv/feewDpRt1FRK5HI7sikq+tXLmS+Ph4IO0GteXLl9O1a1cqVKhw29e3Wq1MmzaN8+fP8+qrrxIYGEjfvn0zPTcuLo6GDRtSv359WrduTVhYGNHR0fz444+sXLmSDh06UKNGjduu6XpatmxJiRIleOyxx3juuedwcXHhyy+/pEiRIhw+fPiGr73vvvuYPXs2DzzwAPfeey+RkZF8/PHHVKpUKd0IuZeXF5UqVWLGjBmUK1eOwMBAqlSpkukWy9WrV6dXr158+umnREdHc/fdd7N+/XqmTp1Khw4d0t2cJiJyPQq7IpKvjR8/PvV3d3d3SpcuzZtvvslzzz1nt/dwd3dnzpw5NG/enAEDBhAQEED37t0znBcQEMBnn33GvHnzmDx5MlFRUbi4uFC+fHneeecdBg4caLeaMuPm5sacOXPo27cvr776KsHBwQwaNIiCBQvyyCOP3PC1vXv3Jioqik8++YQFCxZQqVIlvvnmG2bNmsWyZcvSnfv5558zYMAABg8ezOXLlxkxYkSmYTfl3NKlSzNlyhTmzJlDcHAww4YNyzA9QkTkeiw2zdwXERERESelObsiIiIi4rQUdkVERETEaSnsioiIiIjTUtgVEREREaelsCsiIiIiTkthV0REREScltbZBZKTkzl27Bi+vr5Z3rteRERERLKfzWbjwoULhIaGYrXe/Hitwi5w7NgxwsLCHF2GiIiIiPyHI0eOULx48Zs+X2EX8PX1Bcwfnp+fX7a/X2JiIr///jstW7bEzc0t299Psp/61DmpX52P+tQ5qV+dT2Z9GhMTQ1hYWGpuu1kKu5A6dcHPzy/Hwq63tzd+fn76UjoJ9alzUr86H/Wpc1K/Op8b9WlWp5zqBjURERERcVoKuyIiIiLitBR2RURERMRpac6uiIiI5HtJSUkkJiY6uox8zcXFBVdXV7svA6uwKyIiIvlabGwsR48exWazObqUfM/b25uQkBC7Bl6FXREREcm3kpKSOHr0KN7e3hQpUkSbSzmIzWbj8uXLnDp1isjISEqVKmW3ayvsioiISL6VmJiIzWajSJEieHl5ObqcfM3Lyws3NzcOHTpk1yklDr1BbcWKFbRr147Q0FAsFgs//vhjuudtNhvDhw8nJCQELy8vmjdvzt69e9Odc/bsWXr06IGfnx8BAQE89thjxMbG5uCnEBERkbxOI7q5Q8o2wPacUuLQsHvx4kWqV6/OpEmTMn1+7NixjB8/no8//ph169bh4+NDq1atiI+PTz2nR48e/P333yxcuJBffvmFFStW8MQTT+TURxARERGRXMyh0xjatGlDmzZtMn3OZrMxbtw4XnnlFdq3bw/AV199RVBQED/++CNdu3Zl586dzJ8/nw0bNlC7dm0AJkyYQNu2bfm///s/QkNDc+yzZMUHH1jx8/N2dBkiIiIiTi/XztmNjIwkKiqK5s2bpx7z9/enXr16rFmzhq5du7JmzRoCAgJSgy5A8+bNsVqtrFu3jgceeCDTayckJJCQkJD6OCYmBjDzdrJ72ZGVKy0895wrrq5N2bEjmZdeSqRgwWx9S8kBKf/caNka56J+dT7qU+d0O/2aMmc3OTmZ5ORke5fmEFOmTGHIkCGcPXvW0aVkWXJyMjabjStXrgDp+/RWv7e5NuxGRUUBEBQUlO54UFBQ6nNRUVEULVo03fOurq4EBgamnpOZ0aNHM2rUqAzHf//9d7y9s3fE9cgRX6pXr8KWLUX54AMXvvzyMg89tJtWrSJxc9OSJ3ndwoULHV2CZAP1q/NRnzqnW+lXV1dXgoODiY2N5fLly9lQVfbo27cv3377LQBubm4UL16crl27MmTIEOLj47HZbKmDeXnJ5cuXuXTpEqtXrwbS92lcXNwtXTPXht3sNGzYMIYMGZL6OCYmhrCwMFq2bImfn1+2v/8jjyQyZswavv++Hjt3uvP551VZtqwKb76ZRIcONjRHPu9JTExk4cKFtGjRAjc3N0eXI3aifnU+6lPndDv9Gh8fz5EjRyhQoACenp7ZVKH9ubm50apVK7788ksSEhL49ddfGTBgAAUKFCA4OBiLxZIjmcbe4uPj8fLyomHDhqxYsSJdn95qeM+1YTc4OBiAEydOEBISknr8xIkT3HHHHannnDx5Mt3rrly5wtmzZ1NfnxkPDw88PDwyHHdzc8uxf/nVqnWSYcOS+PprK8OHw759Fh56yJU774R334W6dXOkDLGznPxnSHKO+tX5qE+d0630a1JSEhaLBavVitVqxWaDWxxAvG3e3tz0gJfFYsHT0zP1/qR+/frx008/8fPPP/Pkk08CaSsb7N+/nyFDhrB27VouXrxIxYoVGT16dLqpoh9++CHvv/8+R44cwd/fn8aNG/P9998D0KRJE6pWrYqLiwtTp07F3d2dN954g+7du9O/f3++//57goKCmDBhQuq9WElJSTzxxBMsWbKEqKgoSpQoQd++fXnmmWdu+LmsVisWiwVXVxNRr+3TW/3OOnQ1hhsJDw8nODiYxYsXpx6LiYlh3bp1NGjQAIAGDRoQHR3Npk2bUs9ZsmQJycnJ1KtXL8drzipXV3jiCdi7F155Bby8YNUqqFcPunWDgwcdXaGIiEj+EhcHBQo4pt1uyPby8sp0KkZsbCxt27Zl8eLF/PXXX7Ru3Zp27dpx+PBhADZu3MjAgQN57bXX2L17N/Pnz+euu+5Kd42pU6dSuHBh1q9fz4ABA3j66ad58MEHadiwIX/++SctW7bk4YcfTp1qkJycTPHixZk1axY7duxg+PDhvPTSS8ycOfP2PuQtcGjYjY2NZfPmzWzevBkwN6Vt3ryZw4cPY7FYGDRoEG+88QZz585l27Zt9OzZk9DQUDp06ABAxYoVad26NX369GH9+vX88ccf9O/fn65du+balRgy4+sLr78Oe/ZA797m/+q++w7Kl4fnn4foaEdXKCIiIrmVzWZj0aJFLFiwgKZNm2Z4vnr16jz55JNUqVKFsmXL8vrrr1OmTBnmzp0LwOHDh/Hx8eG+++6jZMmS1KhRg4EDB2a4xiuvvELZsmUZNmwYnp6eFC5cmD59+lC2bFmGDx/OmTNn2Lp1K2BGYUeNGkXt2rUJDw+nR48ePPLIIw4Juw6dxrBx40buueee1Mcp82h79erFlClTeP7557l48SJPPPEE0dHR3HnnncyfPz/dnJpp06bRv39/mjVrhtVqpVOnTowfPz7HP4s9FC8OkyfDwIHw7LOwZAm88w58+SWMGAFPPQX6WzcREZHs4+0NjtqbKqv3yP/yyy8UKFCAxMREkpOT6d69OyNHjmTWrFnpzouNjWXkyJHMmzeP48ePc+XKFS5dupQ6stuiRQtKlixJ6dKlad26Na1bt+aBBx5Id9N+tWrVUn93cXGhUKFCVK1aNfVYyoIC104vnTRpEl9++SWHDx/m0qVLXL58OXUqak5yaNht0qTJDXfIsFgsvPbaa7z22mvXPScwMJDp06dnR3kOU6MGLFoEv/4Kzz0HO3eaADxhAowdC+3b3/ycHhEREbl5Fgv4+Di6iptzzz338NFHH+Hu7k5oaGjqPNd/e/bZZ1m4cCH/93//R0REBF5eXnTu3Dl1yoOvry9//vkny5Yt4/fff2f48OGMHDmSDRs2EBAQAGScL2uxWNIdS9mBLmX5tu+++45nn32Wd999lwYNGuDr68s777zDunXr7P3H8J9y7Zzd/M5igXvvha1b4aOPoEgRM7f3gQegSRPYuNHRFYqIiIgj+fj4EBERQYkSJa4bdAH++OMPevfuzQMPPEDVqlUJDg7m4L9uDHJ1daV58+aMHTuWrVu3cvDgQZYsWXLLtf3xxx80bNiQvn37UqNGDSIiIti/f/8tX+92KOzmcq6uZvrCvn3w0kvg6QkrVkCdOvC//8GhQ46uUERERHKzsmXLMnv2bDZv3syWLVvo3r17ug00fvnlF8aPH8/mzZs5dOgQX331FcnJyZQvX/623nPjxo0sWLCAPXv28Oqrr7JhwwZ7fJwsU9jNI/z84M03zU1sDz9sjk2bZm5iGzYMzp93bH0iIiKSO7333nsULFiQhg0b0q5dO1q1akXNmjVTnw8ICGD27Nk0bdqUihUr8vHHH/Ptt99SuXLlW37PJ598ko4dO/LQQw9Rr149zpw5Q9++fe3xcbLMYrvRpNl8IiYmBn9/f86fP58jCzAnJiby66+/0rZt21teM27TJhg6FJYvN48LF4ZRo6BPH93E5gj26FPJfdSvzkd96pxup1/j4+OJjIwkPDw8T20q4axS+qN48eIsWbIkXZ/eal7TyG4eVasWLF0KP/1kRndPn4Z+/aBqVZg7F/S/MCIiIiIKu3maxQL33w/btsHEiWZ0d/dus1rDXXfBH384ukIRERERx1LYdQJubmZUd98+eOEFcxPbqlVw551pYVhEREQkP1LYdSL+/vD222aJsj59wMUFfv4ZqleHXr20/bCIiIjkPwq7Tqh4cfj0U9i+HTp1MvN3v/rKzO0dNAhOnXJ0hSIiIiI5Q2HXiVWoAN9/D+vXQ9OmcPkyfPABlC5tVm64cMHRFYqIiIhkL4XdfKBOHbP98O+/Q82aZs/vkSOhTBkYPx4SEhxdoYiIiEj2UNjNJywWaNECNmyAGTOgbFkzneGZZ8wI8NdfQ1KSo6sUERERsS+F3XzGaoUuXeDvv+HjjyEkxNy41rMn1KgBv/yiNXpFRETEeSjs5lNubvDkk2a5stGjzUoO27ZBu3Zao1dERCQvs1gs/Pjjj44uI9dQ2M3nvL3hxRfhwAF4/nmt0SsiIpIX9O7dmw4dOmT63PHjx2nTpk3OFpSLKewKAIGBMGaMGenVGr0iIiJ5V3BwMB4eHtl2/aSkJJKTk7Pt+vamsCvpFCtm1uj9+2/o3Flr9IqISD5js8GVi45pdrpp5tppDA0bNuSFF15I9/ypU6dwc3NjxYoVACQkJPDss89SrFgxfHx8qFevHsuWLUs9f8qUKQQEBDB37lwqVaqEh4cHhw8ftkutOcHV0QVI7lS+PMyaZVZvePFFWLLErNH7xRcwZAgMHgwBAY6uUkRExM6S4mBmAce8d5dYcPWx6yV79OjB2LFjefvtt7FYLADMmDGD0NBQGjduDED//v3ZsWMH3333HaGhocyZM4fWrVuzbds2ypYtC0BcXBxjxozh888/p1ChQhQtWtSudWYnjezKDdWpA4sXp1+j97XXIDwc3nxTG1OIiIjkZl26dOHYsWOsWrUq9dj06dPp1q0bFouFw4cPM3nyZGbNmkXjxo0pU6YMzz77LHfeeSeTJ09OfU1iYiIffvghDRs2pHz58nh7ezvi49wSjezKTWnRApo1gx9+gBEjYOdOeOUVeP99eOEF6NsXfOz7P6MiIiI5z8XbjLA66r3trEiRIrRs2ZJp06bRuHFjIiMjWbNmDZ988gkA27ZtIykpiXLlyqV7XUJCAoUKFUp97O7uTrVq1exeX05Q2JWbZrXCgw9Cx45mY4qRI2HvXrOKw7vvmukOTz1lVnQQERHJkywWu08lcLQePXowcOBAJkyYwPTp06latSpVq1YFIDY2FhcXFzZt2oSLi0u61xUokDadw8vLK3UaRF6jaQySZS4u0L077NgBU6aYKQ0nTph5vGXKwIcfagtiERGR3KJ9+/bEx8czf/58pk+fTo8ePVKfq1GjBklJSZw8eZKIiIh0LTg42IFV24/CrtwyV1ezLNnu3WYFh7AwOHYM+vWDcuXgs88gMdHRVYqIiDin8+fPs3nz5nTtyJEjGc7z8fGhQ4cOvPrqq+zcuZNu3bqlPleuXDl69OhBz549mT17NpGRkaxfv57Ro0czb968nPw42UZhV26bm5tZm3fvXpg40WxBfPgwPPEEVKgAU6fClSuOrlJERMS5LFu2jBo1aqRro0aNyvTcHj16sGXLFho3bkyJEiXSPTd58mR69uzJ0KFDKV++PB06dGDDhg0ZzsurFHbFbjw8zKju/v3mxrWiRc3ObL17Q+XKMH06JCU5ukoREZG8b8qUKdhstgzt888/x2azZdhdrU2bNthsNpYvX57hWm5ubowaNYrIyEguX77MsWPHmD17duq83t69exMdHZ0Dnyp7KOyK3Xl5mQ0oDhyAsWOhUCHYswd69IBq1eD77yEPbbwiIiIieZjCrmQbHx947jmIjIQ33jCbUOzYYVZ0qFkTfvrJbpvFiIiIiGRKYVeyna8vvPyyCb3Dh5vHW7ZAhw5Qty789ptCr4iIiGQPhV3JMQEBMGoUHDwIw4aZkd+NG6FtW2jUCBYtUugVERER+1LYlRwXGAhvvWVGep991szxXbPG7NLWpAksWaLQKyIiOcum//DkCin9YM8NLBR2xWGKFIF33jGrNwwcCO7usGKF2Zb4zjthwQKFXhERyV4pu4ZdvnzZwZUIQFxcHACurvbb5FfbBYvDhYTABx+Ym9nGjDGbUaxeDa1bQ5068OqrcN99ZgdHERERe3J1dcXb25tTp07h5uaG1apxQEew2WzExcVx8uRJAgICMmxdfDsUdiXXKF4cJkyAl16C//s/+Ogj2LAB7r8fatSAV14xN7Xp30MiImIvFouFkJAQIiMjOXTokKPLyfcCAgIIDg7mih13o1LYlVwnJATefRdeeAHeew8mTYK//oJOnaBKFRN6O3cGO/5Pn4iI5GPu7u6ULVtWUxkczM3Nza4juikUdiXXKloU3n7bTG8YNw7Gj4ft26FrVyhf3ixn1q0b2HFaj4iI5FNWqxVPT09HlyHZQH8hLLleoULw+utw6BC89hoULAi7d0PPnlChAnz5JSQmOrpKERERyY0UdiXPCAgwN6sdPAijR0PhwmYlh8ceg7Jl4eOPISHB0VWKiIhIbqKwK3mOnx+8+KIJve++C0FBZtT36aehTBlzk9ulS46uUkRERHIDhV3Js3x8YMgQsznF+PFQrBj8849Zs7d0aXNz28WLjq5SREREHElhV/I8Ly8YMMBMafjoIyhRAqKiYOhQKFXK3OR24YKjqxQRERFHUNgVp+HhAU89BXv3wuefm9Hd06dh2DAoWdLc5BYd7egqRUREJCcp7IrTcXc3N63t3g1ffQXlysG5czB8uBn1feEFOH7c0VWKiIhITlDYFafl6goPPww7dsC335oNKS5cgLFjzfSGJ5+EffscXaWIiIhkJ4VdcXouLmYjii1b4OefoWFDuHwZPv3UbE7x0EPw55+OrlJERESyg8Ku5BtWK9x3H/zxB6xcCffeC8nJMHMm1KoFrVrB0qVgszm6UhEREbEXhV3Jl+68E375xYz29uhhRn9//x2aNoX69WHOHBOERUREJG9T2JV8rVo1+OYbs4JDv37g6Qnr10PHjlC5MkyebKY8iIiISN6ksCsChIfDxIlmJ7aXXwZ/f9i1Cx591OzK9v77EBvr6CpFREQkqxR2Ra5RtCi88QYcPgzvvAMhIXD0qNmprUQJGDHCrN0rIiIieYPCrkgm/Pzg2WfNVsSffQZly5q1el97zYTeZ54xgVhERERyN4VdkRvw8IDHH4edO2HWLKhZEy5dgvHjzfSGXr3g778dXaWIiIhcT64Ou0lJSbz66quEh4fj5eVFmTJleP3117FdszaUzWZj+PDhhISE4OXlRfPmzdm7d68DqxZn5OICnTvDxo2wcCE0awZXrpgd2qpUgY4dXdi1q6CjyxQREZF/ydVhd8yYMXz00UdMnDiRnTt3MmbMGMaOHcuECRNSzxk7dizjx4/n448/Zt26dfj4+NCqVSvi4+MdWLk4K4sFmjeHRYvSVm2wWOCXX6y8+OJd3H23C7NnQ1KSoysVERERyOVhd/Xq1bRv3557772XUqVK0blzZ1q2bMn69esBM6o7btw4XnnlFdq3b0+1atX46quvOHbsGD/++KNjixenV6cO/PCD2Y64d+9kXF2TWbPGSqdOZme2iRPh4kVHVykiIpK/uTq6gBtp2LAhn376KXv27KFcuXJs2bKFVatW8d577wEQGRlJVFQUzZs3T32Nv78/9erVY82aNXTt2jXT6yYkJJCQkJD6OCYmBoDExEQSExOz8ROR+j7X/pS8rUwZmDQpkbvuWsHOnc34/HNX9u+3MGAADB9uo0+fZPr1SyYkxNGVSlbpu+p81KfOSf3qfDLr01vtX4vNlns3R01OTuall15i7NixuLi4kJSUxJtvvsmwYcMAM/LbqFEjjh07Rsg1SaJLly5YLBZmzJiR6XVHjhzJqFGjMhyfPn063t7e2fNhJN+Ij3dhyZISzJ1bmqioAgC4uibTuPFR2rffT6lSMQ6uUEREJO+Ji4uje/funD9/Hj8/v5t+Xa4e2Z05cybTpk1j+vTpVK5cmc2bNzNo0CBCQ0Pp1avXLV932LBhDBkyJPVxTEwMYWFhtGzZMkt/eLcqMTGRhQsX0qJFC9zc3LL9/ST7/btPO3aEDz6An3++wrhxVlavtrJ0aQmWLi1B8+bJDBqUTIsWNiwWR1cuN6LvqvNRnzon9avzyaxPU/4mPqtyddh97rnnePHFF1OnI1StWpVDhw4xevRoevXqRXBwMAAnTpxIN7J74sQJ7rjjjute18PDAw8PjwzH3dzccvRLktPvJ9nv2j51c4MHHzRt3Tp4910zx3fRIiuLFlmpUsVsVtG9u1niTHIvfVedj/rUOalfnU/6/67eWt/m6hvU4uLisFrTl+ji4kJycjIA4eHhBAcHs3jx4tTnY2JiWLduHQ0aNMjRWkVupF49mDkT9u0zG1L4+MD27WY74lKl4K234OxZR1cpIiLifHJ12G3Xrh1vvvkm8+bN4+DBg8yZM4f33nuPBx54AACLxcKgQYN44403mDt3Ltu2baNnz56EhobSoUMHxxYvkonwcBg3zmxBPGYMFCsGUVHw8ssQFgb9+5tALCIiIvaRq8PuhAkT6Ny5M3379qVixYo8++yzPPnkk7z++uup5zz//PMMGDCAJ554gjp16hAbG8v8+fPx9PR0YOUiNxYQAM8/DwcOwNdfwx13QFwcTJoE5cqZ9Xv/+ANy7+2jIiIieUOuDru+vr6MGzeOQ4cOcenSJfbv388bb7yBu7t76jkWi4XXXnuNqKgo4uPjWbRoEeXKlXNg1SI3z90d/vc/+PNPWLwY2rY1AXfOHLjzTmjQwGxTfOWKoysVERHJm3J12BXJLywWaNoU5s2Dv/+Gxx83N62tWwddukDZsvD++3D+vKMrFRERyVsUdkVymUqV4LPP4NAhGD4cCheGgwfNyg3Fipl5vbt3O7pKERGRvEFhVySXCgqCUaPg8GH45BOoXNlsPzxpElSoAG3awG+/wdXFSURERCQTCrsiuZyXFzzxBGzbBosWwf33m2kP8+ebOb4VKsCECXDhgqMrFRERyX0UdkXyCIsFmjWDn34yy5MNGQL+/rB3LwwcaKY4DBqkpctERESupbArkgeVLm12ZDt61ExrKF/ejOx+8IFZuuy+++D337V0mYiIiMKuSB5WoAD07Qs7dsCCBXDvvSbgzpsHrVqZeb4ffQSxsY6uVERExDEUdkWcgNUKLVvCL7/Anj1mWoOvL+zcacJw8eIwdChERjq6UhERkZylsCviZMqWNdMZjh6F8ePN4/Pn4b33oEwZ6NABlizRFAcREckfFHZFnJSfHwwYALt2pU1rsNnMDW7NmkHVqvDpp2abYhEREWelsCvi5KxWs0TZ/PlmWkO/fuDjY3Zqe/JJM8Xh+ec1xUFERJyTwq5IPlKhAkycaKY4vPeeWdXh3Dl45x0zxeHee82836QkR1cqIiJiHwq7IvlQQAAMHmxuZvvpp7QpDr/+Cu3ameA7ejScPOnoSkVERG6Pwq5IPubiYnZkmz/fbE7x7LMQGAiHDsFLL5kpDj16wKpVuqFNRETyJtesnJycnMzy5ctZuXIlhw4dIi4ujiJFilCjRg2aN29OWFhYdtUpItksIsJMZ3jtNZg506zPu24dTJ9uWtWq8PTT8L//mWXNRERE8oKbGtm9dOkSb7zxBmFhYbRt25bffvuN6OhoXFxc2LdvHyNGjCA8PJy2bduydu3a7K5ZRLKRlxf06gVr18LGjfDYY+bYtm1mzd7QUPNz2zZHVyoiIvLfbirslitXjq1bt/LZZ58RExPDmjVr+OGHH/jmm2/49ddfOXz4MPv376dx48Z07dqVzz77LLvrFpEcUKsWfP45HDsG48aZbYljY82ob7VqcNdd8O23cPmyoysVERHJ3E2F3d9//52ZM2fStm1b3NzcMj2nZMmSDBs2jL1799K0aVO7FikijhUQAM88Y5YuW7wYOnUy831XroTu3SEsDF5+2cz1FRERyU1uKuxWrFjxpi/o5uZGmTJlbrkgEcm9LBZo2hS+/94E25EjzbSGkyfhrbfMUmb33w+//QbJyY6uVkRERKsxiMgtKlYMRoyAgwfhhx/MrmzJyfDzz2YTi7JlzQ1vp087ulIREcnP7BZ2K1asiIuLi70uJyJ5hJsbdOwIixaZrYkHDQJ/fzhwwOzMlrJ82fLlWr5MRERynt3C7ujRo/nyyy/tdTkRyYPKl4f33zc3tH3xhbnBLSHBLF3WpInZwe2dd7RZhYiI5By7hd0OHTrQq1cve11ORPIwb2949FGzdNn69dCnDxQoYHZsSxnt7dIFFi7U3F4REclemrMrItmqTh349FMz2vvZZ1C3LiQmwqxZ0LKl2czizTfN8yIiIvaW5bAbHh5O6dKlr9tERDLj6wuPP252Zdu8Gfr1M3N7IyPhlVegRAlo3x7mzYOkJEdXKyIiziJL2wUDDBo0KN3jxMRE/vrrL+bPn89zzz1nr7pExIlVrw4TJ8LYsWYZs88+g1WrYO5c04oXN9MgHnvMhGAREZFbleWw+8wzz2R6fNKkSWzcuPG2CxKR/MPbG3r2NG3nThN6v/oKjh6F116D11+HVq3MnN927czKDyIiIllhtzm7bdq04YcffrDX5UQkn6lYEd57D/75x2xB3LSpWaps/nyzY1tYGAwbBvv3O7pSERHJS+wWdr///nsCAwPtdTkRyac8PKBrV7Mt8d698OKLEBQEJ07A22+bG9qaNYPvvjPLmomIiNxIlqcx1KhRA4vFkvrYZrMRFRXFqVOn+PDDD+1anIjkbxERMHq0mdLw889mmsOCBbBkiWmFCkGvXvDII1CliqOrFRGR3CjLYbdDhw7pHlutVooUKUKTJk2oUKGCveoSEUmVsktbx45w6BB8+aVpR4+aqQ/vvQe1a5vQ260bFCzo6IpFRCS3yHLYHTFiRHbUISJyU0qWhFGjYPhwM5/3iy/MqO/GjaYNGQIdOpjg27w5aBdzEZH8TZtKiEie5OIC994Ls2ebDSnefx+qVTPzeGfMgNatTTB+6SUz91dERPInu4Xd5s2ba1MJEXGIIkVg0CCzWcWmTdC/PwQGmpUdRo+GcuXgzjvNKPCFC46uVkREcpLdwu4DDzxAr1697HU5EZEss1igZk2YMMGM9s6aBW3bgtUKf/xhdnALDjY3tS1bBsnJjq5YRESyW5bn7F5Pv3797HUpEZHb5uEBnTubduwYfP01TJ4Mu3ebjSu++grCw6F3bxN+S5Z0dMUiIpIdNGdXRJxeaCi88ILZpW31arMjm68vREbCiBEm9DZvDtOmQVyco6sVERF7uqWR3Y0bNzJz5kwOHz7M5cuX0z03e/ZsuxQmImJvFgs0aGDauHHm5rbJk82avYsXm+bnBw89ZFZzqFXL0RWLiMjtyvLI7nfffUfDhg3ZuXMnc+bMITExkb///pslS5bg7++fHTWKiNidtzf8738m4EZGwsiRUKoUxMSYzSsaNoRq1Vz5/vuyHD7s6GpFRORWZTnsvvXWW7z//vv8/PPPuLu788EHH7Br1y66dOlCiRIlsqNGEZFsVaqUmc6wf78Z5X34YfDygt27LXzzTSXKlnXlnnvMRhYxMY6uVkREsiLLYXf//v3ce++9ALi7u3Px4kUsFguDBw/m008/tXuBIiI5xWqFe+4xN69FRcEnn1yhcuXT2GwWli2Dxx6DoCDo2hXmzYPEREdXLCIi/yXLYbdgwYJcuLpQZbFixdi+fTsA0dHRxOnODhFxEn5+8MgjNt588w/27k3krbegYkWIjzebVtx3HxQrBgMHwoYNYLM5umIREclMlsPuXXfdxcKFCwF48MEHeeaZZ+jTpw/dunWjWbNmdi9QRMTRSpaEYcPg77/NlsTPPANFi8KpU2ZN37p1TRB+8004dMjR1YqIyLWyHHYnTpxI165dAXj55ZcZMmQIJ06coFOnTnzxxRd2L1BEJLewWMwKDePGwdGjZipD167g6WnW733lFTP/9+674fPPITrawQWLiEjWlx4LDAxM/d1qtfLiiy/atSARkbzAzc3szta2rblp7YcfzMYVy5bBihWm9e8P7dqZG95atwZ3d0dXLSKS/9zUyO7FixezdNGsni8ikpeZ+b1mJYdDh+Dtt6FyZUhIgO+/h/btzcYW/fvDunWa3ysikpNuKuxGRETw9ttvc/z48eueY7PZWLhwIW3atGH8+PF2K1BEJC8JCzO7tW3bBn/+CYMHmxUczpyBSZOgfn2oUAFef92s7ysiItnrpqYxLFu2jJdeeomRI0dSvXp1ateuTWhoKJ6enpw7d44dO3awZs0aXF1dGTZsGE8++WR21y0ikqtZLFCjhmljx8KiRWaaw5w5sGcPDB9uWv360K0bdOkCwcGOrlpExPncVNgtX748P/zwA4cPH2bWrFmsXLmS1atXc+nSJQoXLkyNGjX47LPPaNOmDS4uLtlds4hInuLqaubstm4NFy6YwPv112b3trVrTRs82Kzx260bdOwIBQs6umoREeeQpRvUSpQowdChQxk6dGh21SMi4tR8faFnT9OOH4eZM+Hbb81c3sWLTXv6aWjTxgTfdu3Ax8fRVYuI5F1ZXnpMRETsIyTErNm7dq3ZqvjNN6FqVbMz29y5JuwWLQrdu8PPP8Ply46uWEQk71HYFRHJBUqXhpdegq1bzc1tL71kjsXFmZHf++83c3r79DGrPiQlObpiEZG8IdeH3X/++Yf//e9/FCpUCC8vL6pWrcrGjRtTn7fZbAwfPpyQkBC8vLxo3rw5e/fudWDFIiK3p0oVM8q7b58Z9X3mGRN0z50zm1U0a2ZWfRg0SEuZiYj8l1wdds+dO0ejRo1wc3Pjt99+Y8eOHbz77rsUvObOjbFjxzJ+/Hg+/vhj1q1bh4+PD61atSI+Pt6BlYuI3D6LBerVS9uxbfFiePxxc/Pa8ePwwQdmNYeICHj5Zdi+3dEVi4jkPrk67I4ZM4awsDAmT55M3bp1CQ8Pp2XLlpQpUwYwo7rjxo3jlVdeoX379lSrVo2vvvqKY8eO8eOPPzq2eBERO3JxgaZN4bPPICoqbU6vtzccOABvvWXm+1atan4/cMDRFYuI5A5Z3i44J82dO5dWrVrx4IMPsnz5cooVK0bfvn3p06cPAJGRkURFRdG8efPU1/j7+1OvXj3WrFlD165dM71uQkICCQkJqY9jYmIASExMJDExMRs/Eanvc+1PyfvUp84pt/arxZK2lNnFizBvnoUZM6wsWGBh+3YLL79sRnpr106mUycbnTolU6qUo6vOHXJrn8rtUb86n8z69Fb712Kz2We2V8WKFdmzZw9JdrxrwtPTE4AhQ4bw4IMPsmHDBp555hk+/vhjevXqxerVq2nUqBHHjh0jJCQk9XVdunTBYrEwY8aMTK87cuRIRo0aleH49OnT8fb2tlv9IiI5KTbWjbVrQ1i5shjbthUhOdmS+lzZsudo2PAYDRv+Q1DQJQdWKSJya+Li4ujevTvnz5/Hz8/vpl9nt7D7448/cv78eXr16mWPywHg7u5O7dq1Wb16deqxgQMHsmHDBtasWXPLYTezkd2wsDBOnz6dpT+8W5WYmMjChQtp0aIFbm5u2f5+kv3Up84pL/friRPw449WfvjBwooVlnTBt1atZDp3ttGxYzLh4Q4s0gHycp/K9alfnU9mfRoTE0PhwoWzHHbtNo2hQ4cO9rpUqpCQECpVqpTuWMWKFfnhhx8ACL66t+aJEyfShd0TJ05wxx13XPe6Hh4eeHh4ZDju5uaWo1+SnH4/yX7qU+eUF/u1eHHo39+0Eydg9myYNQuWL4dNm6xs2gTDhrlQuzY8+KBp+Sn45sU+lf+mfnU+1/bprfZtlm9Qi4yMzHRpr71793Lw4MFbKuJ6GjVqxO7du9Md27NnDyVLlgQgPDyc4OBgFi9enPp8TEwM69ato0GDBnatRUQkrwoKMruyLVkCx47BRx+ZrYmtVti4EV54wazpW6cOjB0LkZGOrlhExH6yHHZ79+6dblpBinXr1tG7d2971JRq8ODBrF27lrfeeot9+/Yxffp0Pv30U/r16weAxWJh0KBBvPHGG8ydO5dt27bRs2dPQkNDs2WkWUQkrwsKgqeeSh98mzZV8BUR55XlsPvXX3/RqFGjDMfr16/P5s2b7VFTqjp16jBnzhy+/fZbqlSpwuuvv864cePo0aNH6jnPP/88AwYM4IknnqBOnTrExsYyf/781JvbREQkcynBd/Fis27v9YJv7doKviKSd2V5zq7FYuHChQsZjp8/f96uKzGkuO+++7jvvvtuWM9rr73Ga6+9Zvf3FhHJL4oWNcH3qafg5EmYMwdmzoRly2DTJtNeeAFq1Uqb41u6tKOrFhH5b1ke2b3rrrsYPXp0umCblJTE6NGjufPOO+1anIiI5LyiReHJJ9NGfD/+2GxRbLWa0Pvii1CmDNSoAa+9ZnZu05bFIpJbZXlkd8yYMdx1112UL1+exo0bA7By5UpiYmJYsmSJ3QsUERHHSQm+Tz6ZNuI7a5YZ8d282bQRI6BsWXjgAejY0cz3tebq/TlFJD/J8r+OKlWqxNatW+nSpQsnT57kwoUL9OzZk127dlGlSpXsqFFERHKBlOC7aJFZzmzyZGjXDjw8YO9eM6+3fn0oUQIGDDA3wV254uiqRSS/u6V1dkNDQ3nrrbfsXYuIiOQRhQpB796mXbgAv/1mRn1/+QX++QcmTjStUCG4/34z6tuiBejeYRHJabcUdqOjo1m/fj0nT54kOTk53XM9e/a0S2EiIpI3+PpCly6mxcebub5z5sBPP8Hp02YEePJkKFAA2rY1Ux3atjWvExHJblkOuz///DM9evQgNjYWPz8/LJa0LSgtFovCrohIPubpCffea9rHH8OqVWb3tjlz4OhRs8LDzJng7m5Gejt2NCO/hQs7unIRcVZZnrM7dOhQHn30UWJjY4mOjubcuXOp7ezZs9lRo4iI5EGurtCkCYwfD4cPw/r1ZiWHcuXg8mWYNw8ee8ys93vPPTBhAhw54uiqRcTZZDns/vPPPwwcOBBvb+/sqEdERJyQxWJWaRg9Gnbtgr//htdfN8uXJSeb1R0GDjQ3t9WtC2+9pSXNRMQ+shx2W7VqxcaNG7OjFhERyQcsFqhUCV55Bf780+zM9t57cOed5rkNG+Dll6FqVbOe7+DBsHQpJCY6unIRyYuyPGf33nvv5bnnnmPHjh1UrVoVNze3dM/ff//9ditOREScX6lSJtAOHmyWNPvpJ5g71yxxFhkJ48aZFhBgbmxr3x5atwY/P8fWLSJ5Q5bDbp8+fQAy3Z7XYrFky5bBIiKSPwQFwRNPmHbxIixcaILvzz+blR2mTzfNzc3MB77/ftNKlHB05SKSW2V5GkNycvJ1m4KuiIjYi48PdOgAX34JUVFmZYfnn4fy5c2UhoULzeYVJUuaub8jRpjtjDXPV0SupQ0dRUQk13NxgUaNYMwYc4Pbrl3wzjvQuLHZmnjzZnjtNahdG8LCoG9fmD8fEhIcXbmIONothd3ly5fTrl07IiIiiIiI4P7772flypX2rk1ERCRT5cvDs8/CihVm1HfKFLNmr4+P2cHto4+gTRuzfu+DD8LXX8OZM46uWkQcIcth95tvvqF58+Z4e3szcOBABg4ciJeXF82aNWP69OnZUaOIiMh1FSkCvXrBDz+Yeb3z5sGTT0JICMTGwvffQ8+eZj5w8+Yu/PhjGXbt0nQHkfwiyzeovfnmm4wdO5bBgwenHhs4cCDvvfcer7/+Ot27d7drgSIiIjfL09Os2NC2LXz4oZnDO3euaVu3wooVVlasqMKUKVC6dNpub3ffbV4rIs4nyyO7Bw4coF27dhmO33///URGRtqlKBERkdtltZqNLF5/HbZsSVnPN4nq1U/i7m7jwAGza1vr1lCokFnS7NNPzbbGIuI8shx2w8LCWLx4cYbjixYtIiwszC5FiYiI2FupUtC/fzKjRq0hKuoKc+bA449DaCjExZnR3yefNDe43XGH2dhi9WrQQkMieVuWpzEMHTqUgQMHsnnzZho2bAjAH3/8wZQpU/jggw/sXqCIiIi9FShgljXr0MHM3d282cz1nTcP1q0zI8FbtphtiwsVMqO/994LrVpBYKCDixeRLMly2H366acJDg7m3XffZebMmQBUrFiRGTNm0L59e7sXKCIikp0sFrNOb40aZgvjU6fMsmXz5sGCBWYVh2nTTLNaoWHDtLm+VaqY14tI7pXlsAvwwAMP8MADD9i7FhEREYcrUgQefti0K1fMVIaUUd+//zabW6xaBcOGmSkPKcG3aVPw9nZ09SLybzc9Z/fcuXNMmDCBmJiYDM+dP3/+us+JiIjkVa6ucNddZjOL7dvh4EGYNMms9uDpCUeOwMcfQ7t2ZrpD27bmpre9e7W0mUhucdNhd+LEiaxYsQI/P78Mz/n7+7Ny5UomTJhg1+KcleXA53gma3VzEZG8pmRJszvbvHlmesMvv8DTT0OJEhAfD7/9BgMHQrlyEBEB/frBzz+b9X5FxDFuOuz+8MMPPPXUU9d9/sknn+T777+3S1FO7dxmXDf1pcWlJ3BZ0x1OrtT//ouI5EHe3mb6wocfmhHfbdvMCPA994CbGxw4YJ67/35zU1uzZjB2rFnvV//aF8k5Nx129+/fT9myZa/7fNmyZdm/f79dinJqSZdJLnwnVpKwHv0eFt0Fv9WAfZ/DlThHVyciIrfAYjE3qz3/PCxZAmfPmqXM+vaF8HBITDTHX3gBqleH4sXh0Udh5kxzrohkn5sOuy4uLhw7duy6zx87dgyrNcvL9uY/heuSdM8Slnq+T3L4o+DiBdFbYH0f+LE4/PU8xGpzDhGRvKxAATOPd9Ik2L8f9uyB8ePNSLCXFxw7BpMnw0MPmRviGjaEUaPMsmda11fEvm46ndaoUYMff/zxus/PmTOHGjVq2KOmfCHGJZyk2h9Dh6NQ4x3wKQWXz8HOd2BuGVh+PxxfqL/rEhHJ4ywWKFsWBgwwc3zPnoWFC2HoUKhcGZKTYc0aGDkS6teHokWhWzeYOhWOH3d09SJ5302H3f79+/Puu+8yceJEkq75386kpCQmTJjA+++/T79+/bKlSKfmEQgVn4V2++CuuRDcErDBPz/D0pYwryLsngiJWulCRMQZeHpC8+bwf/9nVng4fBg++ww6dwZ/fxOGv/sOevc2u7vVqAEvvgjLlsHly46uXiTvuemw26lTJ55//nkGDhxIYGAgNWrUoEaNGgQGBjJo0CCGDBlC586ds7NW52Z1geLtoOkCuG8XlBsArr4Qsxs2DYA5xWDjADi/y9GVioiIHYWFmW2LZ82C06fNGr6vvAK1a5vnN29Ou/GtUCG47z744APYsUN/+SdyM7I0yfbNN99k7dq19O7dm9DQUEJCQnjkkUdYs2YNb7/9dnbVmP/4lYfa4+GBf6D2RPCrAFdiYc9EM9K7pCUcnQvJmtglIuJMXF2hUSN4/XXYsAFOnjQ7tz38sJneEBtrlj0bNMhMgShe3IwAf/MNREU5unqR3CnLO6jVrVuXunXrZkct8m9uvlCuH5TtCycWm7B7dC5ELTTNp5R5rsyj4FHI0dWKiIidFSkC3bublpxsli1buNC0lSvNjW5Tp5oGULUqtGhh2l13aUc3EcjiyK44iMUCwc3hrh/h/gNQ8TlwLwgXD8Lm580qDuseh3ObHVyoiIhkF6sV7rgDnnsOfv8dzp0zoff556FmTXPOtm3w3nvQpg0ULGi2MH7rLTNKrFUeJL9S2M1rCpSCGmPNKg71PoeA6pAUD/u/MOv1LmwMh2ZAku5iEBFxZik3uo0ZA5s2walT5sa2xx4zO7pdvgxLl8LLL0PdumYaxIMPwqefQqRWuJR8JMvTGCSXcPWGMo9B6Ufh9GrYPQGO/ACnVpnmUQRK94Yyj4NfOUdXKyIi2axwYbNu70MPmRvX9u41I7+LFqVtdPH996YBlC6dNuWhaVMzEizijBR28zqLBYo0Mi3uGOz7BPZ/BpeOmzV7d74DRZtARB8I6wguno6uWEREspnFAuXKmdavH1y5YqYypMz3XbvWbGf8ySemWa1m9YdmzUzwbdhQ833FeWgagzPxDoVqo6D9YTO/N/ResFjh5DJY3cMsX7ZpCJzf6ehKRUQkB7m6QoMGMHy4ubEtZTvjgQOhYkVz89v69TB6tBnpLVgQmjSB114zS6FpfV/Jy7I8slujRg0sFkuG4xaLBU9PTyIiIujduzf33HOPXQqUW2B1heLtTbt4BA58Cfs/h7ijsPt904rcCWX6QIkHwdXL0RWLiEgO8vU12xm3a2ceHz1qpjssXQqLF8M//8Dy5aaNGGFGeRs3NqO+99xjbohzcXHsZxC5WVke2W3dujUHDhzAx8eHe+65h3vuuYcCBQqwf/9+6tSpw/Hjx2nevDk//fRTdtQrWeUTBlVHwP0H4e5fTAC2uJh5vWt7wZxQs1lF9DZHVyoiIg6Ssl7v1Klw5Ajs2QMffwxdupjlz+LiYMECeOEFc7NboULQvr3Z3GLbNjMyLJJbZXlk9/Tp0wwdOpRXX3013fE33niDQ4cO8fvvvzNixAhef/112rdvb7dC5TZZXaDYvabFHYMDk83c3ouHzPq9eyZCoXoQ8QSUfAhcfRxdsYiIOIDFAmXLmvbkkybI/v23uclt6VKzbfH582YaxNy55jVFipgR36ZNTYuIMNcRyQ2yPLI7c+ZMunXrluF4165dmTlzJgDdunVj9+7dt1+dZA/vUKjyslmz954FENYJLK5wZh2sewxmh8D6p+Hsn46uVEREHMxqNZtVPPMM/PgjnDljbnYbMwZatTJTHE6dgpkz4amnzE1xJUpAr15pI8UijpTlkV1PT09Wr15NREREuuOrV6/G09Pc6Z+cnJz6u+RiFiuEtDTt0gmInAL7PoPY/bDvY9MCa10d7e1mdnQTEZF8zcXFrNxQu7bZ0OLyZXNz25Ilpq1ZY+YAf/WVaWBGeu+5B+6+27TixR37GSR/yXLYHTBgAE899RSbNm2iTp06AGzYsIHPP/+cl156CYAFCxZwxx132LVQyWZeQVDpBbM724llsO9TODobzm6C9U/Cn0NM4I14AgJr6++nREQEAHd3uPNO04YPN/N7V682Ux6WLDGjwPv2mfbZZ+Y1pUub1R5Swm/Jkg79COLkshx2X3nlFcLDw5k4cSJff/01AOXLl+ezzz6je/fuADz11FM8/fTT9q1UcobFCsFNTYs/BZFfmbm9MbvNig77P4eAqhDeC0r1AK9gR1csIiK5iLe32dmteXPzOCYGVqwwc32XL4c//zRr/B44AF9+ac4pWTJ9+A0P15iK2M8tbSrRo0cPevTocd3nvby0lJVT8CwCFYdChSFwaqUZ7T38vVm54a9nYfMLENLKBN/i92vDChERycDPD+67zzQw4fePP9LC78aNcOiQmd87dao5p3hxE3pTArBueJPboR3U5L9ZLFD0LtNqT4BDM+DAVDizFo79appbgFnFIbwXFK6vfyuJiEim/PygTRvTAGJjzbSH5ctNAN6wwcz5nTbNNICQkLRR3yZNoHx5/WdGbl6Ww67Vas10U4kUSUlJt1WQ5HLuBaHsU6bF7DbTHCK/hrgjZqvifZ+Abzko3QtKPWzW+RUREbmOAgWgZUvTwMz5XbMmbVOLtWvh+HH47jvTAIKC4K670gJw2bKOq19yvyyH3Tlz5qR7nJiYyF9//cXUqVMZNWqU3QqTPMCvPFR/E6q9DieWmtHeIz/AhT2w5WXY8goENTXBN6yj1u4VEZH/5O0NzZqZBnDpEqxblxZ+16yBEydg1izTAAoXdqVMmbrs2WPl7ruhRg1wc3PcZ5DcJcthN7ONIjp37kzlypWZMWMGjz32mF0KkzzEYoXgZqYlTjLzeiOnwsnlcGKxaRv6QonOZppD0bvMa0RERP6Dl5eZutCkiXmckGCWOksJv6tXw+nTFk6fDmHdOnOOtzfUr2+2OL7zTvN7gQKO+gTiaHabs1u/fn2eeOIJe11O8io3XyjziGmxkWaKQ+RXZu3eA1NM8ykF4Q9DeE/wjfiPC4qIiKTx8DAhtnFjeOUVs87vunVX+OKL3Zw+XZHVq62cO5e27i+YtYFr1Eh7XaNGULSoYz+H5By7hN1Lly4xfvx4ihUrZo/LibMoEA5Vh0OVV+HUH2a09/BMuHgQtr9uWpFGZrS3RBdw93d0xSIikse4u0P9+jbOnt1H27blcHGxsnMnrFwJq1aZn4cPm1UfNm6E9983rytf3oz6poz+li6tm96cVZbDbsGCBdPdoGaz2bhw4QLe3t588803di1OnITFAkXvNK3WeDj6owm+UQtNCD71B2waCMUfMME3uBlYtVCIiIhkndUKlSub9tRT5tjhwyb4poTf7dth927TvvjCnBMSkj78VqtmRoQl78tyohg3bly6x1arlSJFilCvXj0KFixor7oy9fbbbzNs2DCeeeaZ1Dri4+MZOnQo3333HQkJCbRq1YoPP/yQoKCgbK1FbpGrF5TqZlrcP3Bwmgm+53fAoW9N8ywKYQ+acwo30PxeERG5LSVKQPfupgGcPWvm+qaM/m7YYFZ8uPamN19faNgwLfzWqWPmAkvek6Wwe+XKFQ4dOsSjjz5K8Rze2HrDhg188sknVKtWLd3xwYMHM2/ePGbNmoW/vz/9+/enY8eO/PHHHzlan9wC72JQ6XmzRfHZTSb0HvoO4k/C3kmmeZeAkl1N8A2orr9jEhGR2xYYmH6ji0uXTOBdudK01avhwgVYsMA0AFdXuOMOE4BTWphW18wTsjRk5urqyjvvvMOVK1eyq55MxcbG0qNHDz777LN0o8fnz5/niy++4L333qNp06bUqlWLyZMns3r1atauXZujNcptsFigUG2zYcUDx6DJb+bmNVdfiDsMO8fCbzVgXiXY9hrE7HV0xSIi4kS8vMy6vS+/DPPnw7lzZlvj8ePhwQchNBSuXDFzfsePh65dzWhxWBg89BB88IEJy4mJjv4kkpksT2No2rQpy5cvp1SpUtlQTub69evHvffeS/PmzXnjjTdSj2/atInExESap2zADVSoUIESJUqwZs0a6tevn+n1EhISSEhISH0cExMDmDWDE3Pgn9SU98iJ98qTijQzrcYELMd/w3r4OyzHf8MSswu2jYBtI0guWBNb2EMkhz0I3jn7twyZUZ86J/Wr81GfOqfs6NcqVUx76imw2eDIEVizxsLatRbWrLGwZYuFo0ctzJwJM2ea13h52ahd20b9+jYaNDA/Cxe2W0n5SmZ9eqv9m+Ww26ZNG1588UW2bdtGrVq18PFJv1HA/ffff0uFXM93333Hn3/+yYYNGzI8FxUVhbu7OwEBAemOBwUFERUVdd1rjh49OtMNMH7//Xe8c3BCzsKFC3PsvfIuT6A3rp4PEnJlHcWSVlIkaQvWc3/CuT+xbn2RM9ZK/OPamGOuDbls8XNotepT56R+dT7qU+eU3f3q6wstWpgWH+/C3r0B7NoVyO7dgezaFUhsrDsrV1pYuTLtNaGhsVSocDa1FS9+AatuRblp1/ZpXFzcLV3DYrPZbFl5gfUGPWSxWOy6XfCRI0eoXbs2CxcuTJ2r26RJE+644w7GjRvH9OnTeeSRR9KN0gLUrVuXe+65hzFjxmR63cxGdsPCwjh9+jR+ftkflhITE1m4cCEtWrTATVu8ZF3CKaxHfsByZAbW02lzs20WV2xBzUku0QVbaHuz5m8OUZ86J/Wr81GfOqfc0K/JyWZ1BzPya2XtWgu7dmW8zyQgwEa9emmjv3Xr2rThRSYy69OYmBgKFy7M+fPns5TXsjyym5ycnNWX3LJNmzZx8uRJatasmXosKSmJFStWMHHiRBYsWMDly5eJjo5ON7p74sQJgoODr3tdDw8PPDw8Mhx3c3PL0S9JTr+f03ALhYoDTLt4GA7NgEPfYjn3F5ao+Vij5oOLJ4TeZ25sC21rHudEaepTp6R+dT7qU+fk6H6tVs20lD22zp6FtWvNDW+rV5ttj6OjLSxYYEm98c1qNdMl6tc3rV49qFABjf5edW2f3mrf5urFTJs1a8a2bdvSHXvkkUeoUKECL7zwAmFhYbi5ubF48WI6deoEwO7duzl8+DANGjRwRMmS03xKQKXnTIvZDQevLl92YQ8c+d40Nz+zhm/JblrDV0REckxgILRtaxqYm9y2bk0Lv6tXw6FD5tjWrfDpp+Y8Pz+oWzd9ANbc31uXpf/qJycnM2XKFGbPns3BgwexWCyEh4fTuXNnHn744XSbTdiDr68vVapUSXfMx8eHQoUKpR5/7LHHGDJkCIGBgfj5+TFgwAAaNGhw3ZvTxIn5lYdqI6HqCDj319V1e7+DuKNmWbPIqeBRCIp3gLBOENQMXNwdXbWIiOQTrq5Qs6Zp/fubY//8Y0Z8160zo8AbN0JMDCxaZFqKMmVM6E0JwNWrm93j5L/ddNi12Wzcf//9/Prrr1SvXp2qVatis9nYuXMnvXv3Zvbs2fz444/ZWGrm3n//faxWK506dUq3qYTkYxYLBNY07Y4xZoe2Q9/C4VmQcBr2f2Gamz8Uux9KdILglmbDCxERkRxUrBh07GgamNHf7dtN8E0JwLt2wf79pk2fbs7z8DChOSUA16sHJUtqOfrM3HTYnTJlCitWrGDx4sXcc8896Z5bsmQJHTp04KuvvqJnz552L/Jay5YtS/fY09OTSZMmMWnSpGx9X8mjLFYo2ti0WuPh5Iqr0xvmQHwUHPzaNFcfM8e3RCczx9fV57+vLSIiYmcpm1fccUfadsfnzpl1fK8NwGfPwpo1pqUICkoLvvXrQ+3aZgWJ/O6mw+63337LSy+9lCHogll798UXX2TatGnZHnZFbpnVFYKbmlZrApxeczX4zoa4I3B4hmkuXhDS2kx1KHYfuPs7unIREcnHChaEli1NA7Pu7/79JvSmBODNm+HECfjpJ9PA3ORWqZLZ6rhuXfOzatX8N/3hpsPu1q1bGTt27HWfb9OmDePHj7dLUSLZzuoCRe80reb7cGbD1eD7A8QegKNzTLO6Q3ALE3yLtwePQEdXLiIi+ZzFAhERpv3vf+bYpUtm17eUkd916+DwYTMlYvt2mDzZnOfhYeb7poTfOnWgfHnnXv3hpsPu2bNnCQoKuu7zQUFBnDt3zi5FieQoiwUK1zXtjjEQvQUOXw2+Mbvg2DzT1rtAUNOrwbcDeF3/+yAiIpKTvLygUSPTUhw7ZqY/XNvOnYP1601L4etrpjykhN+6dc1WyM4y//emw25SUhKurtc/3cXFhStXrtilKBGHsVig4B2mVX8Dzu9IC77RWyFqoWkb+0KRxib4hnUEt6KOrlxERCSd0FBo3940SJv+kBJ81683o8EXLsDSpaalKFo0ffitUyfvLn+WpdUYevfunelmDECGXcxEnIJ/Jag63LSYvSb0HvkBzm6Ek8tN2zQQl0L1KZNYAWLLQcGKjq5aREQkg2unP3TrZo5duQI7dqSF3w0bYNs2OHkS5s0zLUWpUunDb82aeeMGuJsOu7169frPc3Rzmjg1v7JQ+UXTYg+aG9uO/ACnV2M9s5YqrIXfpoBfRSh+v1nWrFA9Mz9YREQkF3J1Tdv57bHHzLFLl2DLlrTwu2GD2Qr54EHTZs0y51ksMHQovPOOo6q/OTcddienzGwWEShQCioOMS3uH5IOfc/ZLV9S2LYDS8xO2LETdowBjyJmRYdi90NICy1pJiIiuZ6XV9rmFSmio2HTpvTzf48cgeLFHVbmTdO+qSK3y7sYyRF9Wb2nFG2bN8Tt1GL4Zy4c+xUSTsGByaZZPSC4uRn1Db0PvEMdXbmIiMhNCQiAZs1MSxEVlTeWMVPYFbEn9wAo1dW05EQ4udIE36M/wcWDaSs7AATWSZvuEFDVeW57FRGRfCE42NEV3ByFXZHsYnVL28Si5vtw/u+rwXcunFkHZzeYtvVV8ClpQm/x+6HIXeCSB/5XWUREJA9Q2BXJCRYLBFQxrfJLcOk4/DPPhN+ohXDxEOyZYJqbH4S0MZtYhLYG94KOrl5ERCTPUtgVcQSvEIh43LQrcRC1yATff36G+JNpWxdbXKFoYzPqW+w+8I1wdOUiIiJ5isKuiKO5epvpC8XvB1synF53NfjONZtanFhq2p+DoUAEhLYxrWgTcPVydPUiIiK5msKuSG5isUKRBqbdMRou7DOjvf/8bG52i92XNt3BxdME3tA2ZtqDX1lHVy8iIpLrKOyK5Ga+EVBhsGmJMRC1GI79Bsd/g7ijcHy+aTwDBcpcHfVtq1FfERGRqxR2RfIKNz8Ie8A0m82s7pASfE+uhNj9sGeiaRr1FRERARR2RfKma1d3qPQcJF64Our7641HfUPaQFATM09YREQkH1DYFXEGbr4Q1sG0f4/6nlqVyajv3Sb4hrbVqK+IiDg1hV0RZ3O9Ud/jv5kAHHcEji8w7c9BZtQ3pDWEtDBTH9z9Hf0JRERE7EZhV8TZZRj13ZEWfE9dneu7d5JpFhcoVBeCm0NwCyhUT7u5iYhInqawK5KfWCwQUNm0is+aUd8TS+D472Yntwt74fQa07a/Dq4+ZrQ3Jfz6VzLXEBERySMUdkXyMzdfsy1x8fbm8cVDZje3lJZwGo7NMw3AMzgt+AY3A+9ijqtdRETkJijsikgan5JQ5jHTbMkQvTUt+J5cAfFRcPAb08CM9AY1NwE4qIkJzyIiIrmIwq6IZM5ihYJ3mFbxWUiKN9Mbji804ffsRjP/9/wO2DMeLK5QuN7VUd/mZu6v1c3Rn0JERPI5hV0RuTkunhB0j2m8BQln4cTStJHf2H1w6g/Tto0EV18z2hvcHIKaXp3va3XwhxARkfxGYVdEbo1HIJToZBpA7MGrwXchnFgMCWfgn59NA/AobNb3LdrEhGCFXxERyQEKuyJiHwVKQcTjptmS4dwWE3yjFpnR3oTTcOQH00DhV0REcoTCrojYn8UKgTVMq/Q8JF02c3xPLoMTyxR+RUQkxyjsikj2c3GHIg1Nq/ySwq+IiOQYhV0RyXkKvyIikkMUdkXE8W4r/N4NRRuDf1WwujjyU4iISC6ksCsiuc9/ht9VGcOvq+/V19xpWqG64OrtyE8hIiK5gMKuiOR+mYbfDVeD70o4tRquXIDjC0wDs8lFYM208FukEXgWdejHEBGRnKewKyJ5j4u7Ca9FGpnHyUlwfhucXGVGfU+thEvH4Mx603a9Z87zLXdN+L0TfCPAYnHc5xARkWynsCsieZ/VJW1r4/L9wWaDi4euBt+r7fzfcGGPaQe+NK/zLJo+/Ba8Q1sci4g4GYVdEXE+FovZ5KJAKQj/nzmWcBZOr04Lv2c2QPxJODLbNAAXbyhcPy38+tdy1CcQERE7UdgVkfzBIxCK3WcaQFI8nNl4zejvH5AYDSeWmAa4YqWJtQTWTfOgaCMThH3LaskzEZE8RGFXRPInF08oeqdpYLY4Pr8jLfieWoXl4kH8kw/Cgc9MA3AvCIXqmeBbuIFZ9cE9wFGfQkRE/oPCrogImNHagCqmlX0KgMTzkfy16GNqlbyCy7l1cHYTXD4Hx+eblsKv4tXwWx8K1Qf/ylrzV0Qkl1DYFRG5Hu/iHHdtSHL1tri4uZklz6K3wum1cGat+Rm7H2J2mnZgsnmdawEz4psSfgvX07JnIiIOorArInKzXNyhUG3T6G+OxZ+CM+tM8D291vx+JTbd3F8ACpS+Ou3h6ghwQDVzPRERyVYKuyIit8OzSPob35KTzCjv6TVpI8Dnd0DsAdMOTjPnuXhCwZpQqA4E1jY/dfObiIjdKeyKiNiT1SVt7m9EH3PscrRZ6uza6Q+Xry6Fdnp12mvd/CCwFgTWMaPHgXXAp6Q2vhARuQ0KuyIi2c09AEJamAZm04sLe83ubmc3miB87i9IjIETS01L4VHYjPymjP4G1gbvUId8DBGRvEhhV0Qkp1ks4FfOtJRNL5KvmOkOZzeY9X/PbjA3wyWczrj6g1do+vAbWBs8Czvms4iI5HIKuyIiuYHVFQpWM63MY+ZYUoIJvCmjv2c3mm2PLx2Df+aalsInPG3qQ6HaZjqEm59jPouISC6isCsiklu5eJjR20J1oOzT5tiVi3D2r/QB+MIeuBhp2uFZaa/3LQsFa5gWWNP89CzimM8iIuIgCrsiInmJq0/6nd/A3AB39s/0UyAuHjLzgi/shcMz0871KnY1/NYwq0EE1gDvEroJTkSclsKuiEhe5x4AwU1NSxF/ytz0du4vMxJ87i8TfC/9Y9qxX655fcGMI8C+5bQLnIg4BYVdERFn5FkEQlqaliLxApzbkhaCz/1l5gBfPpdxEwwXb7PxxbUjwP5VzNQKEZE8RGFXRCS/cPPNOAUiKcEE3mtHgKO3mLnBZ66uC5zC4gr+ldJGgQtWM4HYo1DOfxYRkZuksCsikp+5eJipC4E1oczVY8lJZsrDtSPA5/6ChDNmdYjorRA5Ne0aXsVM6E0JvwHVwK88WN0c8pFERK6Vq8Pu6NGjmT17Nrt27cLLy4uGDRsyZswYypcvn3pOfHw8Q4cO5bvvviMhIYFWrVrx4YcfEhQU5MDKRUTyMKsL+FcwrVQ3c8xmg7gjaSPA0VtM6I09kDYP+Phv11zDDfwqZQzBnkG6GU5EclSuDrvLly+nX79+1KlThytXrvDSSy/RsmVLduzYgY+PDwCDBw9m3rx5zJo1C39/f/r370/Hjh35448/HFy9iIgTsVjAp4RpxdunHU+8ANHb00Z8U1pizNVAvAUOXnMdjyJpwTclBPtXAhfPnP5EIpJP5OqwO3/+/HSPp0yZQtGiRdm0aRN33XUX58+f54svvmD69Ok0bWruQp48eTIVK1Zk7dq11K9fP9PrJiQkkJCQkPo4JiYGgMTERBITE7Pp06RJeY+ceC/JGepT56R+vRmeEFDbtBQ2G8QdwnJ+G5bobebn+W1wYR+WhFNwYrFpKadbXKBAWWwB1bD5V8XmXwWbf+WrS6JZ7Vqt+tQ5qV+dT2Z9eqv9a7HZbDa7VJUD9u3bR9myZdm2bRtVqlRhyZIlNGvWjHPnzhEQEJB6XsmSJRk0aBCDBw/O9DojR45k1KhRGY5Pnz4db2/v7CpfRCRfc7El4Jt8BL/kg1fbIfyTD+LOhUzPv4InF6xhxFhLcMEaxgVLCWKsYcRbCmsqhEg+FBcXR/fu3Tl//jx+fje/Q2SuHtm9VnJyMoMGDaJRo0ZUqVIFgKioKNzd3dMFXYCgoCCioqKue61hw4YxZMiQ1McxMTGEhYXRsmXLLP3h3arExEQWLlxIixYtcHPTDRzOQH3qnNSvOcBmIzH+eMZR4JjduNriKZi8l4LJe9O/xNUPm19F8K+Eza8SNv/K2PwqgWfIf4Zg9alzUr86n8z6NOVv4rMqz4Tdfv36sX37dlatWnXb1/Lw8MDDI+NakW5ubjn6Jcnp95Pspz51TurXbOZeEvxKQth9aceSE+HCPrMs2rUtZg+WKzFYzq6Ds+vSX8ctAAIqg/+/WiY3xalPnZP61flc26e32rd5Iuz279+fX375hRUrVlC8ePHU48HBwVy+fJno6Oh0o7snTpwgODjYAZWKiIhdWN3Av6JpdE47nnTZLIuWGoC3m58X9kFiNJz6w7RruQdCQBXwr4y1QAUKJ8VAfE1wLa7pECL5QK4OuzabjQEDBjBnzhyWLVtGeHh4uudr1aqFm5sbixcvplOnTgDs3r2bw4cP06BBA0eULCIi2cnF3YzeBlROfzwpAWJ2ZxwJvrAPLp+Fkyvg5ApcgEYAP79qRoL9ri6x5lcB/CqanwVKgzVX/+dRRLIgV3+b+/Xrx/Tp0/npp5/w9fVNnYfr7++Pl5cX/v7+PPbYYwwZMoTAwED8/PwYMGAADRo0uO5KDCIi4oRcPMxSZgWrpT9+5RLE7EoNv8nnthEX9Sc+thNYEqMz7hIHZlTZt2z6AOxfEXzLg1uBHPtIImIfuTrsfvTRRwA0adIk3fHJkyfTu3dvAN5//32sViudOnVKt6mEiIgIrl4QWMM0ICkxkcW//krbVk1xiz8EMTvh/C4TiGN2mtHhpDg4v8O0f/MunhaAU0KwXwXwDNaUCJFcKleH3ZtZFc3T05NJkyYxadKkHKhIREScgounmccbUCX9cVsyxB2F8zuvCcBXf8afNM/FHYWohelf5+afFoD9yoNvOTM67BsBrlrSUsSRcnXYFRERyVEWa9pOcaGt0j+XcNaM/KYE4JRAfPEAJJ6HM+tM+zfvMBN+/VICcDnTCpQyUyZEJFsp7IqIiNwMj0Ao0sC0ayUlmBUiUgLwhb1wYY9pl89B3BHTrtk1DgCLq7kZLiUA+5VLGxH2Lmb33eNE8iuFXRERkdvh4pH5lAiAhDMQsyct/MbsSQvDSZfSjjPvX9f0+lcILpsWhD20g5xIVijsioiIZBePQpmPBtuS4dKxa4Lw3rTfYw+YIBy91bR/c/ODAmVM8424+rMMFIjQiLBIJhR2RUREcprFalZ28C4OwU3TP5ecCLEH00+HSAnCcUcgMQbO/WXav1k9zNSIawNwyk+fkmadYpF8RmFXREQkN7G6gV9Z02ib/rmkeIiNNJtlxO5P+xm73xxPTrh6A93OjNe1WMG7xDWjwRHXjBCXAVefHPl4IjlNYVdERCSvcPG8Zhvlf0m+YkZ+rw3BqT/3m/WDLx40jUUZX+8ZfHVUOBx8ws3PlN+9i2tXOcmz9E+uiIiIM7C6pgXU4Obpn7PZID7KhN7MwvDls+b5+Cg4vTrjtS2uZgm1lOsXKJ0WiH3CwbOobpqTXEthV0RExNlZLOAVYlrROzM+f/mcCcIXI810iNjItN8vHoTky+bxxUg4kcn1XbzNusHXBuCUUFwg3NxUJ+IgCrsiIiL5nXtBKFTbtH+zJcOl41dD8IFrQvDVn3FHb7zFMoB7IPiUMjfJZdbcAzUyLNlGYVdERESuz2I1S5p5F8t8VDjpMsQdzhiGUwJxwmkzTeLyWTj3Z+bv4epjQq/3dcKwV4iWVJNbprArIiIit87F3azs4BuR+fOJF8xUiNiDcPEQxB0yP1Na/Am4cvHGI8NWNzNnOCX8/jsUuwdn16cTJ6CwKyIiItnHzRcCqpqWmSuXzCoSF/8VglNCcdzRq2sPHzAtE65YaGUJwGVxBPiUMMHYOwx8wtJ+9wwGq0s2flDJrRR2RURExHFcvcyWyH7lMn8++Qpc+idjGE4NxYexJMXjaTsHZzeYlhmLK3iFpg/A/w7FHkU0d9gJKeyKiIhI7mV1TZuukBmbjcTYf1i9cAaNapbANeH41ZHiI+Zn3BGzNbPtiplbHHf4+u/l4glexTMJxMXNnGWv4mYLaAXiPEVhV0RERPIuiwU8g4h2icBWrC24uWU8JzkJ4o+nD8ApLeVYfNTVHer2mXY9Vg8zQuxdDLyu3rjnXTztd69i5nltzZxrKOyKiIiIc7O6XB2dLQ40yPycpMtmusS/R4Xjjph5w5f+gfiTZkvmlDWHb8SjSMYQnPrz6kixm79GiXOAwq6IiIiIi3vaDnHXk5Rg1hy+9A/E/XP159Frfr/6M/kyJJwy7dxfN3hP76sBOPTqph/X+enqq1B8GxR2RURERG6Gi4fZKa5AqeufY7OZtYXTBeJ/0kaHU45dPmc247iw17QbcfUBzxDwDjU/rxeK3fwUijOhsCsiIiJiLxYLeBYxreAd1z/vSlxa8L10/Go7lvYz/jjEHYMrF8w6xP81lxjAxSuTIBxill3zDAavqz89CuerZdgUdkVERERymqs3+JU17UYSY00Ajs8kEF/7M/E8JF2C2P2m3YjFauYUXxuAvYLBMyjjMbeAPD9arLArIiIiklu5FQC3mwjFV+L+FYJTRoij4FKU+RkfBfGnwJZsdq6LPwHRW258Xat7xhDsGZT2e0DV66+RnEso7IqIiIjkda7e4FvGtBtJvmLmFF8bgi9FXQ2//zqWGG1utktZlSIzFZ+HGmPs/nHsSWFXREREJL+wuppRWa9gKPgf5ybFm+XWrh0Z/ncw9quQI2XfDoVdEREREcnIxRN8SpiWh1kdXYCIiIiISHZR2BURERERp6WwKyIiIiJOS2FXRERERJyWwq6IiIiIOC2FXRERERFxWgq7IiIiIuK0FHZFRERExGkp7IqIiIiI01LYFRERERGnpbArIiIiIk7L1dEF5AY2mw2AmJiYHHm/xMRE4uLiiImJwc3NLUfeU7KX+tQ5qV+dj/rUOalfnU9mfZqS01Jy281S2AUuXLgAQFhYmIMrEREREZEbuXDhAv7+/jd9vsWW1XjshJKTkzl27Bi+vr5YLJZsf7+YmBjCwsI4cuQIfn5+2f5+kv3Up85J/ep81KfOSf3qfDLrU5vNxoULFwgNDcVqvfmZuBrZBaxWK8WLF8/x9/Xz89OX0smoT52T+tX5qE+dk/rV+fy7T7MyoptCN6iJiIiIiNNS2BURERERp6Ww6wAeHh6MGDECDw8PR5cidqI+dU7qV+ejPnVO6lfnY88+1Q1qIiIiIuK0NLIrIiIiIk5LYVdEREREnJbCroiIiIg4LYVdEREREXFaCrs5bNKkSZQqVQpPT0/q1avH+vXrHV2S3IaRI0disVjStQoVKji6LMmCFStW0K5dO0JDQ7FYLPz444/pnrfZbAwfPpyQkBC8vLxo3rw5e/fudUyxctP+q1979+6d4bvbunVrxxQrN2X06NHUqVMHX19fihYtSocOHdi9e3e6c+Lj4+nXrx+FChWiQIECdOrUiRMnTjioYvkvN9OnTZo0yfBdfeqpp7L0Pgq7OWjGjBkMGTKEESNG8Oeff1K9enVatWrFyZMnHV2a3IbKlStz/Pjx1LZq1SpHlyRZcPHiRapXr86kSZMyfX7s2LGMHz+ejz/+mHXr1uHj40OrVq2Ij4/P4UolK/6rXwFat26d7rv77bff5mCFklXLly+nX79+rF27loULF5KYmEjLli25ePFi6jmDBw/m559/ZtasWSxfvpxjx47RsWNHB1YtN3IzfQrQp0+fdN/VsWPHZu2NbJJj6tata+vXr1/q46SkJFtoaKht9OjRDqxKbseIESNs1atXd3QZYieAbc6cOamPk5OTbcHBwbZ33nkn9Vh0dLTNw8PD9u233zqgQrkV/+5Xm81m69Wrl619+/YOqUfs4+TJkzbAtnz5cpvNZr6bbm5utlmzZqWes3PnThtgW7NmjaPKlCz4d5/abDbb3XffbXvmmWdu67oa2c0hly9fZtOmTTRv3jz1mNVqpXnz5qxZs8aBlcnt2rt3L6GhoZQuXZoePXpw+PBhR5ckdhIZGUlUVFS6762/vz/16tXT99YJLFu2jKJFi1K+fHmefvppzpw54+iSJAvOnz8PQGBgIACbNm0iMTEx3fe1QoUKlChRQt/XPOLffZpi2rRpFC5cmCpVqjBs2DDi4uKydF1Xu1UoN3T69GmSkpIICgpKdzwoKIhdu3Y5qCq5XfXq1WPKlCmUL1+e48ePM2rUKBo3bsz27dvx9fV1dHlym6KiogAy/d6mPCd5U+vWrenYsSPh4eHs37+fl156iTZt2rBmzRpcXFwcXZ78h+TkZAYNGkSjRo2oUqUKYL6v7u7uBAQEpDtX39e8IbM+BejevTslS5YkNDSUrVu38sILL7B7925mz55909dW2BW5DW3atEn9vVq1atSrV4+SJUsyc+ZMHnvsMQdWJiI30rVr19Tfq1atSrVq1ShTpgzLli2jWbNmDqxMbka/fv3Yvn277pFwItfr0yeeeCL196pVqxISEkKzZs3Yv38/ZcqUualraxpDDilcuDAuLi4Z7go9ceIEwcHBDqpK7C0gIIBy5cqxb98+R5cidpDy3dT31vmVLl2awoUL67ubB/Tv359ffvmFpUuXUrx48dTjwcHBXL58mejo6HTn6/ua+12vTzNTr149gCx9VxV2c4i7uzu1atVi8eLFqceSk5NZvHgxDRo0cGBlYk+xsbHs37+fkJAQR5cidhAeHk5wcHC6721MTAzr1q3T99bJHD16lDNnzui7m4vZbDb69+/PnDlzWLJkCeHh4emer1WrFm5ubum+r7t37+bw4cP6vuZS/9Wnmdm8eTNAlr6rmsaQg4YMGUKvXr2oXbs2devWZdy4cVy8eJFHHnnE0aXJLXr22Wdp164dJUuW5NixY4wYMQIXFxe6devm6NLkJsXGxqYbIYiMjGTz5s0EBgZSokQJBg0axBtvvEHZsmUJDw/n1VdfJTQ0lA4dOjiuaPlPN+rXwMBARo0aRadOnQgODmb//v08//zzRERE0KpVKwdWLTfSr18/pk+fzk8//YSvr2/qPFx/f3+8vLzw9/fnscceY8iQIQQGBuLn58eAAQNo0KAB9evXd3D1kpn/6tP9+/czffp02rZtS6FChdi6dSuDBw/mrrvuolq1ajf/Rre1loNk2YQJE2wlSpSwubu72+rWrWtbu3ato0uS2/DQQw/ZQkJCbO7u7rZixYrZHnroIdu+ffscXZZkwdKlS21AhtarVy+bzWaWH3v11VdtQUFBNg8PD1uzZs1su3fvdmzR8p9u1K9xcXG2li1b2ooUKWJzc3OzlSxZ0tanTx9bVFSUo8uWG8isPwHb5MmTU8+5dOmSrW/fvraCBQvavL29bQ888IDt+PHjjitabui/+vTw4cO2u+66yxYYGGjz8PCwRURE2J577jnb+fPns/Q+lqtvJiIiIiLidDRnV0RERESclsKuiIiIiDgthV0RERERcVoKuyIiIiLitBR2RURERMRpKeyKiIiIiNNS2BURERERp6WwKyIiIiJOS2FXRCSX6N27t0O3IX744Yd56623Uh+XKlWKcePGXff806dPU7RoUY4ePZoD1YmI3BpXRxcgIpIfWCyWGz4/YsQIPvjgAxy1qeWWLVv49ddf+eijj276NYULF6Znz56MGDGCL774IhurExG5dQq7IiI54Pjx46m/z5gxg+HDh7N79+7UYwUKFKBAgQKOKA2ACRMm8OCDD2a5hkceeYRatWrxzjvvEBgYmE3ViYjcOk1jEBHJAcHBwanN398fi8WS7liBAgUyTGNo0qQJAwYMYNCgQRQsWJCgoCA+++wzLl68yCOPPIKvry8RERH89ttv6d5r+/bttGnThgIFChAUFMTDDz/M6dOnr1tbUlIS33//Pe3atcvwXFxcHI8++ii+vr6UKFGCTz/9NN3zlStXJjQ0lDlz5tzeH5CISDZR2BURycWmTp1K4cKFWb9+PQMGDODpp5/mwQcfpGHDhvz555+0bNmShx9+mLi4OACio6Np2rQpNWrUYOPGjcyfP58TJ07QpUuX677H1q1bOX/+PLVr187w3Lvvvkvt2rX566+/6Nu3L08//XS6EWmAunXrsnLlSvt+cBERO1HYFRHJxapXr84rr7xC2bJlGTZsGJ6enhQuXJg+ffpQtmxZhg8fzpkzZ9i6dSsAEydOpEaNGrz11ltUqFCBGjVq8OWXX7J06VL27NmT6XscOnQIFxcXihYtmuG5tm3b0rdvXyIiInjhhRcoXLgwS5cuTXdOaGgohw4dsv+HFxGxA83ZFRHJxapVq5b6u4uLC4UKFaJq1aqpx4KCggA4efIkYG40W7p0aaZzb/fv30+5cuUyHL906RIeHh6Z3kR37funTL1Iea8UXl5eqSPLIiK5jcKuiEgu5ubmlu6xxWJJdywloCYnJwMQGxtLu3btGDNmTIZrhYSEZPoehQsXJi4ujsuXL+Pu7v6f75/yXinOnj1LkSJFbvITiYjkLIVdEREnUrNmTX744QdKlSqFq+vN/Sv+jjvuAGDHjh2pv2fF9u3badKkSZZfJyKSEzRnV0TEifTr14+zZ8/SrVs3NmzYwP79+1mwYAGPPPIISUlJmb6mSJEi1KxZk1WrVmX5/eLi4ti0aRMtW7a83dJFRLKFwq6IiBMJDQ3ljz/+ICkpiZYtW1K1alUGDRpEQEAAVuv1/5X/+OOPM23atCy/308//USJEiVo3Ljx7ZQtIpJtLDZHbdcjIiK5xqVLlyhfvjwzZsygQYMGN/26+vXrM3DgQLp3756N1YmI3DqN7IqICF5eXnz11Vc33Hzi306fPk3Hjh3p1q1bNlYmInJ7NLIrIiIiIk5LI7siIiIi4rQUdkVERETEaSnsioiIiIjTUtgVEREREaelsCsiIiIiTkthV0RERESclsKuiIiIiDgthV0RERERcVoKuyIiIiLitP4f6A3S+cZ93egAAAAASUVORK5CYII=\n"
                },
                "metadata": {}
              },
              {
                "output_type": "stream",
                "name": "stdout",
                "text": [
                  "🧪 Simulated MS/MS Spectrum:\n",
                  "  m/z: 100.00, Intensity: 500.00\n",
                  "  m/z: 150.50, Intensity: 200.00\n",
                  "  m/z: 201.20, Intensity: 800.00\n",
                  "  m/z: 250.00, Intensity: 150.00\n"
                ]
              }
            ]
          }
        },
        "11ab9ceb7bea4d349b15a636d9948524": {
          "model_module": "@jupyter-widgets/base",
          "model_name": "LayoutModel",
          "model_module_version": "1.2.0",
          "state": {
            "_model_module": "@jupyter-widgets/base",
            "_model_module_version": "1.2.0",
            "_model_name": "LayoutModel",
            "_view_count": null,
            "_view_module": "@jupyter-widgets/base",
            "_view_module_version": "1.2.0",
            "_view_name": "LayoutView",
            "align_content": null,
            "align_items": null,
            "align_self": null,
            "border": null,
            "bottom": null,
            "display": null,
            "flex": null,
            "flex_flow": null,
            "grid_area": null,
            "grid_auto_columns": null,
            "grid_auto_flow": null,
            "grid_auto_rows": null,
            "grid_column": null,
            "grid_gap": null,
            "grid_row": null,
            "grid_template_areas": null,
            "grid_template_columns": null,
            "grid_template_rows": null,
            "height": null,
            "justify_content": null,
            "justify_items": null,
            "left": null,
            "margin": null,
            "max_height": null,
            "max_width": null,
            "min_height": null,
            "min_width": null,
            "object_fit": null,
            "object_position": null,
            "order": null,
            "overflow": null,
            "overflow_x": null,
            "overflow_y": null,
            "padding": null,
            "right": null,
            "top": null,
            "visibility": null,
            "width": null
          }
        },
        "2a0ed592e5444b91aaa14af630f8244d": {
          "model_module": "@jupyter-widgets/controls",
          "model_name": "TextModel",
          "model_module_version": "1.5.0",
          "state": {
            "_dom_classes": [],
            "_model_module": "@jupyter-widgets/controls",
            "_model_module_version": "1.5.0",
            "_model_name": "TextModel",
            "_view_count": null,
            "_view_module": "@jupyter-widgets/controls",
            "_view_module_version": "1.5.0",
            "_view_name": "TextView",
            "continuous_update": true,
            "description": "SMILES:",
            "description_tooltip": null,
            "disabled": false,
            "layout": "IPY_MODEL_f9d6265ba672444e81c78e158321e6c5",
            "placeholder": "​",
            "style": "IPY_MODEL_88f1429900d74f0b8fae9aa2614c6f52",
            "value": "C1=CC2=C3C(=C1)C=CC4=C5C=CC=CC5=CC=C4C3=CC=C2"
          }
        },
        "f9d6265ba672444e81c78e158321e6c5": {
          "model_module": "@jupyter-widgets/base",
          "model_name": "LayoutModel",
          "model_module_version": "1.2.0",
          "state": {
            "_model_module": "@jupyter-widgets/base",
            "_model_module_version": "1.2.0",
            "_model_name": "LayoutModel",
            "_view_count": null,
            "_view_module": "@jupyter-widgets/base",
            "_view_module_version": "1.2.0",
            "_view_name": "LayoutView",
            "align_content": null,
            "align_items": null,
            "align_self": null,
            "border": null,
            "bottom": null,
            "display": null,
            "flex": null,
            "flex_flow": null,
            "grid_area": null,
            "grid_auto_columns": null,
            "grid_auto_flow": null,
            "grid_auto_rows": null,
            "grid_column": null,
            "grid_gap": null,
            "grid_row": null,
            "grid_template_areas": null,
            "grid_template_columns": null,
            "grid_template_rows": null,
            "height": null,
            "justify_content": null,
            "justify_items": null,
            "left": null,
            "margin": null,
            "max_height": null,
            "max_width": null,
            "min_height": null,
            "min_width": null,
            "object_fit": null,
            "object_position": null,
            "order": null,
            "overflow": null,
            "overflow_x": null,
            "overflow_y": null,
            "padding": null,
            "right": null,
            "top": null,
            "visibility": null,
            "width": null
          }
        },
        "88f1429900d74f0b8fae9aa2614c6f52": {
          "model_module": "@jupyter-widgets/controls",
          "model_name": "DescriptionStyleModel",
          "model_module_version": "1.5.0",
          "state": {
            "_model_module": "@jupyter-widgets/controls",
            "_model_module_version": "1.5.0",
            "_model_name": "DescriptionStyleModel",
            "_view_count": null,
            "_view_module": "@jupyter-widgets/base",
            "_view_module_version": "1.2.0",
            "_view_name": "StyleView",
            "description_width": ""
          }
        },
        "5f0db640925944ddb212a97824ae61e6": {
          "model_module": "@jupyter-widgets/controls",
          "model_name": "ButtonModel",
          "model_module_version": "1.5.0",
          "state": {
            "_dom_classes": [],
            "_model_module": "@jupyter-widgets/controls",
            "_model_module_version": "1.5.0",
            "_model_name": "ButtonModel",
            "_view_count": null,
            "_view_module": "@jupyter-widgets/controls",
            "_view_module_version": "1.5.0",
            "_view_name": "ButtonView",
            "button_style": "",
            "description": "Analyze",
            "disabled": false,
            "icon": "",
            "layout": "IPY_MODEL_7ebedcebbcad4b798412c7159cf687ef",
            "style": "IPY_MODEL_36b5b3915807455d9b3a677f9706a52b",
            "tooltip": ""
          }
        },
        "7ebedcebbcad4b798412c7159cf687ef": {
          "model_module": "@jupyter-widgets/base",
          "model_name": "LayoutModel",
          "model_module_version": "1.2.0",
          "state": {
            "_model_module": "@jupyter-widgets/base",
            "_model_module_version": "1.2.0",
            "_model_name": "LayoutModel",
            "_view_count": null,
            "_view_module": "@jupyter-widgets/base",
            "_view_module_version": "1.2.0",
            "_view_name": "LayoutView",
            "align_content": null,
            "align_items": null,
            "align_self": null,
            "border": null,
            "bottom": null,
            "display": null,
            "flex": null,
            "flex_flow": null,
            "grid_area": null,
            "grid_auto_columns": null,
            "grid_auto_flow": null,
            "grid_auto_rows": null,
            "grid_column": null,
            "grid_gap": null,
            "grid_row": null,
            "grid_template_areas": null,
            "grid_template_columns": null,
            "grid_template_rows": null,
            "height": null,
            "justify_content": null,
            "justify_items": null,
            "left": null,
            "margin": null,
            "max_height": null,
            "max_width": null,
            "min_height": null,
            "min_width": null,
            "object_fit": null,
            "object_position": null,
            "order": null,
            "overflow": null,
            "overflow_x": null,
            "overflow_y": null,
            "padding": null,
            "right": null,
            "top": null,
            "visibility": null,
            "width": null
          }
        },
        "36b5b3915807455d9b3a677f9706a52b": {
          "model_module": "@jupyter-widgets/controls",
          "model_name": "ButtonStyleModel",
          "model_module_version": "1.5.0",
          "state": {
            "_model_module": "@jupyter-widgets/controls",
            "_model_module_version": "1.5.0",
            "_model_name": "ButtonStyleModel",
            "_view_count": null,
            "_view_module": "@jupyter-widgets/base",
            "_view_module_version": "1.2.0",
            "_view_name": "StyleView",
            "button_color": null,
            "font_weight": ""
          }
        },
        "c359aab20231465ebc0d93ad922b6286": {
          "model_module": "@jupyter-widgets/output",
          "model_name": "OutputModel",
          "model_module_version": "1.0.0",
          "state": {
            "_dom_classes": [],
            "_model_module": "@jupyter-widgets/output",
            "_model_module_version": "1.0.0",
            "_model_name": "OutputModel",
            "_view_count": null,
            "_view_module": "@jupyter-widgets/output",
            "_view_module_version": "1.0.0",
            "_view_name": "OutputView",
            "layout": "IPY_MODEL_f3cf9141ead247148c7a5cf7854a0c97",
            "msg_id": "",
            "outputs": [
              {
                "output_type": "stream",
                "name": "stdout",
                "text": [
                  "Analyzing SMILES: C1=CC2=C3C(=C1)C=CC4=C5C=CC=CC5=CC=C4C3=CC=C2\n",
                  "✅ Predicted Clearance: 9.22 L/hr\n"
                ]
              },
              {
                "output_type": "display_data",
                "data": {
                  "text/plain": "<Figure size 800x400 with 1 Axes>",
                  "image/png": "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\n"
                },
                "metadata": {}
              },
              {
                "output_type": "stream",
                "name": "stdout",
                "text": [
                  "🧪 Simulated MS/MS Spectrum:\n",
                  "  m/z: 100.00, Intensity: 500.00\n",
                  "  m/z: 150.50, Intensity: 200.00\n",
                  "  m/z: 201.20, Intensity: 800.00\n",
                  "  m/z: 250.00, Intensity: 150.00\n"
                ]
              }
            ]
          }
        },
        "f3cf9141ead247148c7a5cf7854a0c97": {
          "model_module": "@jupyter-widgets/base",
          "model_name": "LayoutModel",
          "model_module_version": "1.2.0",
          "state": {
            "_model_module": "@jupyter-widgets/base",
            "_model_module_version": "1.2.0",
            "_model_name": "LayoutModel",
            "_view_count": null,
            "_view_module": "@jupyter-widgets/base",
            "_view_module_version": "1.2.0",
            "_view_name": "LayoutView",
            "align_content": null,
            "align_items": null,
            "align_self": null,
            "border": null,
            "bottom": null,
            "display": null,
            "flex": null,
            "flex_flow": null,
            "grid_area": null,
            "grid_auto_columns": null,
            "grid_auto_flow": null,
            "grid_auto_rows": null,
            "grid_column": null,
            "grid_gap": null,
            "grid_row": null,
            "grid_template_areas": null,
            "grid_template_columns": null,
            "grid_template_rows": null,
            "height": null,
            "justify_content": null,
            "justify_items": null,
            "left": null,
            "margin": null,
            "max_height": null,
            "max_width": null,
            "min_height": null,
            "min_width": null,
            "object_fit": null,
            "object_position": null,
            "order": null,
            "overflow": null,
            "overflow_x": null,
            "overflow_y": null,
            "padding": null,
            "right": null,
            "top": null,
            "visibility": null,
            "width": null
          }
        },
        "0fce4ba3fe614236a767ab4bd31220ca": {
          "model_module": "@jupyter-widgets/controls",
          "model_name": "VBoxModel",
          "model_module_version": "1.5.0",
          "state": {
            "_dom_classes": [],
            "_model_module": "@jupyter-widgets/controls",
            "_model_module_version": "1.5.0",
            "_model_name": "VBoxModel",
            "_view_count": null,
            "_view_module": "@jupyter-widgets/controls",
            "_view_module_version": "1.5.0",
            "_view_name": "VBoxView",
            "box_style": "",
            "children": [
              "IPY_MODEL_ec14d83efc7b4012b37ed0d17fd82a5a",
              "IPY_MODEL_b2c14ed05eb148cd90fd4f7cb91c8682",
              "IPY_MODEL_f4516d60a0364fffa38e0c928a34a73d"
            ],
            "layout": "IPY_MODEL_c5fdbd42ac9643618b4e555b9af04870"
          }
        },
        "ec14d83efc7b4012b37ed0d17fd82a5a": {
          "model_module": "@jupyter-widgets/controls",
          "model_name": "TextModel",
          "model_module_version": "1.5.0",
          "state": {
            "_dom_classes": [],
            "_model_module": "@jupyter-widgets/controls",
            "_model_module_version": "1.5.0",
            "_model_name": "TextModel",
            "_view_count": null,
            "_view_module": "@jupyter-widgets/controls",
            "_view_module_version": "1.5.0",
            "_view_name": "TextView",
            "continuous_update": true,
            "description": "SMILES 1:",
            "description_tooltip": null,
            "disabled": false,
            "layout": "IPY_MODEL_8cf3e1fb919449c9a3f2986e86cf0657",
            "placeholder": "​",
            "style": "IPY_MODEL_ce64efe6a38f4ecea2561e7297963a18",
            "value": "CC[N+](C)(C)CCOC1=CC2=C(C=C1)N=CN=C2"
          }
        },
        "b2c14ed05eb148cd90fd4f7cb91c8682": {
          "model_module": "@jupyter-widgets/controls",
          "model_name": "ButtonModel",
          "model_module_version": "1.5.0",
          "state": {
            "_dom_classes": [],
            "_model_module": "@jupyter-widgets/controls",
            "_model_module_version": "1.5.0",
            "_model_name": "ButtonModel",
            "_view_count": null,
            "_view_module": "@jupyter-widgets/controls",
            "_view_module_version": "1.5.0",
            "_view_name": "ButtonView",
            "button_style": "primary",
            "description": "Analyze",
            "disabled": false,
            "icon": "",
            "layout": "IPY_MODEL_4de637404084421684b9effcd6325189",
            "style": "IPY_MODEL_6ff55fe673d74eeb9ccdf1056efc106f",
            "tooltip": ""
          }
        },
        "f4516d60a0364fffa38e0c928a34a73d": {
          "model_module": "@jupyter-widgets/output",
          "model_name": "OutputModel",
          "model_module_version": "1.0.0",
          "state": {
            "_dom_classes": [],
            "_model_module": "@jupyter-widgets/output",
            "_model_module_version": "1.0.0",
            "_model_name": "OutputModel",
            "_view_count": null,
            "_view_module": "@jupyter-widgets/output",
            "_view_module_version": "1.0.0",
            "_view_name": "OutputView",
            "layout": "IPY_MODEL_edf9c6025edc4e08994192b557c23890",
            "msg_id": "",
            "outputs": [
              {
                "output_type": "stream",
                "name": "stdout",
                "text": [
                  "🔍 Analyzing SMILES: CC[N+](C)(C)CCOC1=CC2=C(C=C1)N=CN=C2\n",
                  "✅ Predicted Clearance: 9.79 L/hr\n"
                ]
              },
              {
                "output_type": "display_data",
                "data": {
                  "text/plain": "<Figure size 600x300 with 1 Axes>",
                  "image/png": "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\n"
                },
                "metadata": {}
              },
              {
                "output_type": "stream",
                "name": "stdout",
                "text": [
                  "🧪 Simulated MS/MS Spectrum:\n",
                  "  m/z: 100.00, Intensity: 500.00\n",
                  "  m/z: 150.50, Intensity: 200.00\n",
                  "  m/z: 201.20, Intensity: 800.00\n",
                  "  m/z: 250.00, Intensity: 150.00\n"
                ]
              }
            ]
          }
        },
        "c5fdbd42ac9643618b4e555b9af04870": {
          "model_module": "@jupyter-widgets/base",
          "model_name": "LayoutModel",
          "model_module_version": "1.2.0",
          "state": {
            "_model_module": "@jupyter-widgets/base",
            "_model_module_version": "1.2.0",
            "_model_name": "LayoutModel",
            "_view_count": null,
            "_view_module": "@jupyter-widgets/base",
            "_view_module_version": "1.2.0",
            "_view_name": "LayoutView",
            "align_content": null,
            "align_items": null,
            "align_self": null,
            "border": null,
            "bottom": null,
            "display": null,
            "flex": null,
            "flex_flow": null,
            "grid_area": null,
            "grid_auto_columns": null,
            "grid_auto_flow": null,
            "grid_auto_rows": null,
            "grid_column": null,
            "grid_gap": null,
            "grid_row": null,
            "grid_template_areas": null,
            "grid_template_columns": null,
            "grid_template_rows": null,
            "height": null,
            "justify_content": null,
            "justify_items": null,
            "left": null,
            "margin": null,
            "max_height": null,
            "max_width": null,
            "min_height": null,
            "min_width": null,
            "object_fit": null,
            "object_position": null,
            "order": null,
            "overflow": null,
            "overflow_x": null,
            "overflow_y": null,
            "padding": null,
            "right": null,
            "top": null,
            "visibility": null,
            "width": null
          }
        },
        "8cf3e1fb919449c9a3f2986e86cf0657": {
          "model_module": "@jupyter-widgets/base",
          "model_name": "LayoutModel",
          "model_module_version": "1.2.0",
          "state": {
            "_model_module": "@jupyter-widgets/base",
            "_model_module_version": "1.2.0",
            "_model_name": "LayoutModel",
            "_view_count": null,
            "_view_module": "@jupyter-widgets/base",
            "_view_module_version": "1.2.0",
            "_view_name": "LayoutView",
            "align_content": null,
            "align_items": null,
            "align_self": null,
            "border": null,
            "bottom": null,
            "display": null,
            "flex": null,
            "flex_flow": null,
            "grid_area": null,
            "grid_auto_columns": null,
            "grid_auto_flow": null,
            "grid_auto_rows": null,
            "grid_column": null,
            "grid_gap": null,
            "grid_row": null,
            "grid_template_areas": null,
            "grid_template_columns": null,
            "grid_template_rows": null,
            "height": null,
            "justify_content": null,
            "justify_items": null,
            "left": null,
            "margin": null,
            "max_height": null,
            "max_width": null,
            "min_height": null,
            "min_width": null,
            "object_fit": null,
            "object_position": null,
            "order": null,
            "overflow": null,
            "overflow_x": null,
            "overflow_y": null,
            "padding": null,
            "right": null,
            "top": null,
            "visibility": null,
            "width": "600px"
          }
        },
        "ce64efe6a38f4ecea2561e7297963a18": {
          "model_module": "@jupyter-widgets/controls",
          "model_name": "DescriptionStyleModel",
          "model_module_version": "1.5.0",
          "state": {
            "_model_module": "@jupyter-widgets/controls",
            "_model_module_version": "1.5.0",
            "_model_name": "DescriptionStyleModel",
            "_view_count": null,
            "_view_module": "@jupyter-widgets/base",
            "_view_module_version": "1.2.0",
            "_view_name": "StyleView",
            "description_width": ""
          }
        },
        "4de637404084421684b9effcd6325189": {
          "model_module": "@jupyter-widgets/base",
          "model_name": "LayoutModel",
          "model_module_version": "1.2.0",
          "state": {
            "_model_module": "@jupyter-widgets/base",
            "_model_module_version": "1.2.0",
            "_model_name": "LayoutModel",
            "_view_count": null,
            "_view_module": "@jupyter-widgets/base",
            "_view_module_version": "1.2.0",
            "_view_name": "LayoutView",
            "align_content": null,
            "align_items": null,
            "align_self": null,
            "border": null,
            "bottom": null,
            "display": null,
            "flex": null,
            "flex_flow": null,
            "grid_area": null,
            "grid_auto_columns": null,
            "grid_auto_flow": null,
            "grid_auto_rows": null,
            "grid_column": null,
            "grid_gap": null,
            "grid_row": null,
            "grid_template_areas": null,
            "grid_template_columns": null,
            "grid_template_rows": null,
            "height": null,
            "justify_content": null,
            "justify_items": null,
            "left": null,
            "margin": null,
            "max_height": null,
            "max_width": null,
            "min_height": null,
            "min_width": null,
            "object_fit": null,
            "object_position": null,
            "order": null,
            "overflow": null,
            "overflow_x": null,
            "overflow_y": null,
            "padding": null,
            "right": null,
            "top": null,
            "visibility": null,
            "width": null
          }
        },
        "6ff55fe673d74eeb9ccdf1056efc106f": {
          "model_module": "@jupyter-widgets/controls",
          "model_name": "ButtonStyleModel",
          "model_module_version": "1.5.0",
          "state": {
            "_model_module": "@jupyter-widgets/controls",
            "_model_module_version": "1.5.0",
            "_model_name": "ButtonStyleModel",
            "_view_count": null,
            "_view_module": "@jupyter-widgets/base",
            "_view_module_version": "1.2.0",
            "_view_name": "StyleView",
            "button_color": null,
            "font_weight": ""
          }
        },
        "edf9c6025edc4e08994192b557c23890": {
          "model_module": "@jupyter-widgets/base",
          "model_name": "LayoutModel",
          "model_module_version": "1.2.0",
          "state": {
            "_model_module": "@jupyter-widgets/base",
            "_model_module_version": "1.2.0",
            "_model_name": "LayoutModel",
            "_view_count": null,
            "_view_module": "@jupyter-widgets/base",
            "_view_module_version": "1.2.0",
            "_view_name": "LayoutView",
            "align_content": null,
            "align_items": null,
            "align_self": null,
            "border": null,
            "bottom": null,
            "display": null,
            "flex": null,
            "flex_flow": null,
            "grid_area": null,
            "grid_auto_columns": null,
            "grid_auto_flow": null,
            "grid_auto_rows": null,
            "grid_column": null,
            "grid_gap": null,
            "grid_row": null,
            "grid_template_areas": null,
            "grid_template_columns": null,
            "grid_template_rows": null,
            "height": null,
            "justify_content": null,
            "justify_items": null,
            "left": null,
            "margin": null,
            "max_height": null,
            "max_width": null,
            "min_height": null,
            "min_width": null,
            "object_fit": null,
            "object_position": null,
            "order": null,
            "overflow": null,
            "overflow_x": null,
            "overflow_y": null,
            "padding": null,
            "right": null,
            "top": null,
            "visibility": null,
            "width": null
          }
        },
        "d0d247f9f21a4d3a889c11d46516b5ea": {
          "model_module": "@jupyter-widgets/controls",
          "model_name": "VBoxModel",
          "model_module_version": "1.5.0",
          "state": {
            "_dom_classes": [],
            "_model_module": "@jupyter-widgets/controls",
            "_model_module_version": "1.5.0",
            "_model_name": "VBoxModel",
            "_view_count": null,
            "_view_module": "@jupyter-widgets/controls",
            "_view_module_version": "1.5.0",
            "_view_name": "VBoxView",
            "box_style": "",
            "children": [
              "IPY_MODEL_f3a6fd63f0a3412684d5230c1aacab73",
              "IPY_MODEL_51513d22795546a4bb05dd2f74c41b93",
              "IPY_MODEL_9fd968aed0c54584befcd480b09ae49c"
            ],
            "layout": "IPY_MODEL_32b4d087e557437bb740203339f7f06c"
          }
        },
        "f3a6fd63f0a3412684d5230c1aacab73": {
          "model_module": "@jupyter-widgets/controls",
          "model_name": "TextModel",
          "model_module_version": "1.5.0",
          "state": {
            "_dom_classes": [],
            "_model_module": "@jupyter-widgets/controls",
            "_model_module_version": "1.5.0",
            "_model_name": "TextModel",
            "_view_count": null,
            "_view_module": "@jupyter-widgets/controls",
            "_view_module_version": "1.5.0",
            "_view_name": "TextView",
            "continuous_update": true,
            "description": "SMILES 2:",
            "description_tooltip": null,
            "disabled": false,
            "layout": "IPY_MODEL_e26b13e78cb74e259c63e395547c7cb8",
            "placeholder": "​",
            "style": "IPY_MODEL_c019f711ea4146c7813ea1396a306e3b",
            "value": "O=P(OCCCl)(NCC1CCCCC1)NCC2CCCCC2"
          }
        },
        "51513d22795546a4bb05dd2f74c41b93": {
          "model_module": "@jupyter-widgets/controls",
          "model_name": "ButtonModel",
          "model_module_version": "1.5.0",
          "state": {
            "_dom_classes": [],
            "_model_module": "@jupyter-widgets/controls",
            "_model_module_version": "1.5.0",
            "_model_name": "ButtonModel",
            "_view_count": null,
            "_view_module": "@jupyter-widgets/controls",
            "_view_module_version": "1.5.0",
            "_view_name": "ButtonView",
            "button_style": "primary",
            "description": "Analyze",
            "disabled": false,
            "icon": "",
            "layout": "IPY_MODEL_92235dd4dcc84aeabb6eefc8fd0f73a9",
            "style": "IPY_MODEL_6ad72dfd8e1a44aca8dc15805dd80c45",
            "tooltip": ""
          }
        },
        "9fd968aed0c54584befcd480b09ae49c": {
          "model_module": "@jupyter-widgets/output",
          "model_name": "OutputModel",
          "model_module_version": "1.0.0",
          "state": {
            "_dom_classes": [],
            "_model_module": "@jupyter-widgets/output",
            "_model_module_version": "1.0.0",
            "_model_name": "OutputModel",
            "_view_count": null,
            "_view_module": "@jupyter-widgets/output",
            "_view_module_version": "1.0.0",
            "_view_name": "OutputView",
            "layout": "IPY_MODEL_27daa775197745429a745147edf5f5d6",
            "msg_id": "",
            "outputs": [
              {
                "output_type": "stream",
                "name": "stdout",
                "text": [
                  "🔍 Analyzing SMILES: O=P(OCCCl)(NCC1CCCCC1)NCC2CCCCC2\n",
                  "✅ Predicted Clearance: 7.99 L/hr\n"
                ]
              },
              {
                "output_type": "display_data",
                "data": {
                  "text/plain": "<Figure size 600x300 with 1 Axes>",
                  "image/png": "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\n"
                },
                "metadata": {}
              },
              {
                "output_type": "stream",
                "name": "stdout",
                "text": [
                  "🧪 Simulated MS/MS Spectrum:\n",
                  "  m/z: 100.00, Intensity: 500.00\n",
                  "  m/z: 150.50, Intensity: 200.00\n",
                  "  m/z: 201.20, Intensity: 800.00\n",
                  "  m/z: 250.00, Intensity: 150.00\n"
                ]
              }
            ]
          }
        },
        "32b4d087e557437bb740203339f7f06c": {
          "model_module": "@jupyter-widgets/base",
          "model_name": "LayoutModel",
          "model_module_version": "1.2.0",
          "state": {
            "_model_module": "@jupyter-widgets/base",
            "_model_module_version": "1.2.0",
            "_model_name": "LayoutModel",
            "_view_count": null,
            "_view_module": "@jupyter-widgets/base",
            "_view_module_version": "1.2.0",
            "_view_name": "LayoutView",
            "align_content": null,
            "align_items": null,
            "align_self": null,
            "border": null,
            "bottom": null,
            "display": null,
            "flex": null,
            "flex_flow": null,
            "grid_area": null,
            "grid_auto_columns": null,
            "grid_auto_flow": null,
            "grid_auto_rows": null,
            "grid_column": null,
            "grid_gap": null,
            "grid_row": null,
            "grid_template_areas": null,
            "grid_template_columns": null,
            "grid_template_rows": null,
            "height": null,
            "justify_content": null,
            "justify_items": null,
            "left": null,
            "margin": null,
            "max_height": null,
            "max_width": null,
            "min_height": null,
            "min_width": null,
            "object_fit": null,
            "object_position": null,
            "order": null,
            "overflow": null,
            "overflow_x": null,
            "overflow_y": null,
            "padding": null,
            "right": null,
            "top": null,
            "visibility": null,
            "width": null
          }
        },
        "e26b13e78cb74e259c63e395547c7cb8": {
          "model_module": "@jupyter-widgets/base",
          "model_name": "LayoutModel",
          "model_module_version": "1.2.0",
          "state": {
            "_model_module": "@jupyter-widgets/base",
            "_model_module_version": "1.2.0",
            "_model_name": "LayoutModel",
            "_view_count": null,
            "_view_module": "@jupyter-widgets/base",
            "_view_module_version": "1.2.0",
            "_view_name": "LayoutView",
            "align_content": null,
            "align_items": null,
            "align_self": null,
            "border": null,
            "bottom": null,
            "display": null,
            "flex": null,
            "flex_flow": null,
            "grid_area": null,
            "grid_auto_columns": null,
            "grid_auto_flow": null,
            "grid_auto_rows": null,
            "grid_column": null,
            "grid_gap": null,
            "grid_row": null,
            "grid_template_areas": null,
            "grid_template_columns": null,
            "grid_template_rows": null,
            "height": null,
            "justify_content": null,
            "justify_items": null,
            "left": null,
            "margin": null,
            "max_height": null,
            "max_width": null,
            "min_height": null,
            "min_width": null,
            "object_fit": null,
            "object_position": null,
            "order": null,
            "overflow": null,
            "overflow_x": null,
            "overflow_y": null,
            "padding": null,
            "right": null,
            "top": null,
            "visibility": null,
            "width": "600px"
          }
        },
        "c019f711ea4146c7813ea1396a306e3b": {
          "model_module": "@jupyter-widgets/controls",
          "model_name": "DescriptionStyleModel",
          "model_module_version": "1.5.0",
          "state": {
            "_model_module": "@jupyter-widgets/controls",
            "_model_module_version": "1.5.0",
            "_model_name": "DescriptionStyleModel",
            "_view_count": null,
            "_view_module": "@jupyter-widgets/base",
            "_view_module_version": "1.2.0",
            "_view_name": "StyleView",
            "description_width": ""
          }
        },
        "92235dd4dcc84aeabb6eefc8fd0f73a9": {
          "model_module": "@jupyter-widgets/base",
          "model_name": "LayoutModel",
          "model_module_version": "1.2.0",
          "state": {
            "_model_module": "@jupyter-widgets/base",
            "_model_module_version": "1.2.0",
            "_model_name": "LayoutModel",
            "_view_count": null,
            "_view_module": "@jupyter-widgets/base",
            "_view_module_version": "1.2.0",
            "_view_name": "LayoutView",
            "align_content": null,
            "align_items": null,
            "align_self": null,
            "border": null,
            "bottom": null,
            "display": null,
            "flex": null,
            "flex_flow": null,
            "grid_area": null,
            "grid_auto_columns": null,
            "grid_auto_flow": null,
            "grid_auto_rows": null,
            "grid_column": null,
            "grid_gap": null,
            "grid_row": null,
            "grid_template_areas": null,
            "grid_template_columns": null,
            "grid_template_rows": null,
            "height": null,
            "justify_content": null,
            "justify_items": null,
            "left": null,
            "margin": null,
            "max_height": null,
            "max_width": null,
            "min_height": null,
            "min_width": null,
            "object_fit": null,
            "object_position": null,
            "order": null,
            "overflow": null,
            "overflow_x": null,
            "overflow_y": null,
            "padding": null,
            "right": null,
            "top": null,
            "visibility": null,
            "width": null
          }
        },
        "6ad72dfd8e1a44aca8dc15805dd80c45": {
          "model_module": "@jupyter-widgets/controls",
          "model_name": "ButtonStyleModel",
          "model_module_version": "1.5.0",
          "state": {
            "_model_module": "@jupyter-widgets/controls",
            "_model_module_version": "1.5.0",
            "_model_name": "ButtonStyleModel",
            "_view_count": null,
            "_view_module": "@jupyter-widgets/base",
            "_view_module_version": "1.2.0",
            "_view_name": "StyleView",
            "button_color": null,
            "font_weight": ""
          }
        },
        "27daa775197745429a745147edf5f5d6": {
          "model_module": "@jupyter-widgets/base",
          "model_name": "LayoutModel",
          "model_module_version": "1.2.0",
          "state": {
            "_model_module": "@jupyter-widgets/base",
            "_model_module_version": "1.2.0",
            "_model_name": "LayoutModel",
            "_view_count": null,
            "_view_module": "@jupyter-widgets/base",
            "_view_module_version": "1.2.0",
            "_view_name": "LayoutView",
            "align_content": null,
            "align_items": null,
            "align_self": null,
            "border": null,
            "bottom": null,
            "display": null,
            "flex": null,
            "flex_flow": null,
            "grid_area": null,
            "grid_auto_columns": null,
            "grid_auto_flow": null,
            "grid_auto_rows": null,
            "grid_column": null,
            "grid_gap": null,
            "grid_row": null,
            "grid_template_areas": null,
            "grid_template_columns": null,
            "grid_template_rows": null,
            "height": null,
            "justify_content": null,
            "justify_items": null,
            "left": null,
            "margin": null,
            "max_height": null,
            "max_width": null,
            "min_height": null,
            "min_width": null,
            "object_fit": null,
            "object_position": null,
            "order": null,
            "overflow": null,
            "overflow_x": null,
            "overflow_y": null,
            "padding": null,
            "right": null,
            "top": null,
            "visibility": null,
            "width": null
          }
        },
        "e9738e8ef6b540eda6e3922f877293d6": {
          "model_module": "@jupyter-widgets/controls",
          "model_name": "VBoxModel",
          "model_module_version": "1.5.0",
          "state": {
            "_dom_classes": [],
            "_model_module": "@jupyter-widgets/controls",
            "_model_module_version": "1.5.0",
            "_model_name": "VBoxModel",
            "_view_count": null,
            "_view_module": "@jupyter-widgets/controls",
            "_view_module_version": "1.5.0",
            "_view_name": "VBoxView",
            "box_style": "",
            "children": [
              "IPY_MODEL_a53784b3ceda4d6cb0527f4392f3f086",
              "IPY_MODEL_7d0347d12d334c95a36085bddc64138d",
              "IPY_MODEL_7d14805616c44cf3be031ac7990e0d85"
            ],
            "layout": "IPY_MODEL_66dd179832e240c2bad23dd66d2afcfd"
          }
        },
        "a53784b3ceda4d6cb0527f4392f3f086": {
          "model_module": "@jupyter-widgets/controls",
          "model_name": "TextModel",
          "model_module_version": "1.5.0",
          "state": {
            "_dom_classes": [],
            "_model_module": "@jupyter-widgets/controls",
            "_model_module_version": "1.5.0",
            "_model_name": "TextModel",
            "_view_count": null,
            "_view_module": "@jupyter-widgets/controls",
            "_view_module_version": "1.5.0",
            "_view_name": "TextView",
            "continuous_update": true,
            "description": "SMILES 3:",
            "description_tooltip": null,
            "disabled": false,
            "layout": "IPY_MODEL_4cfe38d13c814659bba11e3c4d209a15",
            "placeholder": "​",
            "style": "IPY_MODEL_8c8953736b464e83a0033d5613c5c7f5",
            "value": "COC1C2C(C3C(C2NC4=CC=CC=C34)C(=O)OC1N)N=O"
          }
        },
        "7d0347d12d334c95a36085bddc64138d": {
          "model_module": "@jupyter-widgets/controls",
          "model_name": "ButtonModel",
          "model_module_version": "1.5.0",
          "state": {
            "_dom_classes": [],
            "_model_module": "@jupyter-widgets/controls",
            "_model_module_version": "1.5.0",
            "_model_name": "ButtonModel",
            "_view_count": null,
            "_view_module": "@jupyter-widgets/controls",
            "_view_module_version": "1.5.0",
            "_view_name": "ButtonView",
            "button_style": "primary",
            "description": "Analyze",
            "disabled": false,
            "icon": "",
            "layout": "IPY_MODEL_0ca6bbe38c3549be86d1af0c3281a91b",
            "style": "IPY_MODEL_31c445f4790147a48411f9b4620aaef7",
            "tooltip": ""
          }
        },
        "7d14805616c44cf3be031ac7990e0d85": {
          "model_module": "@jupyter-widgets/output",
          "model_name": "OutputModel",
          "model_module_version": "1.0.0",
          "state": {
            "_dom_classes": [],
            "_model_module": "@jupyter-widgets/output",
            "_model_module_version": "1.0.0",
            "_model_name": "OutputModel",
            "_view_count": null,
            "_view_module": "@jupyter-widgets/output",
            "_view_module_version": "1.0.0",
            "_view_name": "OutputView",
            "layout": "IPY_MODEL_ae1c885ddb4f4ba686a800e79a5e41fa",
            "msg_id": "",
            "outputs": [
              {
                "output_type": "stream",
                "name": "stdout",
                "text": [
                  "🔍 Analyzing SMILES: COC1C2C(C3C(C2NC4=CC=CC=C34)C(=O)OC1N)N=O\n",
                  "✅ Predicted Clearance: 8.57 L/hr\n"
                ]
              },
              {
                "output_type": "display_data",
                "data": {
                  "text/plain": "<Figure size 600x300 with 1 Axes>",
                  "image/png": "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\n"
                },
                "metadata": {}
              },
              {
                "output_type": "stream",
                "name": "stdout",
                "text": [
                  "🧪 Simulated MS/MS Spectrum:\n",
                  "  m/z: 100.00, Intensity: 500.00\n",
                  "  m/z: 150.50, Intensity: 200.00\n",
                  "  m/z: 201.20, Intensity: 800.00\n",
                  "  m/z: 250.00, Intensity: 150.00\n"
                ]
              }
            ]
          }
        },
        "66dd179832e240c2bad23dd66d2afcfd": {
          "model_module": "@jupyter-widgets/base",
          "model_name": "LayoutModel",
          "model_module_version": "1.2.0",
          "state": {
            "_model_module": "@jupyter-widgets/base",
            "_model_module_version": "1.2.0",
            "_model_name": "LayoutModel",
            "_view_count": null,
            "_view_module": "@jupyter-widgets/base",
            "_view_module_version": "1.2.0",
            "_view_name": "LayoutView",
            "align_content": null,
            "align_items": null,
            "align_self": null,
            "border": null,
            "bottom": null,
            "display": null,
            "flex": null,
            "flex_flow": null,
            "grid_area": null,
            "grid_auto_columns": null,
            "grid_auto_flow": null,
            "grid_auto_rows": null,
            "grid_column": null,
            "grid_gap": null,
            "grid_row": null,
            "grid_template_areas": null,
            "grid_template_columns": null,
            "grid_template_rows": null,
            "height": null,
            "justify_content": null,
            "justify_items": null,
            "left": null,
            "margin": null,
            "max_height": null,
            "max_width": null,
            "min_height": null,
            "min_width": null,
            "object_fit": null,
            "object_position": null,
            "order": null,
            "overflow": null,
            "overflow_x": null,
            "overflow_y": null,
            "padding": null,
            "right": null,
            "top": null,
            "visibility": null,
            "width": null
          }
        },
        "4cfe38d13c814659bba11e3c4d209a15": {
          "model_module": "@jupyter-widgets/base",
          "model_name": "LayoutModel",
          "model_module_version": "1.2.0",
          "state": {
            "_model_module": "@jupyter-widgets/base",
            "_model_module_version": "1.2.0",
            "_model_name": "LayoutModel",
            "_view_count": null,
            "_view_module": "@jupyter-widgets/base",
            "_view_module_version": "1.2.0",
            "_view_name": "LayoutView",
            "align_content": null,
            "align_items": null,
            "align_self": null,
            "border": null,
            "bottom": null,
            "display": null,
            "flex": null,
            "flex_flow": null,
            "grid_area": null,
            "grid_auto_columns": null,
            "grid_auto_flow": null,
            "grid_auto_rows": null,
            "grid_column": null,
            "grid_gap": null,
            "grid_row": null,
            "grid_template_areas": null,
            "grid_template_columns": null,
            "grid_template_rows": null,
            "height": null,
            "justify_content": null,
            "justify_items": null,
            "left": null,
            "margin": null,
            "max_height": null,
            "max_width": null,
            "min_height": null,
            "min_width": null,
            "object_fit": null,
            "object_position": null,
            "order": null,
            "overflow": null,
            "overflow_x": null,
            "overflow_y": null,
            "padding": null,
            "right": null,
            "top": null,
            "visibility": null,
            "width": "600px"
          }
        },
        "8c8953736b464e83a0033d5613c5c7f5": {
          "model_module": "@jupyter-widgets/controls",
          "model_name": "DescriptionStyleModel",
          "model_module_version": "1.5.0",
          "state": {
            "_model_module": "@jupyter-widgets/controls",
            "_model_module_version": "1.5.0",
            "_model_name": "DescriptionStyleModel",
            "_view_count": null,
            "_view_module": "@jupyter-widgets/base",
            "_view_module_version": "1.2.0",
            "_view_name": "StyleView",
            "description_width": ""
          }
        },
        "0ca6bbe38c3549be86d1af0c3281a91b": {
          "model_module": "@jupyter-widgets/base",
          "model_name": "LayoutModel",
          "model_module_version": "1.2.0",
          "state": {
            "_model_module": "@jupyter-widgets/base",
            "_model_module_version": "1.2.0",
            "_model_name": "LayoutModel",
            "_view_count": null,
            "_view_module": "@jupyter-widgets/base",
            "_view_module_version": "1.2.0",
            "_view_name": "LayoutView",
            "align_content": null,
            "align_items": null,
            "align_self": null,
            "border": null,
            "bottom": null,
            "display": null,
            "flex": null,
            "flex_flow": null,
            "grid_area": null,
            "grid_auto_columns": null,
            "grid_auto_flow": null,
            "grid_auto_rows": null,
            "grid_column": null,
            "grid_gap": null,
            "grid_row": null,
            "grid_template_areas": null,
            "grid_template_columns": null,
            "grid_template_rows": null,
            "height": null,
            "justify_content": null,
            "justify_items": null,
            "left": null,
            "margin": null,
            "max_height": null,
            "max_width": null,
            "min_height": null,
            "min_width": null,
            "object_fit": null,
            "object_position": null,
            "order": null,
            "overflow": null,
            "overflow_x": null,
            "overflow_y": null,
            "padding": null,
            "right": null,
            "top": null,
            "visibility": null,
            "width": null
          }
        },
        "31c445f4790147a48411f9b4620aaef7": {
          "model_module": "@jupyter-widgets/controls",
          "model_name": "ButtonStyleModel",
          "model_module_version": "1.5.0",
          "state": {
            "_model_module": "@jupyter-widgets/controls",
            "_model_module_version": "1.5.0",
            "_model_name": "ButtonStyleModel",
            "_view_count": null,
            "_view_module": "@jupyter-widgets/base",
            "_view_module_version": "1.2.0",
            "_view_name": "StyleView",
            "button_color": null,
            "font_weight": ""
          }
        },
        "ae1c885ddb4f4ba686a800e79a5e41fa": {
          "model_module": "@jupyter-widgets/base",
          "model_name": "LayoutModel",
          "model_module_version": "1.2.0",
          "state": {
            "_model_module": "@jupyter-widgets/base",
            "_model_module_version": "1.2.0",
            "_model_name": "LayoutModel",
            "_view_count": null,
            "_view_module": "@jupyter-widgets/base",
            "_view_module_version": "1.2.0",
            "_view_name": "LayoutView",
            "align_content": null,
            "align_items": null,
            "align_self": null,
            "border": null,
            "bottom": null,
            "display": null,
            "flex": null,
            "flex_flow": null,
            "grid_area": null,
            "grid_auto_columns": null,
            "grid_auto_flow": null,
            "grid_auto_rows": null,
            "grid_column": null,
            "grid_gap": null,
            "grid_row": null,
            "grid_template_areas": null,
            "grid_template_columns": null,
            "grid_template_rows": null,
            "height": null,
            "justify_content": null,
            "justify_items": null,
            "left": null,
            "margin": null,
            "max_height": null,
            "max_width": null,
            "min_height": null,
            "min_width": null,
            "object_fit": null,
            "object_position": null,
            "order": null,
            "overflow": null,
            "overflow_x": null,
            "overflow_y": null,
            "padding": null,
            "right": null,
            "top": null,
            "visibility": null,
            "width": null
          }
        },
        "71e5ce1ef73c4b6c9378b924c63934fb": {
          "model_module": "@jupyter-widgets/controls",
          "model_name": "VBoxModel",
          "model_module_version": "1.5.0",
          "state": {
            "_dom_classes": [],
            "_model_module": "@jupyter-widgets/controls",
            "_model_module_version": "1.5.0",
            "_model_name": "VBoxModel",
            "_view_count": null,
            "_view_module": "@jupyter-widgets/controls",
            "_view_module_version": "1.5.0",
            "_view_name": "VBoxView",
            "box_style": "",
            "children": [
              "IPY_MODEL_d7aa683f8b794fadb0dacc99b92ead29",
              "IPY_MODEL_dfcb8f20b90a4ef8bd36969a1b4901c3",
              "IPY_MODEL_34b783dc2c50483d90481b01c7c7a542"
            ],
            "layout": "IPY_MODEL_dbb4f4004d284af1bd1b6e9283b9d11a"
          }
        },
        "d7aa683f8b794fadb0dacc99b92ead29": {
          "model_module": "@jupyter-widgets/controls",
          "model_name": "TextModel",
          "model_module_version": "1.5.0",
          "state": {
            "_dom_classes": [],
            "_model_module": "@jupyter-widgets/controls",
            "_model_module_version": "1.5.0",
            "_model_name": "TextModel",
            "_view_count": null,
            "_view_module": "@jupyter-widgets/controls",
            "_view_module_version": "1.5.0",
            "_view_name": "TextView",
            "continuous_update": true,
            "description": "SMILES 4:",
            "description_tooltip": null,
            "disabled": false,
            "layout": "IPY_MODEL_9d0a7f87b2ff4a83983c77c92eadc1de",
            "placeholder": "​",
            "style": "IPY_MODEL_00e7a63bc93b47258cbda78eed83a18c",
            "value": "C1=CC2=C3C(=C1)C=CC4=C5C=CC=CC5=CC=C4C3=CC=C2"
          }
        },
        "dfcb8f20b90a4ef8bd36969a1b4901c3": {
          "model_module": "@jupyter-widgets/controls",
          "model_name": "ButtonModel",
          "model_module_version": "1.5.0",
          "state": {
            "_dom_classes": [],
            "_model_module": "@jupyter-widgets/controls",
            "_model_module_version": "1.5.0",
            "_model_name": "ButtonModel",
            "_view_count": null,
            "_view_module": "@jupyter-widgets/controls",
            "_view_module_version": "1.5.0",
            "_view_name": "ButtonView",
            "button_style": "primary",
            "description": "Analyze",
            "disabled": false,
            "icon": "",
            "layout": "IPY_MODEL_bc1f21d38ee14ef287ce948cb01bbfaf",
            "style": "IPY_MODEL_911a4dee0eea4600b84c6fcac7099fa7",
            "tooltip": ""
          }
        },
        "34b783dc2c50483d90481b01c7c7a542": {
          "model_module": "@jupyter-widgets/output",
          "model_name": "OutputModel",
          "model_module_version": "1.0.0",
          "state": {
            "_dom_classes": [],
            "_model_module": "@jupyter-widgets/output",
            "_model_module_version": "1.0.0",
            "_model_name": "OutputModel",
            "_view_count": null,
            "_view_module": "@jupyter-widgets/output",
            "_view_module_version": "1.0.0",
            "_view_name": "OutputView",
            "layout": "IPY_MODEL_b3ccc07f9d4143308bafbf63d8603afd",
            "msg_id": "",
            "outputs": [
              {
                "output_type": "stream",
                "name": "stdout",
                "text": [
                  "🔍 Analyzing SMILES: C1=CC2=C3C(=C1)C=CC4=C5C=CC=CC5=CC=C4C3=CC=C2\n",
                  "✅ Predicted Clearance: 11.15 L/hr\n"
                ]
              },
              {
                "output_type": "display_data",
                "data": {
                  "text/plain": "<Figure size 600x300 with 1 Axes>",
                  "image/png": "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\n"
                },
                "metadata": {}
              },
              {
                "output_type": "stream",
                "name": "stdout",
                "text": [
                  "🧪 Simulated MS/MS Spectrum:\n",
                  "  m/z: 100.00, Intensity: 500.00\n",
                  "  m/z: 150.50, Intensity: 200.00\n",
                  "  m/z: 201.20, Intensity: 800.00\n",
                  "  m/z: 250.00, Intensity: 150.00\n"
                ]
              }
            ]
          }
        },
        "dbb4f4004d284af1bd1b6e9283b9d11a": {
          "model_module": "@jupyter-widgets/base",
          "model_name": "LayoutModel",
          "model_module_version": "1.2.0",
          "state": {
            "_model_module": "@jupyter-widgets/base",
            "_model_module_version": "1.2.0",
            "_model_name": "LayoutModel",
            "_view_count": null,
            "_view_module": "@jupyter-widgets/base",
            "_view_module_version": "1.2.0",
            "_view_name": "LayoutView",
            "align_content": null,
            "align_items": null,
            "align_self": null,
            "border": null,
            "bottom": null,
            "display": null,
            "flex": null,
            "flex_flow": null,
            "grid_area": null,
            "grid_auto_columns": null,
            "grid_auto_flow": null,
            "grid_auto_rows": null,
            "grid_column": null,
            "grid_gap": null,
            "grid_row": null,
            "grid_template_areas": null,
            "grid_template_columns": null,
            "grid_template_rows": null,
            "height": null,
            "justify_content": null,
            "justify_items": null,
            "left": null,
            "margin": null,
            "max_height": null,
            "max_width": null,
            "min_height": null,
            "min_width": null,
            "object_fit": null,
            "object_position": null,
            "order": null,
            "overflow": null,
            "overflow_x": null,
            "overflow_y": null,
            "padding": null,
            "right": null,
            "top": null,
            "visibility": null,
            "width": null
          }
        },
        "9d0a7f87b2ff4a83983c77c92eadc1de": {
          "model_module": "@jupyter-widgets/base",
          "model_name": "LayoutModel",
          "model_module_version": "1.2.0",
          "state": {
            "_model_module": "@jupyter-widgets/base",
            "_model_module_version": "1.2.0",
            "_model_name": "LayoutModel",
            "_view_count": null,
            "_view_module": "@jupyter-widgets/base",
            "_view_module_version": "1.2.0",
            "_view_name": "LayoutView",
            "align_content": null,
            "align_items": null,
            "align_self": null,
            "border": null,
            "bottom": null,
            "display": null,
            "flex": null,
            "flex_flow": null,
            "grid_area": null,
            "grid_auto_columns": null,
            "grid_auto_flow": null,
            "grid_auto_rows": null,
            "grid_column": null,
            "grid_gap": null,
            "grid_row": null,
            "grid_template_areas": null,
            "grid_template_columns": null,
            "grid_template_rows": null,
            "height": null,
            "justify_content": null,
            "justify_items": null,
            "left": null,
            "margin": null,
            "max_height": null,
            "max_width": null,
            "min_height": null,
            "min_width": null,
            "object_fit": null,
            "object_position": null,
            "order": null,
            "overflow": null,
            "overflow_x": null,
            "overflow_y": null,
            "padding": null,
            "right": null,
            "top": null,
            "visibility": null,
            "width": "600px"
          }
        },
        "00e7a63bc93b47258cbda78eed83a18c": {
          "model_module": "@jupyter-widgets/controls",
          "model_name": "DescriptionStyleModel",
          "model_module_version": "1.5.0",
          "state": {
            "_model_module": "@jupyter-widgets/controls",
            "_model_module_version": "1.5.0",
            "_model_name": "DescriptionStyleModel",
            "_view_count": null,
            "_view_module": "@jupyter-widgets/base",
            "_view_module_version": "1.2.0",
            "_view_name": "StyleView",
            "description_width": ""
          }
        },
        "bc1f21d38ee14ef287ce948cb01bbfaf": {
          "model_module": "@jupyter-widgets/base",
          "model_name": "LayoutModel",
          "model_module_version": "1.2.0",
          "state": {
            "_model_module": "@jupyter-widgets/base",
            "_model_module_version": "1.2.0",
            "_model_name": "LayoutModel",
            "_view_count": null,
            "_view_module": "@jupyter-widgets/base",
            "_view_module_version": "1.2.0",
            "_view_name": "LayoutView",
            "align_content": null,
            "align_items": null,
            "align_self": null,
            "border": null,
            "bottom": null,
            "display": null,
            "flex": null,
            "flex_flow": null,
            "grid_area": null,
            "grid_auto_columns": null,
            "grid_auto_flow": null,
            "grid_auto_rows": null,
            "grid_column": null,
            "grid_gap": null,
            "grid_row": null,
            "grid_template_areas": null,
            "grid_template_columns": null,
            "grid_template_rows": null,
            "height": null,
            "justify_content": null,
            "justify_items": null,
            "left": null,
            "margin": null,
            "max_height": null,
            "max_width": null,
            "min_height": null,
            "min_width": null,
            "object_fit": null,
            "object_position": null,
            "order": null,
            "overflow": null,
            "overflow_x": null,
            "overflow_y": null,
            "padding": null,
            "right": null,
            "top": null,
            "visibility": null,
            "width": null
          }
        },
        "911a4dee0eea4600b84c6fcac7099fa7": {
          "model_module": "@jupyter-widgets/controls",
          "model_name": "ButtonStyleModel",
          "model_module_version": "1.5.0",
          "state": {
            "_model_module": "@jupyter-widgets/controls",
            "_model_module_version": "1.5.0",
            "_model_name": "ButtonStyleModel",
            "_view_count": null,
            "_view_module": "@jupyter-widgets/base",
            "_view_module_version": "1.2.0",
            "_view_name": "StyleView",
            "button_color": null,
            "font_weight": ""
          }
        },
        "b3ccc07f9d4143308bafbf63d8603afd": {
          "model_module": "@jupyter-widgets/base",
          "model_name": "LayoutModel",
          "model_module_version": "1.2.0",
          "state": {
            "_model_module": "@jupyter-widgets/base",
            "_model_module_version": "1.2.0",
            "_model_name": "LayoutModel",
            "_view_count": null,
            "_view_module": "@jupyter-widgets/base",
            "_view_module_version": "1.2.0",
            "_view_name": "LayoutView",
            "align_content": null,
            "align_items": null,
            "align_self": null,
            "border": null,
            "bottom": null,
            "display": null,
            "flex": null,
            "flex_flow": null,
            "grid_area": null,
            "grid_auto_columns": null,
            "grid_auto_flow": null,
            "grid_auto_rows": null,
            "grid_column": null,
            "grid_gap": null,
            "grid_row": null,
            "grid_template_areas": null,
            "grid_template_columns": null,
            "grid_template_rows": null,
            "height": null,
            "justify_content": null,
            "justify_items": null,
            "left": null,
            "margin": null,
            "max_height": null,
            "max_width": null,
            "min_height": null,
            "min_width": null,
            "object_fit": null,
            "object_position": null,
            "order": null,
            "overflow": null,
            "overflow_x": null,
            "overflow_y": null,
            "padding": null,
            "right": null,
            "top": null,
            "visibility": null,
            "width": null
          }
        },
        "62a62e3594da4b66b76af3219ac48ba6": {
          "model_module": "@jupyter-widgets/controls",
          "model_name": "VBoxModel",
          "model_module_version": "1.5.0",
          "state": {
            "_dom_classes": [],
            "_model_module": "@jupyter-widgets/controls",
            "_model_module_version": "1.5.0",
            "_model_name": "VBoxModel",
            "_view_count": null,
            "_view_module": "@jupyter-widgets/controls",
            "_view_module_version": "1.5.0",
            "_view_name": "VBoxView",
            "box_style": "",
            "children": [
              "IPY_MODEL_697d0040c0ab43fd8526b548ae7253c8",
              "IPY_MODEL_419a7a12333e4ecdbb5887c8358d9f77",
              "IPY_MODEL_a38595fd08a241bc9bdd0a6acbaf2dc9"
            ],
            "layout": "IPY_MODEL_82c60738ce624d9e94608ed4bf1a2faf"
          }
        },
        "697d0040c0ab43fd8526b548ae7253c8": {
          "model_module": "@jupyter-widgets/controls",
          "model_name": "TextModel",
          "model_module_version": "1.5.0",
          "state": {
            "_dom_classes": [],
            "_model_module": "@jupyter-widgets/controls",
            "_model_module_version": "1.5.0",
            "_model_name": "TextModel",
            "_view_count": null,
            "_view_module": "@jupyter-widgets/controls",
            "_view_module_version": "1.5.0",
            "_view_name": "TextView",
            "continuous_update": true,
            "description": "SMILES 5:",
            "description_tooltip": null,
            "disabled": false,
            "layout": "IPY_MODEL_b7f5c494e47645e7b6be8c50dcae7c16",
            "placeholder": "​",
            "style": "IPY_MODEL_456005da834e4e9c8aaf9879024638a6",
            "value": "CC1=C2C(=CC=C1O)C(=O)OC2=CC3=C(C=C(C=C3O)OC)OC"
          }
        },
        "419a7a12333e4ecdbb5887c8358d9f77": {
          "model_module": "@jupyter-widgets/controls",
          "model_name": "ButtonModel",
          "model_module_version": "1.5.0",
          "state": {
            "_dom_classes": [],
            "_model_module": "@jupyter-widgets/controls",
            "_model_module_version": "1.5.0",
            "_model_name": "ButtonModel",
            "_view_count": null,
            "_view_module": "@jupyter-widgets/controls",
            "_view_module_version": "1.5.0",
            "_view_name": "ButtonView",
            "button_style": "primary",
            "description": "Analyze",
            "disabled": false,
            "icon": "",
            "layout": "IPY_MODEL_5eea5b64b9ba4b6f8f3d009b224621e5",
            "style": "IPY_MODEL_481723350f0e41c2b77f250bcbb935e8",
            "tooltip": ""
          }
        },
        "a38595fd08a241bc9bdd0a6acbaf2dc9": {
          "model_module": "@jupyter-widgets/output",
          "model_name": "OutputModel",
          "model_module_version": "1.0.0",
          "state": {
            "_dom_classes": [],
            "_model_module": "@jupyter-widgets/output",
            "_model_module_version": "1.0.0",
            "_model_name": "OutputModel",
            "_view_count": null,
            "_view_module": "@jupyter-widgets/output",
            "_view_module_version": "1.0.0",
            "_view_name": "OutputView",
            "layout": "IPY_MODEL_90cf22957d1f4f28bfbf9497f3db0fbe",
            "msg_id": "",
            "outputs": [
              {
                "output_type": "stream",
                "name": "stdout",
                "text": [
                  "🔍 Analyzing SMILES: CC1=C2C(=CC=C1O)C(=O)OC2=CC3=C(C=C(C=C3O)OC)OC\n",
                  "✅ Predicted Clearance: 10.26 L/hr\n"
                ]
              },
              {
                "output_type": "display_data",
                "data": {
                  "text/plain": "<Figure size 600x300 with 1 Axes>",
                  "image/png": "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\n"
                },
                "metadata": {}
              },
              {
                "output_type": "stream",
                "name": "stdout",
                "text": [
                  "🧪 Simulated MS/MS Spectrum:\n",
                  "  m/z: 100.00, Intensity: 500.00\n",
                  "  m/z: 150.50, Intensity: 200.00\n",
                  "  m/z: 201.20, Intensity: 800.00\n",
                  "  m/z: 250.00, Intensity: 150.00\n"
                ]
              }
            ]
          }
        },
        "82c60738ce624d9e94608ed4bf1a2faf": {
          "model_module": "@jupyter-widgets/base",
          "model_name": "LayoutModel",
          "model_module_version": "1.2.0",
          "state": {
            "_model_module": "@jupyter-widgets/base",
            "_model_module_version": "1.2.0",
            "_model_name": "LayoutModel",
            "_view_count": null,
            "_view_module": "@jupyter-widgets/base",
            "_view_module_version": "1.2.0",
            "_view_name": "LayoutView",
            "align_content": null,
            "align_items": null,
            "align_self": null,
            "border": null,
            "bottom": null,
            "display": null,
            "flex": null,
            "flex_flow": null,
            "grid_area": null,
            "grid_auto_columns": null,
            "grid_auto_flow": null,
            "grid_auto_rows": null,
            "grid_column": null,
            "grid_gap": null,
            "grid_row": null,
            "grid_template_areas": null,
            "grid_template_columns": null,
            "grid_template_rows": null,
            "height": null,
            "justify_content": null,
            "justify_items": null,
            "left": null,
            "margin": null,
            "max_height": null,
            "max_width": null,
            "min_height": null,
            "min_width": null,
            "object_fit": null,
            "object_position": null,
            "order": null,
            "overflow": null,
            "overflow_x": null,
            "overflow_y": null,
            "padding": null,
            "right": null,
            "top": null,
            "visibility": null,
            "width": null
          }
        },
        "b7f5c494e47645e7b6be8c50dcae7c16": {
          "model_module": "@jupyter-widgets/base",
          "model_name": "LayoutModel",
          "model_module_version": "1.2.0",
          "state": {
            "_model_module": "@jupyter-widgets/base",
            "_model_module_version": "1.2.0",
            "_model_name": "LayoutModel",
            "_view_count": null,
            "_view_module": "@jupyter-widgets/base",
            "_view_module_version": "1.2.0",
            "_view_name": "LayoutView",
            "align_content": null,
            "align_items": null,
            "align_self": null,
            "border": null,
            "bottom": null,
            "display": null,
            "flex": null,
            "flex_flow": null,
            "grid_area": null,
            "grid_auto_columns": null,
            "grid_auto_flow": null,
            "grid_auto_rows": null,
            "grid_column": null,
            "grid_gap": null,
            "grid_row": null,
            "grid_template_areas": null,
            "grid_template_columns": null,
            "grid_template_rows": null,
            "height": null,
            "justify_content": null,
            "justify_items": null,
            "left": null,
            "margin": null,
            "max_height": null,
            "max_width": null,
            "min_height": null,
            "min_width": null,
            "object_fit": null,
            "object_position": null,
            "order": null,
            "overflow": null,
            "overflow_x": null,
            "overflow_y": null,
            "padding": null,
            "right": null,
            "top": null,
            "visibility": null,
            "width": "600px"
          }
        },
        "456005da834e4e9c8aaf9879024638a6": {
          "model_module": "@jupyter-widgets/controls",
          "model_name": "DescriptionStyleModel",
          "model_module_version": "1.5.0",
          "state": {
            "_model_module": "@jupyter-widgets/controls",
            "_model_module_version": "1.5.0",
            "_model_name": "DescriptionStyleModel",
            "_view_count": null,
            "_view_module": "@jupyter-widgets/base",
            "_view_module_version": "1.2.0",
            "_view_name": "StyleView",
            "description_width": ""
          }
        },
        "5eea5b64b9ba4b6f8f3d009b224621e5": {
          "model_module": "@jupyter-widgets/base",
          "model_name": "LayoutModel",
          "model_module_version": "1.2.0",
          "state": {
            "_model_module": "@jupyter-widgets/base",
            "_model_module_version": "1.2.0",
            "_model_name": "LayoutModel",
            "_view_count": null,
            "_view_module": "@jupyter-widgets/base",
            "_view_module_version": "1.2.0",
            "_view_name": "LayoutView",
            "align_content": null,
            "align_items": null,
            "align_self": null,
            "border": null,
            "bottom": null,
            "display": null,
            "flex": null,
            "flex_flow": null,
            "grid_area": null,
            "grid_auto_columns": null,
            "grid_auto_flow": null,
            "grid_auto_rows": null,
            "grid_column": null,
            "grid_gap": null,
            "grid_row": null,
            "grid_template_areas": null,
            "grid_template_columns": null,
            "grid_template_rows": null,
            "height": null,
            "justify_content": null,
            "justify_items": null,
            "left": null,
            "margin": null,
            "max_height": null,
            "max_width": null,
            "min_height": null,
            "min_width": null,
            "object_fit": null,
            "object_position": null,
            "order": null,
            "overflow": null,
            "overflow_x": null,
            "overflow_y": null,
            "padding": null,
            "right": null,
            "top": null,
            "visibility": null,
            "width": null
          }
        },
        "481723350f0e41c2b77f250bcbb935e8": {
          "model_module": "@jupyter-widgets/controls",
          "model_name": "ButtonStyleModel",
          "model_module_version": "1.5.0",
          "state": {
            "_model_module": "@jupyter-widgets/controls",
            "_model_module_version": "1.5.0",
            "_model_name": "ButtonStyleModel",
            "_view_count": null,
            "_view_module": "@jupyter-widgets/base",
            "_view_module_version": "1.2.0",
            "_view_name": "StyleView",
            "button_color": null,
            "font_weight": ""
          }
        },
        "90cf22957d1f4f28bfbf9497f3db0fbe": {
          "model_module": "@jupyter-widgets/base",
          "model_name": "LayoutModel",
          "model_module_version": "1.2.0",
          "state": {
            "_model_module": "@jupyter-widgets/base",
            "_model_module_version": "1.2.0",
            "_model_name": "LayoutModel",
            "_view_count": null,
            "_view_module": "@jupyter-widgets/base",
            "_view_module_version": "1.2.0",
            "_view_name": "LayoutView",
            "align_content": null,
            "align_items": null,
            "align_self": null,
            "border": null,
            "bottom": null,
            "display": null,
            "flex": null,
            "flex_flow": null,
            "grid_area": null,
            "grid_auto_columns": null,
            "grid_auto_flow": null,
            "grid_auto_rows": null,
            "grid_column": null,
            "grid_gap": null,
            "grid_row": null,
            "grid_template_areas": null,
            "grid_template_columns": null,
            "grid_template_rows": null,
            "height": null,
            "justify_content": null,
            "justify_items": null,
            "left": null,
            "margin": null,
            "max_height": null,
            "max_width": null,
            "min_height": null,
            "min_width": null,
            "object_fit": null,
            "object_position": null,
            "order": null,
            "overflow": null,
            "overflow_x": null,
            "overflow_y": null,
            "padding": null,
            "right": null,
            "top": null,
            "visibility": null,
            "width": null
          }
        },
        "d6d699f5d7634ee7bc2925d6ec20e71b": {
          "model_module": "@jupyter-widgets/controls",
          "model_name": "VBoxModel",
          "model_module_version": "1.5.0",
          "state": {
            "_dom_classes": [],
            "_model_module": "@jupyter-widgets/controls",
            "_model_module_version": "1.5.0",
            "_model_name": "VBoxModel",
            "_view_count": null,
            "_view_module": "@jupyter-widgets/controls",
            "_view_module_version": "1.5.0",
            "_view_name": "VBoxView",
            "box_style": "",
            "children": [
              "IPY_MODEL_77eba2b049a44dbf823c99526fe6dd7c",
              "IPY_MODEL_722c36023e124b6aad6f6e0ddc09e2de",
              "IPY_MODEL_61b1185ce330465ea085eac472e37ee4"
            ],
            "layout": "IPY_MODEL_feeb795ddc664ccbb4b5902d32090b3a"
          }
        },
        "77eba2b049a44dbf823c99526fe6dd7c": {
          "model_module": "@jupyter-widgets/controls",
          "model_name": "TextModel",
          "model_module_version": "1.5.0",
          "state": {
            "_dom_classes": [],
            "_model_module": "@jupyter-widgets/controls",
            "_model_module_version": "1.5.0",
            "_model_name": "TextModel",
            "_view_count": null,
            "_view_module": "@jupyter-widgets/controls",
            "_view_module_version": "1.5.0",
            "_view_name": "TextView",
            "continuous_update": true,
            "description": "SMILES 6:",
            "description_tooltip": null,
            "disabled": false,
            "layout": "IPY_MODEL_d66eb61304b848e6a54d53223553c7ff",
            "placeholder": "​",
            "style": "IPY_MODEL_17f8f0779a6a4096b8c937e8307a77ed",
            "value": ""
          }
        },
        "722c36023e124b6aad6f6e0ddc09e2de": {
          "model_module": "@jupyter-widgets/controls",
          "model_name": "ButtonModel",
          "model_module_version": "1.5.0",
          "state": {
            "_dom_classes": [],
            "_model_module": "@jupyter-widgets/controls",
            "_model_module_version": "1.5.0",
            "_model_name": "ButtonModel",
            "_view_count": null,
            "_view_module": "@jupyter-widgets/controls",
            "_view_module_version": "1.5.0",
            "_view_name": "ButtonView",
            "button_style": "primary",
            "description": "Analyze",
            "disabled": false,
            "icon": "",
            "layout": "IPY_MODEL_5f8eaab76df1400986cae944d00e3aea",
            "style": "IPY_MODEL_0ba5ba3471c64df78c86d67e9563c0f3",
            "tooltip": ""
          }
        },
        "61b1185ce330465ea085eac472e37ee4": {
          "model_module": "@jupyter-widgets/output",
          "model_name": "OutputModel",
          "model_module_version": "1.0.0",
          "state": {
            "_dom_classes": [],
            "_model_module": "@jupyter-widgets/output",
            "_model_module_version": "1.0.0",
            "_model_name": "OutputModel",
            "_view_count": null,
            "_view_module": "@jupyter-widgets/output",
            "_view_module_version": "1.0.0",
            "_view_name": "OutputView",
            "layout": "IPY_MODEL_ed735ce56ad74688ba9c09d37248d015",
            "msg_id": "",
            "outputs": []
          }
        },
        "feeb795ddc664ccbb4b5902d32090b3a": {
          "model_module": "@jupyter-widgets/base",
          "model_name": "LayoutModel",
          "model_module_version": "1.2.0",
          "state": {
            "_model_module": "@jupyter-widgets/base",
            "_model_module_version": "1.2.0",
            "_model_name": "LayoutModel",
            "_view_count": null,
            "_view_module": "@jupyter-widgets/base",
            "_view_module_version": "1.2.0",
            "_view_name": "LayoutView",
            "align_content": null,
            "align_items": null,
            "align_self": null,
            "border": null,
            "bottom": null,
            "display": null,
            "flex": null,
            "flex_flow": null,
            "grid_area": null,
            "grid_auto_columns": null,
            "grid_auto_flow": null,
            "grid_auto_rows": null,
            "grid_column": null,
            "grid_gap": null,
            "grid_row": null,
            "grid_template_areas": null,
            "grid_template_columns": null,
            "grid_template_rows": null,
            "height": null,
            "justify_content": null,
            "justify_items": null,
            "left": null,
            "margin": null,
            "max_height": null,
            "max_width": null,
            "min_height": null,
            "min_width": null,
            "object_fit": null,
            "object_position": null,
            "order": null,
            "overflow": null,
            "overflow_x": null,
            "overflow_y": null,
            "padding": null,
            "right": null,
            "top": null,
            "visibility": null,
            "width": null
          }
        },
        "d66eb61304b848e6a54d53223553c7ff": {
          "model_module": "@jupyter-widgets/base",
          "model_name": "LayoutModel",
          "model_module_version": "1.2.0",
          "state": {
            "_model_module": "@jupyter-widgets/base",
            "_model_module_version": "1.2.0",
            "_model_name": "LayoutModel",
            "_view_count": null,
            "_view_module": "@jupyter-widgets/base",
            "_view_module_version": "1.2.0",
            "_view_name": "LayoutView",
            "align_content": null,
            "align_items": null,
            "align_self": null,
            "border": null,
            "bottom": null,
            "display": null,
            "flex": null,
            "flex_flow": null,
            "grid_area": null,
            "grid_auto_columns": null,
            "grid_auto_flow": null,
            "grid_auto_rows": null,
            "grid_column": null,
            "grid_gap": null,
            "grid_row": null,
            "grid_template_areas": null,
            "grid_template_columns": null,
            "grid_template_rows": null,
            "height": null,
            "justify_content": null,
            "justify_items": null,
            "left": null,
            "margin": null,
            "max_height": null,
            "max_width": null,
            "min_height": null,
            "min_width": null,
            "object_fit": null,
            "object_position": null,
            "order": null,
            "overflow": null,
            "overflow_x": null,
            "overflow_y": null,
            "padding": null,
            "right": null,
            "top": null,
            "visibility": null,
            "width": "600px"
          }
        },
        "17f8f0779a6a4096b8c937e8307a77ed": {
          "model_module": "@jupyter-widgets/controls",
          "model_name": "DescriptionStyleModel",
          "model_module_version": "1.5.0",
          "state": {
            "_model_module": "@jupyter-widgets/controls",
            "_model_module_version": "1.5.0",
            "_model_name": "DescriptionStyleModel",
            "_view_count": null,
            "_view_module": "@jupyter-widgets/base",
            "_view_module_version": "1.2.0",
            "_view_name": "StyleView",
            "description_width": ""
          }
        },
        "5f8eaab76df1400986cae944d00e3aea": {
          "model_module": "@jupyter-widgets/base",
          "model_name": "LayoutModel",
          "model_module_version": "1.2.0",
          "state": {
            "_model_module": "@jupyter-widgets/base",
            "_model_module_version": "1.2.0",
            "_model_name": "LayoutModel",
            "_view_count": null,
            "_view_module": "@jupyter-widgets/base",
            "_view_module_version": "1.2.0",
            "_view_name": "LayoutView",
            "align_content": null,
            "align_items": null,
            "align_self": null,
            "border": null,
            "bottom": null,
            "display": null,
            "flex": null,
            "flex_flow": null,
            "grid_area": null,
            "grid_auto_columns": null,
            "grid_auto_flow": null,
            "grid_auto_rows": null,
            "grid_column": null,
            "grid_gap": null,
            "grid_row": null,
            "grid_template_areas": null,
            "grid_template_columns": null,
            "grid_template_rows": null,
            "height": null,
            "justify_content": null,
            "justify_items": null,
            "left": null,
            "margin": null,
            "max_height": null,
            "max_width": null,
            "min_height": null,
            "min_width": null,
            "object_fit": null,
            "object_position": null,
            "order": null,
            "overflow": null,
            "overflow_x": null,
            "overflow_y": null,
            "padding": null,
            "right": null,
            "top": null,
            "visibility": null,
            "width": null
          }
        },
        "0ba5ba3471c64df78c86d67e9563c0f3": {
          "model_module": "@jupyter-widgets/controls",
          "model_name": "ButtonStyleModel",
          "model_module_version": "1.5.0",
          "state": {
            "_model_module": "@jupyter-widgets/controls",
            "_model_module_version": "1.5.0",
            "_model_name": "ButtonStyleModel",
            "_view_count": null,
            "_view_module": "@jupyter-widgets/base",
            "_view_module_version": "1.2.0",
            "_view_name": "StyleView",
            "button_color": null,
            "font_weight": ""
          }
        },
        "ed735ce56ad74688ba9c09d37248d015": {
          "model_module": "@jupyter-widgets/base",
          "model_name": "LayoutModel",
          "model_module_version": "1.2.0",
          "state": {
            "_model_module": "@jupyter-widgets/base",
            "_model_module_version": "1.2.0",
            "_model_name": "LayoutModel",
            "_view_count": null,
            "_view_module": "@jupyter-widgets/base",
            "_view_module_version": "1.2.0",
            "_view_name": "LayoutView",
            "align_content": null,
            "align_items": null,
            "align_self": null,
            "border": null,
            "bottom": null,
            "display": null,
            "flex": null,
            "flex_flow": null,
            "grid_area": null,
            "grid_auto_columns": null,
            "grid_auto_flow": null,
            "grid_auto_rows": null,
            "grid_column": null,
            "grid_gap": null,
            "grid_row": null,
            "grid_template_areas": null,
            "grid_template_columns": null,
            "grid_template_rows": null,
            "height": null,
            "justify_content": null,
            "justify_items": null,
            "left": null,
            "margin": null,
            "max_height": null,
            "max_width": null,
            "min_height": null,
            "min_width": null,
            "object_fit": null,
            "object_position": null,
            "order": null,
            "overflow": null,
            "overflow_x": null,
            "overflow_y": null,
            "padding": null,
            "right": null,
            "top": null,
            "visibility": null,
            "width": null
          }
        },
        "f581c5bc6bf7451f833440be518c1305": {
          "model_module": "@jupyter-widgets/controls",
          "model_name": "VBoxModel",
          "model_module_version": "1.5.0",
          "state": {
            "_dom_classes": [],
            "_model_module": "@jupyter-widgets/controls",
            "_model_module_version": "1.5.0",
            "_model_name": "VBoxModel",
            "_view_count": null,
            "_view_module": "@jupyter-widgets/controls",
            "_view_module_version": "1.5.0",
            "_view_name": "VBoxView",
            "box_style": "",
            "children": [
              "IPY_MODEL_f91bd49cf6034cf6bafaf111d3512dc3",
              "IPY_MODEL_fe0e6dc949cb4ba386f75f1196569105",
              "IPY_MODEL_a77302eb5f824ffc9fdf007edbc2ff29"
            ],
            "layout": "IPY_MODEL_168aa3c779da4d119de10be1cd6ef072"
          }
        },
        "f91bd49cf6034cf6bafaf111d3512dc3": {
          "model_module": "@jupyter-widgets/controls",
          "model_name": "TextModel",
          "model_module_version": "1.5.0",
          "state": {
            "_dom_classes": [],
            "_model_module": "@jupyter-widgets/controls",
            "_model_module_version": "1.5.0",
            "_model_name": "TextModel",
            "_view_count": null,
            "_view_module": "@jupyter-widgets/controls",
            "_view_module_version": "1.5.0",
            "_view_name": "TextView",
            "continuous_update": true,
            "description": "SMILES 7:",
            "description_tooltip": null,
            "disabled": false,
            "layout": "IPY_MODEL_b0ae1d36f7764e9486922a20ce83288d",
            "placeholder": "​",
            "style": "IPY_MODEL_96a9451bf72a451aa013159c0b60d735",
            "value": ""
          }
        },
        "fe0e6dc949cb4ba386f75f1196569105": {
          "model_module": "@jupyter-widgets/controls",
          "model_name": "ButtonModel",
          "model_module_version": "1.5.0",
          "state": {
            "_dom_classes": [],
            "_model_module": "@jupyter-widgets/controls",
            "_model_module_version": "1.5.0",
            "_model_name": "ButtonModel",
            "_view_count": null,
            "_view_module": "@jupyter-widgets/controls",
            "_view_module_version": "1.5.0",
            "_view_name": "ButtonView",
            "button_style": "primary",
            "description": "Analyze",
            "disabled": false,
            "icon": "",
            "layout": "IPY_MODEL_47e180c249674a51adf9bb480699e30c",
            "style": "IPY_MODEL_8b8d253fbb9f47baa5a882778dd4dc32",
            "tooltip": ""
          }
        },
        "a77302eb5f824ffc9fdf007edbc2ff29": {
          "model_module": "@jupyter-widgets/output",
          "model_name": "OutputModel",
          "model_module_version": "1.0.0",
          "state": {
            "_dom_classes": [],
            "_model_module": "@jupyter-widgets/output",
            "_model_module_version": "1.0.0",
            "_model_name": "OutputModel",
            "_view_count": null,
            "_view_module": "@jupyter-widgets/output",
            "_view_module_version": "1.0.0",
            "_view_name": "OutputView",
            "layout": "IPY_MODEL_dd7c8c4dc74f44f4b2b532ba83b31550",
            "msg_id": "",
            "outputs": []
          }
        },
        "168aa3c779da4d119de10be1cd6ef072": {
          "model_module": "@jupyter-widgets/base",
          "model_name": "LayoutModel",
          "model_module_version": "1.2.0",
          "state": {
            "_model_module": "@jupyter-widgets/base",
            "_model_module_version": "1.2.0",
            "_model_name": "LayoutModel",
            "_view_count": null,
            "_view_module": "@jupyter-widgets/base",
            "_view_module_version": "1.2.0",
            "_view_name": "LayoutView",
            "align_content": null,
            "align_items": null,
            "align_self": null,
            "border": null,
            "bottom": null,
            "display": null,
            "flex": null,
            "flex_flow": null,
            "grid_area": null,
            "grid_auto_columns": null,
            "grid_auto_flow": null,
            "grid_auto_rows": null,
            "grid_column": null,
            "grid_gap": null,
            "grid_row": null,
            "grid_template_areas": null,
            "grid_template_columns": null,
            "grid_template_rows": null,
            "height": null,
            "justify_content": null,
            "justify_items": null,
            "left": null,
            "margin": null,
            "max_height": null,
            "max_width": null,
            "min_height": null,
            "min_width": null,
            "object_fit": null,
            "object_position": null,
            "order": null,
            "overflow": null,
            "overflow_x": null,
            "overflow_y": null,
            "padding": null,
            "right": null,
            "top": null,
            "visibility": null,
            "width": null
          }
        },
        "b0ae1d36f7764e9486922a20ce83288d": {
          "model_module": "@jupyter-widgets/base",
          "model_name": "LayoutModel",
          "model_module_version": "1.2.0",
          "state": {
            "_model_module": "@jupyter-widgets/base",
            "_model_module_version": "1.2.0",
            "_model_name": "LayoutModel",
            "_view_count": null,
            "_view_module": "@jupyter-widgets/base",
            "_view_module_version": "1.2.0",
            "_view_name": "LayoutView",
            "align_content": null,
            "align_items": null,
            "align_self": null,
            "border": null,
            "bottom": null,
            "display": null,
            "flex": null,
            "flex_flow": null,
            "grid_area": null,
            "grid_auto_columns": null,
            "grid_auto_flow": null,
            "grid_auto_rows": null,
            "grid_column": null,
            "grid_gap": null,
            "grid_row": null,
            "grid_template_areas": null,
            "grid_template_columns": null,
            "grid_template_rows": null,
            "height": null,
            "justify_content": null,
            "justify_items": null,
            "left": null,
            "margin": null,
            "max_height": null,
            "max_width": null,
            "min_height": null,
            "min_width": null,
            "object_fit": null,
            "object_position": null,
            "order": null,
            "overflow": null,
            "overflow_x": null,
            "overflow_y": null,
            "padding": null,
            "right": null,
            "top": null,
            "visibility": null,
            "width": "600px"
          }
        },
        "96a9451bf72a451aa013159c0b60d735": {
          "model_module": "@jupyter-widgets/controls",
          "model_name": "DescriptionStyleModel",
          "model_module_version": "1.5.0",
          "state": {
            "_model_module": "@jupyter-widgets/controls",
            "_model_module_version": "1.5.0",
            "_model_name": "DescriptionStyleModel",
            "_view_count": null,
            "_view_module": "@jupyter-widgets/base",
            "_view_module_version": "1.2.0",
            "_view_name": "StyleView",
            "description_width": ""
          }
        },
        "47e180c249674a51adf9bb480699e30c": {
          "model_module": "@jupyter-widgets/base",
          "model_name": "LayoutModel",
          "model_module_version": "1.2.0",
          "state": {
            "_model_module": "@jupyter-widgets/base",
            "_model_module_version": "1.2.0",
            "_model_name": "LayoutModel",
            "_view_count": null,
            "_view_module": "@jupyter-widgets/base",
            "_view_module_version": "1.2.0",
            "_view_name": "LayoutView",
            "align_content": null,
            "align_items": null,
            "align_self": null,
            "border": null,
            "bottom": null,
            "display": null,
            "flex": null,
            "flex_flow": null,
            "grid_area": null,
            "grid_auto_columns": null,
            "grid_auto_flow": null,
            "grid_auto_rows": null,
            "grid_column": null,
            "grid_gap": null,
            "grid_row": null,
            "grid_template_areas": null,
            "grid_template_columns": null,
            "grid_template_rows": null,
            "height": null,
            "justify_content": null,
            "justify_items": null,
            "left": null,
            "margin": null,
            "max_height": null,
            "max_width": null,
            "min_height": null,
            "min_width": null,
            "object_fit": null,
            "object_position": null,
            "order": null,
            "overflow": null,
            "overflow_x": null,
            "overflow_y": null,
            "padding": null,
            "right": null,
            "top": null,
            "visibility": null,
            "width": null
          }
        },
        "8b8d253fbb9f47baa5a882778dd4dc32": {
          "model_module": "@jupyter-widgets/controls",
          "model_name": "ButtonStyleModel",
          "model_module_version": "1.5.0",
          "state": {
            "_model_module": "@jupyter-widgets/controls",
            "_model_module_version": "1.5.0",
            "_model_name": "ButtonStyleModel",
            "_view_count": null,
            "_view_module": "@jupyter-widgets/base",
            "_view_module_version": "1.2.0",
            "_view_name": "StyleView",
            "button_color": null,
            "font_weight": ""
          }
        },
        "dd7c8c4dc74f44f4b2b532ba83b31550": {
          "model_module": "@jupyter-widgets/base",
          "model_name": "LayoutModel",
          "model_module_version": "1.2.0",
          "state": {
            "_model_module": "@jupyter-widgets/base",
            "_model_module_version": "1.2.0",
            "_model_name": "LayoutModel",
            "_view_count": null,
            "_view_module": "@jupyter-widgets/base",
            "_view_module_version": "1.2.0",
            "_view_name": "LayoutView",
            "align_content": null,
            "align_items": null,
            "align_self": null,
            "border": null,
            "bottom": null,
            "display": null,
            "flex": null,
            "flex_flow": null,
            "grid_area": null,
            "grid_auto_columns": null,
            "grid_auto_flow": null,
            "grid_auto_rows": null,
            "grid_column": null,
            "grid_gap": null,
            "grid_row": null,
            "grid_template_areas": null,
            "grid_template_columns": null,
            "grid_template_rows": null,
            "height": null,
            "justify_content": null,
            "justify_items": null,
            "left": null,
            "margin": null,
            "max_height": null,
            "max_width": null,
            "min_height": null,
            "min_width": null,
            "object_fit": null,
            "object_position": null,
            "order": null,
            "overflow": null,
            "overflow_x": null,
            "overflow_y": null,
            "padding": null,
            "right": null,
            "top": null,
            "visibility": null,
            "width": null
          }
        },
        "c119fffb2a744bc3b1047166d051c609": {
          "model_module": "@jupyter-widgets/controls",
          "model_name": "VBoxModel",
          "model_module_version": "1.5.0",
          "state": {
            "_dom_classes": [],
            "_model_module": "@jupyter-widgets/controls",
            "_model_module_version": "1.5.0",
            "_model_name": "VBoxModel",
            "_view_count": null,
            "_view_module": "@jupyter-widgets/controls",
            "_view_module_version": "1.5.0",
            "_view_name": "VBoxView",
            "box_style": "",
            "children": [
              "IPY_MODEL_34fc71f415ab4f8cb8f76d7e61a34aa2",
              "IPY_MODEL_4b65ddbbe76245a48744b7ea3676a580",
              "IPY_MODEL_4df1aeb00f444122ba62fe52c6856ba0"
            ],
            "layout": "IPY_MODEL_b8053b455ca5416bba5e80924280edd8"
          }
        },
        "34fc71f415ab4f8cb8f76d7e61a34aa2": {
          "model_module": "@jupyter-widgets/controls",
          "model_name": "TextModel",
          "model_module_version": "1.5.0",
          "state": {
            "_dom_classes": [],
            "_model_module": "@jupyter-widgets/controls",
            "_model_module_version": "1.5.0",
            "_model_name": "TextModel",
            "_view_count": null,
            "_view_module": "@jupyter-widgets/controls",
            "_view_module_version": "1.5.0",
            "_view_name": "TextView",
            "continuous_update": true,
            "description": "SMILES 8:",
            "description_tooltip": null,
            "disabled": false,
            "layout": "IPY_MODEL_12a94d2fa50c4c12bfc0bf3c1b2f5a14",
            "placeholder": "​",
            "style": "IPY_MODEL_911c3218fdcc431292dd9708170755cc",
            "value": ""
          }
        },
        "4b65ddbbe76245a48744b7ea3676a580": {
          "model_module": "@jupyter-widgets/controls",
          "model_name": "ButtonModel",
          "model_module_version": "1.5.0",
          "state": {
            "_dom_classes": [],
            "_model_module": "@jupyter-widgets/controls",
            "_model_module_version": "1.5.0",
            "_model_name": "ButtonModel",
            "_view_count": null,
            "_view_module": "@jupyter-widgets/controls",
            "_view_module_version": "1.5.0",
            "_view_name": "ButtonView",
            "button_style": "primary",
            "description": "Analyze",
            "disabled": false,
            "icon": "",
            "layout": "IPY_MODEL_1bb7cf49ea1c4c31bef10d7e0876660d",
            "style": "IPY_MODEL_93d5a75ac7c54292b67d97d8f15c1e40",
            "tooltip": ""
          }
        },
        "4df1aeb00f444122ba62fe52c6856ba0": {
          "model_module": "@jupyter-widgets/output",
          "model_name": "OutputModel",
          "model_module_version": "1.0.0",
          "state": {
            "_dom_classes": [],
            "_model_module": "@jupyter-widgets/output",
            "_model_module_version": "1.0.0",
            "_model_name": "OutputModel",
            "_view_count": null,
            "_view_module": "@jupyter-widgets/output",
            "_view_module_version": "1.0.0",
            "_view_name": "OutputView",
            "layout": "IPY_MODEL_96c298f7df2f4cf39c74c7a0377db222",
            "msg_id": "",
            "outputs": []
          }
        },
        "b8053b455ca5416bba5e80924280edd8": {
          "model_module": "@jupyter-widgets/base",
          "model_name": "LayoutModel",
          "model_module_version": "1.2.0",
          "state": {
            "_model_module": "@jupyter-widgets/base",
            "_model_module_version": "1.2.0",
            "_model_name": "LayoutModel",
            "_view_count": null,
            "_view_module": "@jupyter-widgets/base",
            "_view_module_version": "1.2.0",
            "_view_name": "LayoutView",
            "align_content": null,
            "align_items": null,
            "align_self": null,
            "border": null,
            "bottom": null,
            "display": null,
            "flex": null,
            "flex_flow": null,
            "grid_area": null,
            "grid_auto_columns": null,
            "grid_auto_flow": null,
            "grid_auto_rows": null,
            "grid_column": null,
            "grid_gap": null,
            "grid_row": null,
            "grid_template_areas": null,
            "grid_template_columns": null,
            "grid_template_rows": null,
            "height": null,
            "justify_content": null,
            "justify_items": null,
            "left": null,
            "margin": null,
            "max_height": null,
            "max_width": null,
            "min_height": null,
            "min_width": null,
            "object_fit": null,
            "object_position": null,
            "order": null,
            "overflow": null,
            "overflow_x": null,
            "overflow_y": null,
            "padding": null,
            "right": null,
            "top": null,
            "visibility": null,
            "width": null
          }
        },
        "12a94d2fa50c4c12bfc0bf3c1b2f5a14": {
          "model_module": "@jupyter-widgets/base",
          "model_name": "LayoutModel",
          "model_module_version": "1.2.0",
          "state": {
            "_model_module": "@jupyter-widgets/base",
            "_model_module_version": "1.2.0",
            "_model_name": "LayoutModel",
            "_view_count": null,
            "_view_module": "@jupyter-widgets/base",
            "_view_module_version": "1.2.0",
            "_view_name": "LayoutView",
            "align_content": null,
            "align_items": null,
            "align_self": null,
            "border": null,
            "bottom": null,
            "display": null,
            "flex": null,
            "flex_flow": null,
            "grid_area": null,
            "grid_auto_columns": null,
            "grid_auto_flow": null,
            "grid_auto_rows": null,
            "grid_column": null,
            "grid_gap": null,
            "grid_row": null,
            "grid_template_areas": null,
            "grid_template_columns": null,
            "grid_template_rows": null,
            "height": null,
            "justify_content": null,
            "justify_items": null,
            "left": null,
            "margin": null,
            "max_height": null,
            "max_width": null,
            "min_height": null,
            "min_width": null,
            "object_fit": null,
            "object_position": null,
            "order": null,
            "overflow": null,
            "overflow_x": null,
            "overflow_y": null,
            "padding": null,
            "right": null,
            "top": null,
            "visibility": null,
            "width": "600px"
          }
        },
        "911c3218fdcc431292dd9708170755cc": {
          "model_module": "@jupyter-widgets/controls",
          "model_name": "DescriptionStyleModel",
          "model_module_version": "1.5.0",
          "state": {
            "_model_module": "@jupyter-widgets/controls",
            "_model_module_version": "1.5.0",
            "_model_name": "DescriptionStyleModel",
            "_view_count": null,
            "_view_module": "@jupyter-widgets/base",
            "_view_module_version": "1.2.0",
            "_view_name": "StyleView",
            "description_width": ""
          }
        },
        "1bb7cf49ea1c4c31bef10d7e0876660d": {
          "model_module": "@jupyter-widgets/base",
          "model_name": "LayoutModel",
          "model_module_version": "1.2.0",
          "state": {
            "_model_module": "@jupyter-widgets/base",
            "_model_module_version": "1.2.0",
            "_model_name": "LayoutModel",
            "_view_count": null,
            "_view_module": "@jupyter-widgets/base",
            "_view_module_version": "1.2.0",
            "_view_name": "LayoutView",
            "align_content": null,
            "align_items": null,
            "align_self": null,
            "border": null,
            "bottom": null,
            "display": null,
            "flex": null,
            "flex_flow": null,
            "grid_area": null,
            "grid_auto_columns": null,
            "grid_auto_flow": null,
            "grid_auto_rows": null,
            "grid_column": null,
            "grid_gap": null,
            "grid_row": null,
            "grid_template_areas": null,
            "grid_template_columns": null,
            "grid_template_rows": null,
            "height": null,
            "justify_content": null,
            "justify_items": null,
            "left": null,
            "margin": null,
            "max_height": null,
            "max_width": null,
            "min_height": null,
            "min_width": null,
            "object_fit": null,
            "object_position": null,
            "order": null,
            "overflow": null,
            "overflow_x": null,
            "overflow_y": null,
            "padding": null,
            "right": null,
            "top": null,
            "visibility": null,
            "width": null
          }
        },
        "93d5a75ac7c54292b67d97d8f15c1e40": {
          "model_module": "@jupyter-widgets/controls",
          "model_name": "ButtonStyleModel",
          "model_module_version": "1.5.0",
          "state": {
            "_model_module": "@jupyter-widgets/controls",
            "_model_module_version": "1.5.0",
            "_model_name": "ButtonStyleModel",
            "_view_count": null,
            "_view_module": "@jupyter-widgets/base",
            "_view_module_version": "1.2.0",
            "_view_name": "StyleView",
            "button_color": null,
            "font_weight": ""
          }
        },
        "96c298f7df2f4cf39c74c7a0377db222": {
          "model_module": "@jupyter-widgets/base",
          "model_name": "LayoutModel",
          "model_module_version": "1.2.0",
          "state": {
            "_model_module": "@jupyter-widgets/base",
            "_model_module_version": "1.2.0",
            "_model_name": "LayoutModel",
            "_view_count": null,
            "_view_module": "@jupyter-widgets/base",
            "_view_module_version": "1.2.0",
            "_view_name": "LayoutView",
            "align_content": null,
            "align_items": null,
            "align_self": null,
            "border": null,
            "bottom": null,
            "display": null,
            "flex": null,
            "flex_flow": null,
            "grid_area": null,
            "grid_auto_columns": null,
            "grid_auto_flow": null,
            "grid_auto_rows": null,
            "grid_column": null,
            "grid_gap": null,
            "grid_row": null,
            "grid_template_areas": null,
            "grid_template_columns": null,
            "grid_template_rows": null,
            "height": null,
            "justify_content": null,
            "justify_items": null,
            "left": null,
            "margin": null,
            "max_height": null,
            "max_width": null,
            "min_height": null,
            "min_width": null,
            "object_fit": null,
            "object_position": null,
            "order": null,
            "overflow": null,
            "overflow_x": null,
            "overflow_y": null,
            "padding": null,
            "right": null,
            "top": null,
            "visibility": null,
            "width": null
          }
        },
        "4d540e12612741a6a76b583e7bdecba2": {
          "model_module": "@jupyter-widgets/controls",
          "model_name": "VBoxModel",
          "model_module_version": "1.5.0",
          "state": {
            "_dom_classes": [],
            "_model_module": "@jupyter-widgets/controls",
            "_model_module_version": "1.5.0",
            "_model_name": "VBoxModel",
            "_view_count": null,
            "_view_module": "@jupyter-widgets/controls",
            "_view_module_version": "1.5.0",
            "_view_name": "VBoxView",
            "box_style": "",
            "children": [
              "IPY_MODEL_9e22eb8a3b6241db9a8cdbc65b1f1fba",
              "IPY_MODEL_a6f150577ba2422d980b53a9aafbb281",
              "IPY_MODEL_6d7fe84cbb804915b4d842ee097ff9a6"
            ],
            "layout": "IPY_MODEL_4c5be25b946d42b091698e67a022c97c"
          }
        },
        "9e22eb8a3b6241db9a8cdbc65b1f1fba": {
          "model_module": "@jupyter-widgets/controls",
          "model_name": "TextModel",
          "model_module_version": "1.5.0",
          "state": {
            "_dom_classes": [],
            "_model_module": "@jupyter-widgets/controls",
            "_model_module_version": "1.5.0",
            "_model_name": "TextModel",
            "_view_count": null,
            "_view_module": "@jupyter-widgets/controls",
            "_view_module_version": "1.5.0",
            "_view_name": "TextView",
            "continuous_update": true,
            "description": "SMILES 9:",
            "description_tooltip": null,
            "disabled": false,
            "layout": "IPY_MODEL_e1fee4aeceb14a86a005525a686abf1c",
            "placeholder": "​",
            "style": "IPY_MODEL_62db6c5781a4413690c38a6a31ed95cb",
            "value": ""
          }
        },
        "a6f150577ba2422d980b53a9aafbb281": {
          "model_module": "@jupyter-widgets/controls",
          "model_name": "ButtonModel",
          "model_module_version": "1.5.0",
          "state": {
            "_dom_classes": [],
            "_model_module": "@jupyter-widgets/controls",
            "_model_module_version": "1.5.0",
            "_model_name": "ButtonModel",
            "_view_count": null,
            "_view_module": "@jupyter-widgets/controls",
            "_view_module_version": "1.5.0",
            "_view_name": "ButtonView",
            "button_style": "primary",
            "description": "Analyze",
            "disabled": false,
            "icon": "",
            "layout": "IPY_MODEL_e2d30253d40c413fb6bd4901bcdc8027",
            "style": "IPY_MODEL_a6d0f8ba39214c35b75074eb832cb009",
            "tooltip": ""
          }
        },
        "6d7fe84cbb804915b4d842ee097ff9a6": {
          "model_module": "@jupyter-widgets/output",
          "model_name": "OutputModel",
          "model_module_version": "1.0.0",
          "state": {
            "_dom_classes": [],
            "_model_module": "@jupyter-widgets/output",
            "_model_module_version": "1.0.0",
            "_model_name": "OutputModel",
            "_view_count": null,
            "_view_module": "@jupyter-widgets/output",
            "_view_module_version": "1.0.0",
            "_view_name": "OutputView",
            "layout": "IPY_MODEL_a1b4d051f6c5434884d1dfdf0e784d2e",
            "msg_id": "",
            "outputs": []
          }
        },
        "4c5be25b946d42b091698e67a022c97c": {
          "model_module": "@jupyter-widgets/base",
          "model_name": "LayoutModel",
          "model_module_version": "1.2.0",
          "state": {
            "_model_module": "@jupyter-widgets/base",
            "_model_module_version": "1.2.0",
            "_model_name": "LayoutModel",
            "_view_count": null,
            "_view_module": "@jupyter-widgets/base",
            "_view_module_version": "1.2.0",
            "_view_name": "LayoutView",
            "align_content": null,
            "align_items": null,
            "align_self": null,
            "border": null,
            "bottom": null,
            "display": null,
            "flex": null,
            "flex_flow": null,
            "grid_area": null,
            "grid_auto_columns": null,
            "grid_auto_flow": null,
            "grid_auto_rows": null,
            "grid_column": null,
            "grid_gap": null,
            "grid_row": null,
            "grid_template_areas": null,
            "grid_template_columns": null,
            "grid_template_rows": null,
            "height": null,
            "justify_content": null,
            "justify_items": null,
            "left": null,
            "margin": null,
            "max_height": null,
            "max_width": null,
            "min_height": null,
            "min_width": null,
            "object_fit": null,
            "object_position": null,
            "order": null,
            "overflow": null,
            "overflow_x": null,
            "overflow_y": null,
            "padding": null,
            "right": null,
            "top": null,
            "visibility": null,
            "width": null
          }
        },
        "e1fee4aeceb14a86a005525a686abf1c": {
          "model_module": "@jupyter-widgets/base",
          "model_name": "LayoutModel",
          "model_module_version": "1.2.0",
          "state": {
            "_model_module": "@jupyter-widgets/base",
            "_model_module_version": "1.2.0",
            "_model_name": "LayoutModel",
            "_view_count": null,
            "_view_module": "@jupyter-widgets/base",
            "_view_module_version": "1.2.0",
            "_view_name": "LayoutView",
            "align_content": null,
            "align_items": null,
            "align_self": null,
            "border": null,
            "bottom": null,
            "display": null,
            "flex": null,
            "flex_flow": null,
            "grid_area": null,
            "grid_auto_columns": null,
            "grid_auto_flow": null,
            "grid_auto_rows": null,
            "grid_column": null,
            "grid_gap": null,
            "grid_row": null,
            "grid_template_areas": null,
            "grid_template_columns": null,
            "grid_template_rows": null,
            "height": null,
            "justify_content": null,
            "justify_items": null,
            "left": null,
            "margin": null,
            "max_height": null,
            "max_width": null,
            "min_height": null,
            "min_width": null,
            "object_fit": null,
            "object_position": null,
            "order": null,
            "overflow": null,
            "overflow_x": null,
            "overflow_y": null,
            "padding": null,
            "right": null,
            "top": null,
            "visibility": null,
            "width": "600px"
          }
        },
        "62db6c5781a4413690c38a6a31ed95cb": {
          "model_module": "@jupyter-widgets/controls",
          "model_name": "DescriptionStyleModel",
          "model_module_version": "1.5.0",
          "state": {
            "_model_module": "@jupyter-widgets/controls",
            "_model_module_version": "1.5.0",
            "_model_name": "DescriptionStyleModel",
            "_view_count": null,
            "_view_module": "@jupyter-widgets/base",
            "_view_module_version": "1.2.0",
            "_view_name": "StyleView",
            "description_width": ""
          }
        },
        "e2d30253d40c413fb6bd4901bcdc8027": {
          "model_module": "@jupyter-widgets/base",
          "model_name": "LayoutModel",
          "model_module_version": "1.2.0",
          "state": {
            "_model_module": "@jupyter-widgets/base",
            "_model_module_version": "1.2.0",
            "_model_name": "LayoutModel",
            "_view_count": null,
            "_view_module": "@jupyter-widgets/base",
            "_view_module_version": "1.2.0",
            "_view_name": "LayoutView",
            "align_content": null,
            "align_items": null,
            "align_self": null,
            "border": null,
            "bottom": null,
            "display": null,
            "flex": null,
            "flex_flow": null,
            "grid_area": null,
            "grid_auto_columns": null,
            "grid_auto_flow": null,
            "grid_auto_rows": null,
            "grid_column": null,
            "grid_gap": null,
            "grid_row": null,
            "grid_template_areas": null,
            "grid_template_columns": null,
            "grid_template_rows": null,
            "height": null,
            "justify_content": null,
            "justify_items": null,
            "left": null,
            "margin": null,
            "max_height": null,
            "max_width": null,
            "min_height": null,
            "min_width": null,
            "object_fit": null,
            "object_position": null,
            "order": null,
            "overflow": null,
            "overflow_x": null,
            "overflow_y": null,
            "padding": null,
            "right": null,
            "top": null,
            "visibility": null,
            "width": null
          }
        },
        "a6d0f8ba39214c35b75074eb832cb009": {
          "model_module": "@jupyter-widgets/controls",
          "model_name": "ButtonStyleModel",
          "model_module_version": "1.5.0",
          "state": {
            "_model_module": "@jupyter-widgets/controls",
            "_model_module_version": "1.5.0",
            "_model_name": "ButtonStyleModel",
            "_view_count": null,
            "_view_module": "@jupyter-widgets/base",
            "_view_module_version": "1.2.0",
            "_view_name": "StyleView",
            "button_color": null,
            "font_weight": ""
          }
        },
        "a1b4d051f6c5434884d1dfdf0e784d2e": {
          "model_module": "@jupyter-widgets/base",
          "model_name": "LayoutModel",
          "model_module_version": "1.2.0",
          "state": {
            "_model_module": "@jupyter-widgets/base",
            "_model_module_version": "1.2.0",
            "_model_name": "LayoutModel",
            "_view_count": null,
            "_view_module": "@jupyter-widgets/base",
            "_view_module_version": "1.2.0",
            "_view_name": "LayoutView",
            "align_content": null,
            "align_items": null,
            "align_self": null,
            "border": null,
            "bottom": null,
            "display": null,
            "flex": null,
            "flex_flow": null,
            "grid_area": null,
            "grid_auto_columns": null,
            "grid_auto_flow": null,
            "grid_auto_rows": null,
            "grid_column": null,
            "grid_gap": null,
            "grid_row": null,
            "grid_template_areas": null,
            "grid_template_columns": null,
            "grid_template_rows": null,
            "height": null,
            "justify_content": null,
            "justify_items": null,
            "left": null,
            "margin": null,
            "max_height": null,
            "max_width": null,
            "min_height": null,
            "min_width": null,
            "object_fit": null,
            "object_position": null,
            "order": null,
            "overflow": null,
            "overflow_x": null,
            "overflow_y": null,
            "padding": null,
            "right": null,
            "top": null,
            "visibility": null,
            "width": null
          }
        }
      }
    }
  },
  "nbformat": 4,
  "nbformat_minor": 0
}